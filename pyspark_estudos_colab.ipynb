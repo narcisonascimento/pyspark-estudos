{
  "cells": [
    {
      "cell_type": "markdown",
      "metadata": {
        "id": "view-in-github",
        "colab_type": "text"
      },
      "source": [
        "<a href=\"https://colab.research.google.com/github/narcisonascimento/pyspark-estudos/blob/main/pyspark_estudos_colab.ipynb\" target=\"_parent\"><img src=\"https://colab.research.google.com/assets/colab-badge.svg\" alt=\"Open In Colab\"/></a>"
      ]
    },
    {
      "cell_type": "markdown",
      "metadata": {
        "id": "1FcCuPtJf1C9"
      },
      "source": [
        "# Pyspark Estudos <br>\n",
        "Fundamentos do Pyspark <br>\n",
        "Professor: Renan Marques Rodrigues <br>\n",
        "Youtube: DataDev Academy | https://www.youtube.com/@datadevacademy <br>\n",
        "Dataset: https://www.kaggle.com/datasets/djamshed/fifa-world-cup-2018-players"
      ]
    },
    {
      "cell_type": "markdown",
      "source": [
        "# Aula 1"
      ],
      "metadata": {
        "id": "iJdp-anMPaSb"
      }
    },
    {
      "cell_type": "markdown",
      "metadata": {
        "id": "lhDuHS6df1C-"
      },
      "source": [
        "# Instalando bibliotecas"
      ]
    },
    {
      "cell_type": "code",
      "execution_count": 1,
      "metadata": {
        "id": "Zduf_PuAf1C-"
      },
      "outputs": [],
      "source": [
        "# instalando pyspark\n",
        "# !pip install pyspark"
      ]
    },
    {
      "cell_type": "code",
      "execution_count": 2,
      "metadata": {
        "id": "64tctuS5f1C_"
      },
      "outputs": [],
      "source": [
        "# pip freeze"
      ]
    },
    {
      "cell_type": "markdown",
      "metadata": {
        "id": "Tgs_A8UKf1C_"
      },
      "source": [
        "# Importando Bibliotecas"
      ]
    },
    {
      "cell_type": "code",
      "execution_count": 3,
      "metadata": {
        "id": "H958kwzGf1C_"
      },
      "outputs": [],
      "source": [
        "import os\n",
        "import sys\n",
        "\n",
        "from pyspark.sql import SparkSession\n",
        "from pyspark.sql.functions import *\n",
        "from pyspark.sql.types import *\n",
        "\n",
        "# os.environ['PYSPARK_PYTHON'] = sys.executable\n",
        "# os.environ['PYSPARK_DRIVER_PYTHON'] = sys.executable"
      ]
    },
    {
      "cell_type": "markdown",
      "metadata": {
        "id": "nbdqOek6f1C_"
      },
      "source": [
        "# Criar / iniciar Sessão PySpark"
      ]
    },
    {
      "cell_type": "code",
      "execution_count": 4,
      "metadata": {
        "id": "JVXv7TLjf1C_"
      },
      "outputs": [],
      "source": [
        "spark = (\n",
        "    SparkSession.builder\n",
        "    .master('local')\n",
        "    .appName('pyspark-estudos')\n",
        "    .getOrCreate()\n",
        ")"
      ]
    },
    {
      "cell_type": "markdown",
      "source": [
        "# Criar DF / ler arquivo"
      ],
      "metadata": {
        "id": "5xElpRfKgSdb"
      }
    },
    {
      "cell_type": "markdown",
      "source": [
        "# Verificar tipos de colunas"
      ],
      "metadata": {
        "id": "er87iVr2hRI9"
      }
    },
    {
      "cell_type": "code",
      "source": [
        "df = spark.read.csv('/content/wc2018-players.csv', header=True, inferSchema=True)\n",
        "df.show(5)"
      ],
      "metadata": {
        "id": "gr-YtsCkgb_6",
        "outputId": "47a2a46b-65cf-4882-ff0a-7394a8c58d36",
        "colab": {
          "base_uri": "https://localhost:8080/"
        }
      },
      "execution_count": 5,
      "outputs": [
        {
          "output_type": "stream",
          "name": "stdout",
          "text": [
            "+---------+---+----+------------------+----------+----------+--------------------+------+------+\n",
            "|     Team|  #|Pos.| FIFA Popular Name|Birth Date|Shirt Name|                Club|Height|Weight|\n",
            "+---------+---+----+------------------+----------+----------+--------------------+------+------+\n",
            "|Argentina|  3|  DF|TAGLIAFICO Nicolas|31.08.1992|TAGLIAFICO|      AFC Ajax (NED)|   169|    65|\n",
            "|Argentina| 22|  MF|    PAVON Cristian|21.01.1996|     PAVÓN|CA Boca Juniors (...|   169|    65|\n",
            "|Argentina| 15|  MF|    LANZINI Manuel|15.02.1993|   LANZINI|West Ham United F...|   167|    66|\n",
            "|Argentina| 18|  DF|    SALVIO Eduardo|13.07.1990|    SALVIO|    SL Benfica (POR)|   167|    69|\n",
            "|Argentina| 10|  FW|      MESSI Lionel|24.06.1987|     MESSI|  FC Barcelona (ESP)|   170|    72|\n",
            "+---------+---+----+------------------+----------+----------+--------------------+------+------+\n",
            "only showing top 5 rows\n",
            "\n"
          ]
        }
      ]
    },
    {
      "cell_type": "code",
      "source": [
        "df.printSchema()"
      ],
      "metadata": {
        "id": "BTGKnkMAhTUq",
        "outputId": "3f7d7cfb-4e03-4817-dbb1-a9a81e650ca1",
        "colab": {
          "base_uri": "https://localhost:8080/"
        }
      },
      "execution_count": 6,
      "outputs": [
        {
          "output_type": "stream",
          "name": "stdout",
          "text": [
            "root\n",
            " |-- Team: string (nullable = true)\n",
            " |-- #: integer (nullable = true)\n",
            " |-- Pos.: string (nullable = true)\n",
            " |-- FIFA Popular Name: string (nullable = true)\n",
            " |-- Birth Date: string (nullable = true)\n",
            " |-- Shirt Name: string (nullable = true)\n",
            " |-- Club: string (nullable = true)\n",
            " |-- Height: integer (nullable = true)\n",
            " |-- Weight: integer (nullable = true)\n",
            "\n"
          ]
        }
      ]
    },
    {
      "cell_type": "markdown",
      "source": [
        "# Verificar dados nulos"
      ],
      "metadata": {
        "id": "5UHGUpQOhdxL"
      }
    },
    {
      "cell_type": "code",
      "source": [
        "# transformando em Pandas e efetuando a soma. Aqui só funciona com poucas linhas no dataset\n",
        "df.toPandas().isna().sum()"
      ],
      "metadata": {
        "id": "Yf9av9EahfhT",
        "outputId": "4e153dc0-0bc7-4e83-abaf-2b2b47b76a37",
        "colab": {
          "base_uri": "https://localhost:8080/"
        }
      },
      "execution_count": 7,
      "outputs": [
        {
          "output_type": "execute_result",
          "data": {
            "text/plain": [
              "Team                 0\n",
              "#                    0\n",
              "Pos.                 0\n",
              "FIFA Popular Name    0\n",
              "Birth Date           0\n",
              "Shirt Name           0\n",
              "Club                 0\n",
              "Height               0\n",
              "Weight               0\n",
              "dtype: int64"
            ]
          },
          "metadata": {},
          "execution_count": 7
        }
      ]
    },
    {
      "cell_type": "code",
      "source": [
        "# verificando as colunas existentes\n",
        "df.columns"
      ],
      "metadata": {
        "colab": {
          "base_uri": "https://localhost:8080/"
        },
        "id": "i4PzgYyYjAPk",
        "outputId": "83b41b56-74c5-46ad-ba3e-461b26156a6b"
      },
      "execution_count": 8,
      "outputs": [
        {
          "output_type": "execute_result",
          "data": {
            "text/plain": [
              "['Team',\n",
              " '#',\n",
              " 'Pos.',\n",
              " 'FIFA Popular Name',\n",
              " 'Birth Date',\n",
              " 'Shirt Name',\n",
              " 'Club',\n",
              " 'Height',\n",
              " 'Weight']"
            ]
          },
          "metadata": {},
          "execution_count": 8
        }
      ]
    },
    {
      "cell_type": "code",
      "source": [
        "# No PySpark deve ser feito um looping for, esse looping demora dependendo do tamanho do dataset\n",
        "# Este for apresentará erro por conta do nome da coluna onde Pos. tem um ponto.\n",
        "for coluna in df.columns:\n",
        "    print(coluna, df.filter(df[coluna].isNull()).count())"
      ],
      "metadata": {
        "id": "8XlMn_7hhuKy",
        "colab": {
          "base_uri": "https://localhost:8080/",
          "height": 356
        },
        "outputId": "2c97f961-f80c-4df0-b87a-e895418049a9"
      },
      "execution_count": 9,
      "outputs": [
        {
          "output_type": "stream",
          "name": "stdout",
          "text": [
            "Team 0\n",
            "# 0\n"
          ]
        },
        {
          "output_type": "error",
          "ename": "AnalysisException",
          "evalue": "Syntax error in attribute name: Pos..",
          "traceback": [
            "\u001b[0;31m---------------------------------------------------------------------------\u001b[0m",
            "\u001b[0;31mAnalysisException\u001b[0m                         Traceback (most recent call last)",
            "\u001b[0;32m<ipython-input-9-27afad8f021d>\u001b[0m in \u001b[0;36m<cell line: 3>\u001b[0;34m()\u001b[0m\n\u001b[1;32m      2\u001b[0m \u001b[0;31m# Este for apresentará erro por conta do nome da coluna onde Pos. tem um ponto.\u001b[0m\u001b[0;34m\u001b[0m\u001b[0;34m\u001b[0m\u001b[0m\n\u001b[1;32m      3\u001b[0m \u001b[0;32mfor\u001b[0m \u001b[0mcoluna\u001b[0m \u001b[0;32min\u001b[0m \u001b[0mdf\u001b[0m\u001b[0;34m.\u001b[0m\u001b[0mcolumns\u001b[0m\u001b[0;34m:\u001b[0m\u001b[0;34m\u001b[0m\u001b[0;34m\u001b[0m\u001b[0m\n\u001b[0;32m----> 4\u001b[0;31m     \u001b[0mprint\u001b[0m\u001b[0;34m(\u001b[0m\u001b[0mcoluna\u001b[0m\u001b[0;34m,\u001b[0m \u001b[0mdf\u001b[0m\u001b[0;34m.\u001b[0m\u001b[0mfilter\u001b[0m\u001b[0;34m(\u001b[0m\u001b[0mdf\u001b[0m\u001b[0;34m[\u001b[0m\u001b[0mcoluna\u001b[0m\u001b[0;34m]\u001b[0m\u001b[0;34m.\u001b[0m\u001b[0misNull\u001b[0m\u001b[0;34m(\u001b[0m\u001b[0;34m)\u001b[0m\u001b[0;34m)\u001b[0m\u001b[0;34m.\u001b[0m\u001b[0mcount\u001b[0m\u001b[0;34m(\u001b[0m\u001b[0;34m)\u001b[0m\u001b[0;34m)\u001b[0m\u001b[0;34m\u001b[0m\u001b[0;34m\u001b[0m\u001b[0m\n\u001b[0m",
            "\u001b[0;32m/usr/local/lib/python3.10/dist-packages/pyspark/sql/dataframe.py\u001b[0m in \u001b[0;36m__getitem__\u001b[0;34m(self, item)\u001b[0m\n\u001b[1;32m   3076\u001b[0m         \"\"\"\n\u001b[1;32m   3077\u001b[0m         \u001b[0;32mif\u001b[0m \u001b[0misinstance\u001b[0m\u001b[0;34m(\u001b[0m\u001b[0mitem\u001b[0m\u001b[0;34m,\u001b[0m \u001b[0mstr\u001b[0m\u001b[0;34m)\u001b[0m\u001b[0;34m:\u001b[0m\u001b[0;34m\u001b[0m\u001b[0;34m\u001b[0m\u001b[0m\n\u001b[0;32m-> 3078\u001b[0;31m             \u001b[0mjc\u001b[0m \u001b[0;34m=\u001b[0m \u001b[0mself\u001b[0m\u001b[0;34m.\u001b[0m\u001b[0m_jdf\u001b[0m\u001b[0;34m.\u001b[0m\u001b[0mapply\u001b[0m\u001b[0;34m(\u001b[0m\u001b[0mitem\u001b[0m\u001b[0;34m)\u001b[0m\u001b[0;34m\u001b[0m\u001b[0;34m\u001b[0m\u001b[0m\n\u001b[0m\u001b[1;32m   3079\u001b[0m             \u001b[0;32mreturn\u001b[0m \u001b[0mColumn\u001b[0m\u001b[0;34m(\u001b[0m\u001b[0mjc\u001b[0m\u001b[0;34m)\u001b[0m\u001b[0;34m\u001b[0m\u001b[0;34m\u001b[0m\u001b[0m\n\u001b[1;32m   3080\u001b[0m         \u001b[0;32melif\u001b[0m \u001b[0misinstance\u001b[0m\u001b[0;34m(\u001b[0m\u001b[0mitem\u001b[0m\u001b[0;34m,\u001b[0m \u001b[0mColumn\u001b[0m\u001b[0;34m)\u001b[0m\u001b[0;34m:\u001b[0m\u001b[0;34m\u001b[0m\u001b[0;34m\u001b[0m\u001b[0m\n",
            "\u001b[0;32m/usr/local/lib/python3.10/dist-packages/py4j/java_gateway.py\u001b[0m in \u001b[0;36m__call__\u001b[0;34m(self, *args)\u001b[0m\n\u001b[1;32m   1320\u001b[0m \u001b[0;34m\u001b[0m\u001b[0m\n\u001b[1;32m   1321\u001b[0m         \u001b[0manswer\u001b[0m \u001b[0;34m=\u001b[0m \u001b[0mself\u001b[0m\u001b[0;34m.\u001b[0m\u001b[0mgateway_client\u001b[0m\u001b[0;34m.\u001b[0m\u001b[0msend_command\u001b[0m\u001b[0;34m(\u001b[0m\u001b[0mcommand\u001b[0m\u001b[0;34m)\u001b[0m\u001b[0;34m\u001b[0m\u001b[0;34m\u001b[0m\u001b[0m\n\u001b[0;32m-> 1322\u001b[0;31m         return_value = get_return_value(\n\u001b[0m\u001b[1;32m   1323\u001b[0m             answer, self.gateway_client, self.target_id, self.name)\n\u001b[1;32m   1324\u001b[0m \u001b[0;34m\u001b[0m\u001b[0m\n",
            "\u001b[0;32m/usr/local/lib/python3.10/dist-packages/pyspark/errors/exceptions/captured.py\u001b[0m in \u001b[0;36mdeco\u001b[0;34m(*a, **kw)\u001b[0m\n\u001b[1;32m    183\u001b[0m                 \u001b[0;31m# Hide where the exception came from that shows a non-Pythonic\u001b[0m\u001b[0;34m\u001b[0m\u001b[0;34m\u001b[0m\u001b[0m\n\u001b[1;32m    184\u001b[0m                 \u001b[0;31m# JVM exception message.\u001b[0m\u001b[0;34m\u001b[0m\u001b[0;34m\u001b[0m\u001b[0m\n\u001b[0;32m--> 185\u001b[0;31m                 \u001b[0;32mraise\u001b[0m \u001b[0mconverted\u001b[0m \u001b[0;32mfrom\u001b[0m \u001b[0;32mNone\u001b[0m\u001b[0;34m\u001b[0m\u001b[0;34m\u001b[0m\u001b[0m\n\u001b[0m\u001b[1;32m    186\u001b[0m             \u001b[0;32melse\u001b[0m\u001b[0;34m:\u001b[0m\u001b[0;34m\u001b[0m\u001b[0;34m\u001b[0m\u001b[0m\n\u001b[1;32m    187\u001b[0m                 \u001b[0;32mraise\u001b[0m\u001b[0;34m\u001b[0m\u001b[0;34m\u001b[0m\u001b[0m\n",
            "\u001b[0;31mAnalysisException\u001b[0m: Syntax error in attribute name: Pos.."
          ]
        }
      ]
    },
    {
      "cell_type": "markdown",
      "source": [
        "# Renomear colunas <br>\n",
        "PySpark não aceita pontos no nome e também deve ter atenção com espaço entre palavras."
      ],
      "metadata": {
        "id": "4849wzjHkOtL"
      }
    },
    {
      "cell_type": "code",
      "source": [
        "df = df.withColumnRenamed('Team', 'selecao')\\\n",
        ".withColumnRenamed('#', 'numero')\\\n",
        ".withColumnRenamed('Pos.', 'posicao')\\\n",
        ".withColumnRenamed('FIFA Popular Name', 'nome_fifa')\\\n",
        ".withColumnRenamed('Birth Date', 'data_nasc')\\\n",
        ".withColumnRenamed('Shirt Name', 'nome_camisa')\\\n",
        ".withColumnRenamed('Club', 'time')\\\n",
        ".withColumnRenamed('Height', 'altura')\\\n",
        ".withColumnRenamed('Weight', 'peso')"
      ],
      "metadata": {
        "id": "-srAGRJskaD6"
      },
      "execution_count": 10,
      "outputs": []
    },
    {
      "cell_type": "code",
      "source": [
        "df.columns"
      ],
      "metadata": {
        "colab": {
          "base_uri": "https://localhost:8080/"
        },
        "id": "HwySg2rFlry6",
        "outputId": "a32121c2-294d-4871-ff05-294ea9fde1e8"
      },
      "execution_count": 11,
      "outputs": [
        {
          "output_type": "execute_result",
          "data": {
            "text/plain": [
              "['selecao',\n",
              " 'numero',\n",
              " 'posicao',\n",
              " 'nome_fifa',\n",
              " 'data_nasc',\n",
              " 'nome_camisa',\n",
              " 'time',\n",
              " 'altura',\n",
              " 'peso']"
            ]
          },
          "metadata": {},
          "execution_count": 11
        }
      ]
    },
    {
      "cell_type": "code",
      "source": [
        "# após as devidas correções é possível efetuar o looping no dataset\n",
        "\n",
        "for coluna in df.columns:\n",
        "    print(coluna, df.filter(df[coluna].isNull()).count())"
      ],
      "metadata": {
        "colab": {
          "base_uri": "https://localhost:8080/"
        },
        "id": "2pUJHi5Ilx5T",
        "outputId": "af13a9e7-e6a5-461b-e5c8-f1e2dacd5197"
      },
      "execution_count": 12,
      "outputs": [
        {
          "output_type": "stream",
          "name": "stdout",
          "text": [
            "selecao 0\n",
            "numero 0\n",
            "posicao 0\n",
            "nome_fifa 0\n",
            "data_nasc 0\n",
            "nome_camisa 0\n",
            "time 0\n",
            "altura 0\n",
            "peso 0\n"
          ]
        }
      ]
    },
    {
      "cell_type": "markdown",
      "source": [
        "# Selecionar colunas"
      ],
      "metadata": {
        "id": "yR_wEppNl9us"
      }
    },
    {
      "cell_type": "code",
      "source": [
        "# diferente do Pandas o PySpark altera o nome da coluna original quando escrita de forma diferente (caps lock etc).\n",
        "df.select('selecao', 'nome_fifa').show(5)"
      ],
      "metadata": {
        "colab": {
          "base_uri": "https://localhost:8080/"
        },
        "id": "U7gM3e1Yl_ew",
        "outputId": "9f988cfb-e3f6-43b9-c047-31e4f00e9047"
      },
      "execution_count": 13,
      "outputs": [
        {
          "output_type": "stream",
          "name": "stdout",
          "text": [
            "+---------+------------------+\n",
            "|  selecao|         nome_fifa|\n",
            "+---------+------------------+\n",
            "|Argentina|TAGLIAFICO Nicolas|\n",
            "|Argentina|    PAVON Cristian|\n",
            "|Argentina|    LANZINI Manuel|\n",
            "|Argentina|    SALVIO Eduardo|\n",
            "|Argentina|      MESSI Lionel|\n",
            "+---------+------------------+\n",
            "only showing top 5 rows\n",
            "\n"
          ]
        }
      ]
    },
    {
      "cell_type": "code",
      "source": [
        "df.select('SELECAO', 'NOME_FIFA').show(5)"
      ],
      "metadata": {
        "colab": {
          "base_uri": "https://localhost:8080/"
        },
        "id": "RooeqFKNmVfL",
        "outputId": "5a4096b6-fcbc-4a84-ac93-c8771eb33b31"
      },
      "execution_count": 14,
      "outputs": [
        {
          "output_type": "stream",
          "name": "stdout",
          "text": [
            "+---------+------------------+\n",
            "|  SELECAO|         NOME_FIFA|\n",
            "+---------+------------------+\n",
            "|Argentina|TAGLIAFICO Nicolas|\n",
            "|Argentina|    PAVON Cristian|\n",
            "|Argentina|    LANZINI Manuel|\n",
            "|Argentina|    SALVIO Eduardo|\n",
            "|Argentina|      MESSI Lionel|\n",
            "+---------+------------------+\n",
            "only showing top 5 rows\n",
            "\n"
          ]
        }
      ]
    },
    {
      "cell_type": "markdown",
      "source": [
        "Pode selecionar colunas com o 'col'"
      ],
      "metadata": {
        "id": "0ph1Mdy2nI96"
      }
    },
    {
      "cell_type": "code",
      "source": [
        "df.select(col('selecao'), col('nome_camisa'), col('altura')).show(5)"
      ],
      "metadata": {
        "colab": {
          "base_uri": "https://localhost:8080/"
        },
        "id": "ObjxaQIMmaHQ",
        "outputId": "c233a61a-a872-4721-8f93-0598d04bb4f4"
      },
      "execution_count": 15,
      "outputs": [
        {
          "output_type": "stream",
          "name": "stdout",
          "text": [
            "+---------+-----------+------+\n",
            "|  selecao|nome_camisa|altura|\n",
            "+---------+-----------+------+\n",
            "|Argentina| TAGLIAFICO|   169|\n",
            "|Argentina|      PAVÓN|   169|\n",
            "|Argentina|    LANZINI|   167|\n",
            "|Argentina|     SALVIO|   167|\n",
            "|Argentina|      MESSI|   170|\n",
            "+---------+-----------+------+\n",
            "only showing top 5 rows\n",
            "\n"
          ]
        }
      ]
    },
    {
      "cell_type": "markdown",
      "source": [
        "ou pode selecioar com o dataframe['nome_coluna']"
      ],
      "metadata": {
        "id": "kxO6VnArnRTD"
      }
    },
    {
      "cell_type": "code",
      "source": [
        "df.select(df['selecao'], df['nome_camisa'], df['altura']).show(5)"
      ],
      "metadata": {
        "colab": {
          "base_uri": "https://localhost:8080/"
        },
        "id": "nC59M8wAm8wk",
        "outputId": "d713b518-48c0-4808-9f2f-eec134e2f922"
      },
      "execution_count": 16,
      "outputs": [
        {
          "output_type": "stream",
          "name": "stdout",
          "text": [
            "+---------+-----------+------+\n",
            "|  selecao|nome_camisa|altura|\n",
            "+---------+-----------+------+\n",
            "|Argentina| TAGLIAFICO|   169|\n",
            "|Argentina|      PAVÓN|   169|\n",
            "|Argentina|    LANZINI|   167|\n",
            "|Argentina|     SALVIO|   167|\n",
            "|Argentina|      MESSI|   170|\n",
            "+---------+-----------+------+\n",
            "only showing top 5 rows\n",
            "\n"
          ]
        }
      ]
    },
    {
      "cell_type": "markdown",
      "source": [
        "# Selecionar Colunas com ALIAS"
      ],
      "metadata": {
        "id": "1ORxHbxRnbgi"
      }
    },
    {
      "cell_type": "code",
      "source": [
        "df.select(col('selecao').alias('time')).show(5)"
      ],
      "metadata": {
        "colab": {
          "base_uri": "https://localhost:8080/"
        },
        "id": "rCllqUN_ndyd",
        "outputId": "7ff9688a-3ed6-4aa3-f4fe-6010086fbc97"
      },
      "execution_count": 17,
      "outputs": [
        {
          "output_type": "stream",
          "name": "stdout",
          "text": [
            "+---------+\n",
            "|     time|\n",
            "+---------+\n",
            "|Argentina|\n",
            "|Argentina|\n",
            "|Argentina|\n",
            "|Argentina|\n",
            "|Argentina|\n",
            "+---------+\n",
            "only showing top 5 rows\n",
            "\n"
          ]
        }
      ]
    },
    {
      "cell_type": "code",
      "source": [
        "# utilizando o split para separar as colunas\n",
        "df.select('selecao nome_fifa altura'.split()).show(5)"
      ],
      "metadata": {
        "colab": {
          "base_uri": "https://localhost:8080/"
        },
        "id": "W_s-jIdnr0ob",
        "outputId": "1d1dd391-1e5e-437a-b710-f38b7f85c839"
      },
      "execution_count": 18,
      "outputs": [
        {
          "output_type": "stream",
          "name": "stdout",
          "text": [
            "+---------+------------------+------+\n",
            "|  selecao|         nome_fifa|altura|\n",
            "+---------+------------------+------+\n",
            "|Argentina|TAGLIAFICO Nicolas|   169|\n",
            "|Argentina|    PAVON Cristian|   169|\n",
            "|Argentina|    LANZINI Manuel|   167|\n",
            "|Argentina|    SALVIO Eduardo|   167|\n",
            "|Argentina|      MESSI Lionel|   170|\n",
            "+---------+------------------+------+\n",
            "only showing top 5 rows\n",
            "\n"
          ]
        }
      ]
    },
    {
      "cell_type": "markdown",
      "source": [
        "# Organizar o Select"
      ],
      "metadata": {
        "id": "aSK_LIY3ryKC"
      }
    },
    {
      "cell_type": "code",
      "source": [
        "df.select('nome_camisa', 'altura', 'peso').show(5)"
      ],
      "metadata": {
        "colab": {
          "base_uri": "https://localhost:8080/"
        },
        "id": "t1MVcpmXsI7I",
        "outputId": "129be6c7-faad-41b8-d619-5946d60b5860"
      },
      "execution_count": 19,
      "outputs": [
        {
          "output_type": "stream",
          "name": "stdout",
          "text": [
            "+-----------+------+----+\n",
            "|nome_camisa|altura|peso|\n",
            "+-----------+------+----+\n",
            "| TAGLIAFICO|   169|  65|\n",
            "|      PAVÓN|   169|  65|\n",
            "|    LANZINI|   167|  66|\n",
            "|     SALVIO|   167|  69|\n",
            "|      MESSI|   170|  72|\n",
            "+-----------+------+----+\n",
            "only showing top 5 rows\n",
            "\n"
          ]
        }
      ]
    },
    {
      "cell_type": "markdown",
      "source": [
        "# Filtrar o dataframe"
      ],
      "metadata": {
        "id": "Vqcd15qQsSO-"
      }
    },
    {
      "cell_type": "code",
      "source": [
        "df.filter('selecao = \"Brazil\"').show(10)"
      ],
      "metadata": {
        "colab": {
          "base_uri": "https://localhost:8080/"
        },
        "id": "eT28giVTsUKw",
        "outputId": "cf408b9f-4e2b-4cc2-9b7b-a76e1654cf5e"
      },
      "execution_count": 20,
      "outputs": [
        {
          "output_type": "stream",
          "name": "stdout",
          "text": [
            "+-------+------+-------+-----------------+----------+-----------+--------------------+------+----+\n",
            "|selecao|numero|posicao|        nome_fifa| data_nasc|nome_camisa|                time|altura|peso|\n",
            "+-------+------+-------+-----------------+----------+-----------+--------------------+------+----+\n",
            "| Brazil|    18|     MF|             FRED|05.03.1993|       FRED|FC Shakhtar Donet...|   169|  64|\n",
            "| Brazil|    21|     FW|           TAISON|13.01.1988|     TAISON|FC Shakhtar Donet...|   172|  64|\n",
            "| Brazil|    17|     MF|      FERNANDINHO|04.05.1985|FERNANDINHO|Manchester City F...|   179|  67|\n",
            "| Brazil|    22|     DF|           FAGNER|11.06.1989|     FAGNER|SC Corinthians (BRA)|   168|  67|\n",
            "| Brazil|    10|     FW|           NEYMAR|05.02.1992|  NEYMAR JR|Paris Saint-Germa...|   175|  68|\n",
            "| Brazil|    11|     MF|PHILIPPE COUTINHO|12.06.1992|P. COUTINHO|  FC Barcelona (ESP)|   172|  68|\n",
            "| Brazil|     7|     FW|    DOUGLAS COSTA|14.09.1990|   D. COSTA|   Juventus FC (ITA)|   182|  70|\n",
            "| Brazil|     6|     DF|      FILIPE LUIS|09.08.1985|FILIPE LUIS|Atletico Madrid (...|   182|  73|\n",
            "| Brazil|     9|     FW|    GABRIEL JESUS|03.04.1997|   G. JESUS|Manchester City F...|   175|  73|\n",
            "| Brazil|    13|     DF|       MARQUINHOS|14.05.1994| MARQUINHOS|Paris Saint-Germa...|   183|  75|\n",
            "+-------+------+-------+-----------------+----------+-----------+--------------------+------+----+\n",
            "only showing top 10 rows\n",
            "\n"
          ]
        }
      ]
    },
    {
      "cell_type": "code",
      "source": [
        "# caso o nome da coluna possua espaço, não pode fazer o filter direto como abaixo, deve chamar a função col\n",
        "df.filter('nome_camisa == \"FRED\"').show()"
      ],
      "metadata": {
        "colab": {
          "base_uri": "https://localhost:8080/"
        },
        "id": "0E47Uh6As4iu",
        "outputId": "e549b820-a7b2-4ae3-b933-287824de26df"
      },
      "execution_count": 21,
      "outputs": [
        {
          "output_type": "stream",
          "name": "stdout",
          "text": [
            "+-------+------+-------+---------+----------+-----------+--------------------+------+----+\n",
            "|selecao|numero|posicao|nome_fifa| data_nasc|nome_camisa|                time|altura|peso|\n",
            "+-------+------+-------+---------+----------+-----------+--------------------+------+----+\n",
            "| Brazil|    18|     MF|     FRED|05.03.1993|       FRED|FC Shakhtar Donet...|   169|  64|\n",
            "+-------+------+-------+---------+----------+-----------+--------------------+------+----+\n",
            "\n"
          ]
        }
      ]
    },
    {
      "cell_type": "code",
      "source": [
        "df.filter(col('nome_camisa') == 'FRED').show()"
      ],
      "metadata": {
        "colab": {
          "base_uri": "https://localhost:8080/"
        },
        "id": "jG6zzjPmtdHM",
        "outputId": "81fff2ec-eb10-480b-dacf-a6218f1e7b4b"
      },
      "execution_count": 22,
      "outputs": [
        {
          "output_type": "stream",
          "name": "stdout",
          "text": [
            "+-------+------+-------+---------+----------+-----------+--------------------+------+----+\n",
            "|selecao|numero|posicao|nome_fifa| data_nasc|nome_camisa|                time|altura|peso|\n",
            "+-------+------+-------+---------+----------+-----------+--------------------+------+----+\n",
            "| Brazil|    18|     MF|     FRED|05.03.1993|       FRED|FC Shakhtar Donet...|   169|  64|\n",
            "+-------+------+-------+---------+----------+-----------+--------------------+------+----+\n",
            "\n"
          ]
        }
      ]
    },
    {
      "cell_type": "markdown",
      "source": [
        "# Filtrar DF com 2 condições (and/&)"
      ],
      "metadata": {
        "id": "g5WkMY1QshlB"
      }
    },
    {
      "cell_type": "code",
      "source": [
        "df.filter((col('selecao') == \"England\") & (col('altura') >= 180) & (col('peso') >= 82)).show()"
      ],
      "metadata": {
        "colab": {
          "base_uri": "https://localhost:8080/"
        },
        "id": "cc5S7TPhsnLW",
        "outputId": "fc9686ae-a3e1-4e46-a9d7-333039bdf923"
      },
      "execution_count": 23,
      "outputs": [
        {
          "output_type": "stream",
          "name": "stdout",
          "text": [
            "+-------+------+-------+----------------+----------+-----------+--------------------+------+----+\n",
            "|selecao|numero|posicao|       nome_fifa| data_nasc|nome_camisa|                time|altura|peso|\n",
            "+-------+------+-------+----------------+----------+-----------+--------------------+------+----+\n",
            "|England|     8|     MF|HENDERSON Jordan|17.06.1990|  HENDERSON|  Liverpool FC (ENG)|   183|  82|\n",
            "|England|    15|     DF|     CAHILL Gary|19.12.1985|     CAHILL|    Chelsea FC (ENG)|   191|  85|\n",
            "|England|     4|     MF|       DIER Eric|15.01.1994|       DIER|Tottenham Hotspur...|   188|  90|\n",
            "|England|    13|     GK|    BUTLAND Jack|10.03.1993|    BUTLAND| Stoke City FC (ENG)|   196|  96|\n",
            "|England|     6|     DF|   MAGUIRE Harry|05.03.1993|    MAGUIRE|Leicester City FC...|   193|  98|\n",
            "|England|     9|     FW|      KANE Harry|28.07.1993|       KANE|Tottenham Hotspur...|   188|  98|\n",
            "+-------+------+-------+----------------+----------+-----------+--------------------+------+----+\n",
            "\n"
          ]
        }
      ]
    },
    {
      "cell_type": "code",
      "source": [
        "df.filter('selecao = \"Brazil\"').filter(col('numero') > 15).show()"
      ],
      "metadata": {
        "colab": {
          "base_uri": "https://localhost:8080/"
        },
        "id": "NJvLcLPAE6G6",
        "outputId": "0b0a234d-3f7e-49ef-c5ba-e7e9e89cd4ac"
      },
      "execution_count": 24,
      "outputs": [
        {
          "output_type": "stream",
          "name": "stdout",
          "text": [
            "+-------+------+-------+---------------+----------+-----------+--------------------+------+----+\n",
            "|selecao|numero|posicao|      nome_fifa| data_nasc|nome_camisa|                time|altura|peso|\n",
            "+-------+------+-------+---------------+----------+-----------+--------------------+------+----+\n",
            "| Brazil|    18|     MF|           FRED|05.03.1993|       FRED|FC Shakhtar Donet...|   169|  64|\n",
            "| Brazil|    21|     FW|         TAISON|13.01.1988|     TAISON|FC Shakhtar Donet...|   172|  64|\n",
            "| Brazil|    17|     MF|    FERNANDINHO|04.05.1985|FERNANDINHO|Manchester City F...|   179|  67|\n",
            "| Brazil|    22|     DF|         FAGNER|11.06.1989|     FAGNER|SC Corinthians (BRA)|   168|  67|\n",
            "| Brazil|    20|     FW|ROBERTO FIRMINO|02.10.1991|    FIRMINO|  Liverpool FC (ENG)|   181|  76|\n",
            "| Brazil|    19|     MF|        WILLIAN|09.08.1988|    WILLIAN|    Chelsea FC (ENG)|   175|  77|\n",
            "| Brazil|    23|     GK|        EDERSON|17.08.1993|    EDERSON|Manchester City F...|   188|  86|\n",
            "| Brazil|    16|     GK|         CASSIO|06.06.1987|     CASSIO|SC Corinthians (BRA)|   195|  92|\n",
            "+-------+------+-------+---------------+----------+-----------+--------------------+------+----+\n",
            "\n"
          ]
        }
      ]
    },
    {
      "cell_type": "markdown",
      "source": [
        "# Filter df com 2 condições (or/|)"
      ],
      "metadata": {
        "id": "UkRPL6yEE5c8"
      }
    },
    {
      "cell_type": "code",
      "source": [
        "df.filter((col('nome_fifa') == 'TAISON') | (col('nome_fifa') == 'MESSI Lionel')).show()"
      ],
      "metadata": {
        "colab": {
          "base_uri": "https://localhost:8080/"
        },
        "id": "rF3ho4r_Fe7d",
        "outputId": "eca36923-7623-4160-caa5-0435aed13843"
      },
      "execution_count": 25,
      "outputs": [
        {
          "output_type": "stream",
          "name": "stdout",
          "text": [
            "+---------+------+-------+------------+----------+-----------+--------------------+------+----+\n",
            "|  selecao|numero|posicao|   nome_fifa| data_nasc|nome_camisa|                time|altura|peso|\n",
            "+---------+------+-------+------------+----------+-----------+--------------------+------+----+\n",
            "|Argentina|    10|     FW|MESSI Lionel|24.06.1987|      MESSI|  FC Barcelona (ESP)|   170|  72|\n",
            "|   Brazil|    21|     FW|      TAISON|13.01.1988|     TAISON|FC Shakhtar Donet...|   172|  64|\n",
            "+---------+------+-------+------------+----------+-----------+--------------------+------+----+\n",
            "\n"
          ]
        }
      ]
    },
    {
      "cell_type": "markdown",
      "source": [
        "# Filter df combinando & e | (and e Or)"
      ],
      "metadata": {
        "id": "gj1sTfowGAs8"
      }
    },
    {
      "cell_type": "code",
      "source": [
        "df.filter((col('selecao') == 'Brazil') & (col('posicao') == 'DF') | (col('nome_fifa') == 'MESSI Lionel')).show()"
      ],
      "metadata": {
        "colab": {
          "base_uri": "https://localhost:8080/"
        },
        "id": "8phE5K5XGJsT",
        "outputId": "d28475bb-cd19-42f5-a315-07e258bff1e9"
      },
      "execution_count": 26,
      "outputs": [
        {
          "output_type": "stream",
          "name": "stdout",
          "text": [
            "+---------+------+-------+-------------+----------+-----------+--------------------+------+----+\n",
            "|  selecao|numero|posicao|    nome_fifa| data_nasc|nome_camisa|                time|altura|peso|\n",
            "+---------+------+-------+-------------+----------+-----------+--------------------+------+----+\n",
            "|Argentina|    10|     FW| MESSI Lionel|24.06.1987|      MESSI|  FC Barcelona (ESP)|   170|  72|\n",
            "|   Brazil|    22|     DF|       FAGNER|11.06.1989|     FAGNER|SC Corinthians (BRA)|   168|  67|\n",
            "|   Brazil|     6|     DF|  FILIPE LUIS|09.08.1985|FILIPE LUIS|Atletico Madrid (...|   182|  73|\n",
            "|   Brazil|    13|     DF|   MARQUINHOS|14.05.1994| MARQUINHOS|Paris Saint-Germa...|   183|  75|\n",
            "|   Brazil|     3|     DF|      MIRANDA|07.09.1984|    MIRANDA|FC Internazionale...|   186|  78|\n",
            "|   Brazil|    14|     DF|       DANILO|15.07.1991|     DANILO|Manchester City F...|   184|  78|\n",
            "|   Brazil|     2|     DF| THIAGO SILVA|22.09.1984|   T. SILVA|Paris Saint-Germa...|   183|  79|\n",
            "|   Brazil|    12|     DF|      MARCELO|12.05.1988|    MARCELO|Real Madrid CF (ESP)|   174|  80|\n",
            "|   Brazil|     4|     DF|PEDRO GEROMEL|21.09.1985|    GEROMEL|   Grêmio FBPA (BRA)|   190|  84|\n",
            "+---------+------+-------+-------------+----------+-----------+--------------------+------+----+\n",
            "\n"
          ]
        }
      ]
    },
    {
      "cell_type": "code",
      "source": [
        "df.filter((col('selecao') == 'Brazil') & (col('posicao') == 'DF') | (col('altura') == 199) & (col('selecao') == 'Belgium')).show()"
      ],
      "metadata": {
        "colab": {
          "base_uri": "https://localhost:8080/"
        },
        "id": "g67t-ng4HCVS",
        "outputId": "4a6136c1-246b-4680-d639-add144e20485"
      },
      "execution_count": 27,
      "outputs": [
        {
          "output_type": "stream",
          "name": "stdout",
          "text": [
            "+-------+------+-------+----------------+----------+-----------+--------------------+------+----+\n",
            "|selecao|numero|posicao|       nome_fifa| data_nasc|nome_camisa|                time|altura|peso|\n",
            "+-------+------+-------+----------------+----------+-----------+--------------------+------+----+\n",
            "|Belgium|     1|     GK|COURTOIS Thibaut|11.05.1992|   COURTOIS|    Chelsea FC (ENG)|   199|  91|\n",
            "| Brazil|    22|     DF|          FAGNER|11.06.1989|     FAGNER|SC Corinthians (BRA)|   168|  67|\n",
            "| Brazil|     6|     DF|     FILIPE LUIS|09.08.1985|FILIPE LUIS|Atletico Madrid (...|   182|  73|\n",
            "| Brazil|    13|     DF|      MARQUINHOS|14.05.1994| MARQUINHOS|Paris Saint-Germa...|   183|  75|\n",
            "| Brazil|     3|     DF|         MIRANDA|07.09.1984|    MIRANDA|FC Internazionale...|   186|  78|\n",
            "| Brazil|    14|     DF|          DANILO|15.07.1991|     DANILO|Manchester City F...|   184|  78|\n",
            "| Brazil|     2|     DF|    THIAGO SILVA|22.09.1984|   T. SILVA|Paris Saint-Germa...|   183|  79|\n",
            "| Brazil|    12|     DF|         MARCELO|12.05.1988|    MARCELO|Real Madrid CF (ESP)|   174|  80|\n",
            "| Brazil|     4|     DF|   PEDRO GEROMEL|21.09.1985|    GEROMEL|   Grêmio FBPA (BRA)|   190|  84|\n",
            "+-------+------+-------+----------------+----------+-----------+--------------------+------+----+\n",
            "\n"
          ]
        }
      ]
    },
    {
      "cell_type": "markdown",
      "source": [
        "# Criar novas colunas usando a função lit"
      ],
      "metadata": {
        "id": "rMMSbAPUHedJ"
      }
    },
    {
      "cell_type": "code",
      "source": [
        "df.withColumn('worldcup', lit(2018)).show(5)"
      ],
      "metadata": {
        "colab": {
          "base_uri": "https://localhost:8080/"
        },
        "id": "yJbiOZqkHhob",
        "outputId": "45fc3844-28ac-4424-8fe6-e92db00e659c"
      },
      "execution_count": 28,
      "outputs": [
        {
          "output_type": "stream",
          "name": "stdout",
          "text": [
            "+---------+------+-------+------------------+----------+-----------+--------------------+------+----+--------+\n",
            "|  selecao|numero|posicao|         nome_fifa| data_nasc|nome_camisa|                time|altura|peso|worldcup|\n",
            "+---------+------+-------+------------------+----------+-----------+--------------------+------+----+--------+\n",
            "|Argentina|     3|     DF|TAGLIAFICO Nicolas|31.08.1992| TAGLIAFICO|      AFC Ajax (NED)|   169|  65|    2018|\n",
            "|Argentina|    22|     MF|    PAVON Cristian|21.01.1996|      PAVÓN|CA Boca Juniors (...|   169|  65|    2018|\n",
            "|Argentina|    15|     MF|    LANZINI Manuel|15.02.1993|    LANZINI|West Ham United F...|   167|  66|    2018|\n",
            "|Argentina|    18|     DF|    SALVIO Eduardo|13.07.1990|     SALVIO|    SL Benfica (POR)|   167|  69|    2018|\n",
            "|Argentina|    10|     FW|      MESSI Lionel|24.06.1987|      MESSI|  FC Barcelona (ESP)|   170|  72|    2018|\n",
            "+---------+------+-------+------------------+----------+-----------+--------------------+------+----+--------+\n",
            "only showing top 5 rows\n",
            "\n"
          ]
        }
      ]
    },
    {
      "cell_type": "code",
      "source": [
        "df.withColumn('coluna_nova', lit(col('altura') - col('peso'))).show(5)"
      ],
      "metadata": {
        "colab": {
          "base_uri": "https://localhost:8080/"
        },
        "id": "JXQGs17hH3Sm",
        "outputId": "d3a0418b-4868-4088-cd66-485943607800"
      },
      "execution_count": 29,
      "outputs": [
        {
          "output_type": "stream",
          "name": "stdout",
          "text": [
            "+---------+------+-------+------------------+----------+-----------+--------------------+------+----+-----------+\n",
            "|  selecao|numero|posicao|         nome_fifa| data_nasc|nome_camisa|                time|altura|peso|coluna_nova|\n",
            "+---------+------+-------+------------------+----------+-----------+--------------------+------+----+-----------+\n",
            "|Argentina|     3|     DF|TAGLIAFICO Nicolas|31.08.1992| TAGLIAFICO|      AFC Ajax (NED)|   169|  65|        104|\n",
            "|Argentina|    22|     MF|    PAVON Cristian|21.01.1996|      PAVÓN|CA Boca Juniors (...|   169|  65|        104|\n",
            "|Argentina|    15|     MF|    LANZINI Manuel|15.02.1993|    LANZINI|West Ham United F...|   167|  66|        101|\n",
            "|Argentina|    18|     DF|    SALVIO Eduardo|13.07.1990|     SALVIO|    SL Benfica (POR)|   167|  69|         98|\n",
            "|Argentina|    10|     FW|      MESSI Lionel|24.06.1987|      MESSI|  FC Barcelona (ESP)|   170|  72|         98|\n",
            "+---------+------+-------+------------------+----------+-----------+--------------------+------+----+-----------+\n",
            "only showing top 5 rows\n",
            "\n"
          ]
        }
      ]
    },
    {
      "cell_type": "markdown",
      "source": [
        "# Criar coluna condicional usando função substring"
      ],
      "metadata": {
        "id": "Uo1SzhTZIE4o"
      }
    },
    {
      "cell_type": "code",
      "source": [
        "df.withColumn('sub', substring('selecao', 1, 3)).show(5)"
      ],
      "metadata": {
        "colab": {
          "base_uri": "https://localhost:8080/"
        },
        "id": "JkUFkdqTIJLr",
        "outputId": "73291588-2ed0-453b-a9dd-27cd4883b514"
      },
      "execution_count": 30,
      "outputs": [
        {
          "output_type": "stream",
          "name": "stdout",
          "text": [
            "+---------+------+-------+------------------+----------+-----------+--------------------+------+----+---+\n",
            "|  selecao|numero|posicao|         nome_fifa| data_nasc|nome_camisa|                time|altura|peso|sub|\n",
            "+---------+------+-------+------------------+----------+-----------+--------------------+------+----+---+\n",
            "|Argentina|     3|     DF|TAGLIAFICO Nicolas|31.08.1992| TAGLIAFICO|      AFC Ajax (NED)|   169|  65|Arg|\n",
            "|Argentina|    22|     MF|    PAVON Cristian|21.01.1996|      PAVÓN|CA Boca Juniors (...|   169|  65|Arg|\n",
            "|Argentina|    15|     MF|    LANZINI Manuel|15.02.1993|    LANZINI|West Ham United F...|   167|  66|Arg|\n",
            "|Argentina|    18|     DF|    SALVIO Eduardo|13.07.1990|     SALVIO|    SL Benfica (POR)|   167|  69|Arg|\n",
            "|Argentina|    10|     FW|      MESSI Lionel|24.06.1987|      MESSI|  FC Barcelona (ESP)|   170|  72|Arg|\n",
            "+---------+------+-------+------------------+----------+-----------+--------------------+------+----+---+\n",
            "only showing top 5 rows\n",
            "\n"
          ]
        }
      ]
    },
    {
      "cell_type": "code",
      "source": [
        "df = df.withColumn('ano_nasc', substring('data_nasc', -4, 4))"
      ],
      "metadata": {
        "id": "HWp728pUIlxc"
      },
      "execution_count": 31,
      "outputs": []
    },
    {
      "cell_type": "markdown",
      "source": [
        "# Criar coluna condicional usando concat / concat_ws"
      ],
      "metadata": {
        "id": "jcU-Ro0CJBe6"
      }
    },
    {
      "cell_type": "code",
      "source": [
        "df.withColumn('concat', concat('selecao', col('nome_fifa'))).show(5)"
      ],
      "metadata": {
        "colab": {
          "base_uri": "https://localhost:8080/"
        },
        "id": "I-TfFSmTJG_q",
        "outputId": "509aa325-66af-4a1e-cb43-bd4b8c9adc78"
      },
      "execution_count": 32,
      "outputs": [
        {
          "output_type": "stream",
          "name": "stdout",
          "text": [
            "+---------+------+-------+------------------+----------+-----------+--------------------+------+----+--------+--------------------+\n",
            "|  selecao|numero|posicao|         nome_fifa| data_nasc|nome_camisa|                time|altura|peso|ano_nasc|              concat|\n",
            "+---------+------+-------+------------------+----------+-----------+--------------------+------+----+--------+--------------------+\n",
            "|Argentina|     3|     DF|TAGLIAFICO Nicolas|31.08.1992| TAGLIAFICO|      AFC Ajax (NED)|   169|  65|    1992|ArgentinaTAGLIAFI...|\n",
            "|Argentina|    22|     MF|    PAVON Cristian|21.01.1996|      PAVÓN|CA Boca Juniors (...|   169|  65|    1996|ArgentinaPAVON Cr...|\n",
            "|Argentina|    15|     MF|    LANZINI Manuel|15.02.1993|    LANZINI|West Ham United F...|   167|  66|    1993|ArgentinaLANZINI ...|\n",
            "|Argentina|    18|     DF|    SALVIO Eduardo|13.07.1990|     SALVIO|    SL Benfica (POR)|   167|  69|    1990|ArgentinaSALVIO E...|\n",
            "|Argentina|    10|     FW|      MESSI Lionel|24.06.1987|      MESSI|  FC Barcelona (ESP)|   170|  72|    1987|ArgentinaMESSI Li...|\n",
            "+---------+------+-------+------------------+----------+-----------+--------------------+------+----+--------+--------------------+\n",
            "only showing top 5 rows\n",
            "\n"
          ]
        }
      ]
    },
    {
      "cell_type": "code",
      "source": [
        "df.withColumn('separador', concat_ws(' - ', 'selecao', 'numero', 'posicao')).show()"
      ],
      "metadata": {
        "colab": {
          "base_uri": "https://localhost:8080/"
        },
        "id": "KYl-WjmYKBbK",
        "outputId": "fcc0427c-eb8e-40f9-daee-9c7fd75a71f8"
      },
      "execution_count": 33,
      "outputs": [
        {
          "output_type": "stream",
          "name": "stdout",
          "text": [
            "+---------+------+-------+------------------+----------+-----------+--------------------+------+----+--------+-------------------+\n",
            "|  selecao|numero|posicao|         nome_fifa| data_nasc|nome_camisa|                time|altura|peso|ano_nasc|          separador|\n",
            "+---------+------+-------+------------------+----------+-----------+--------------------+------+----+--------+-------------------+\n",
            "|Argentina|     3|     DF|TAGLIAFICO Nicolas|31.08.1992| TAGLIAFICO|      AFC Ajax (NED)|   169|  65|    1992| Argentina - 3 - DF|\n",
            "|Argentina|    22|     MF|    PAVON Cristian|21.01.1996|      PAVÓN|CA Boca Juniors (...|   169|  65|    1996|Argentina - 22 - MF|\n",
            "|Argentina|    15|     MF|    LANZINI Manuel|15.02.1993|    LANZINI|West Ham United F...|   167|  66|    1993|Argentina - 15 - MF|\n",
            "|Argentina|    18|     DF|    SALVIO Eduardo|13.07.1990|     SALVIO|    SL Benfica (POR)|   167|  69|    1990|Argentina - 18 - DF|\n",
            "|Argentina|    10|     FW|      MESSI Lionel|24.06.1987|      MESSI|  FC Barcelona (ESP)|   170|  72|    1987|Argentina - 10 - FW|\n",
            "|Argentina|     4|     DF|  ANSALDI Cristian|20.09.1986|    ANSALDI|     Torino FC (ITA)|   181|  73|    1986| Argentina - 4 - DF|\n",
            "|Argentina|     5|     MF|      BIGLIA Lucas|30.01.1986|     BIGLIA|      AC Milan (ITA)|   175|  73|    1986| Argentina - 5 - MF|\n",
            "|Argentina|     7|     MF|       BANEGA Ever|29.06.1988|     BANEGA|    Sevilla FC (ESP)|   175|  73|    1988| Argentina - 7 - MF|\n",
            "|Argentina|    14|     DF| MASCHERANO Javier|08.06.1984| MASCHERANO|Hebei China Fortu...|   174|  73|    1984|Argentina - 14 - DF|\n",
            "|Argentina|    21|     FW|      DYBALA Paulo|15.11.1993|     DYBALA|   Juventus FC (ITA)|   177|  73|    1993|Argentina - 21 - FW|\n",
            "|Argentina|    19|     FW|     AGUERO Sergio|02.06.1988|     AGÜERO|Manchester City F...|   172|  74|    1988|Argentina - 19 - FW|\n",
            "|Argentina|     9|     FW|   HIGUAIN Gonzalo|10.12.1987|    HIGUAÍN|   Juventus FC (ITA)|   184|  75|    1987| Argentina - 9 - FW|\n",
            "|Argentina|    11|     MF|    DI MARIA Angel|14.02.1988|   DI MARÍA|Paris Saint-Germa...|   178|  75|    1988|Argentina - 11 - MF|\n",
            "|Argentina|    20|     MF|  LO CELSO Giovani|09.04.1996|   LO CELSO|Paris Saint-Germa...|   177|  75|    1996|Argentina - 20 - MF|\n",
            "|Argentina|    13|     MF|  MEZA Maximiliano|15.12.1992|       MEZA|CA Independiente ...|   180|  76|    1992|Argentina - 13 - MF|\n",
            "|Argentina|     8|     DF|      ACUNA Marcos|28.10.1991|      ACUÑA|   Sporting CP (POR)|   172|  77|    1991| Argentina - 8 - DF|\n",
            "|Argentina|    23|     GK|CABALLERO Wilfredo|28.09.1981|  CABALLERO|    Chelsea FC (ENG)|   186|  80|    1981|Argentina - 23 - GK|\n",
            "|Argentina|     2|     DF|   MERCADO Gabriel|18.03.1987|    MERCADO|    Sevilla FC (ESP)|   181|  81|    1987| Argentina - 2 - DF|\n",
            "|Argentina|    17|     DF|  OTAMENDI Nicolas|12.02.1988|   OTAMENDI|Manchester City F...|   181|  81|    1988|Argentina - 17 - DF|\n",
            "|Argentina|    16|     DF|       ROJO Marcos|20.03.1990|       ROJO|Manchester United...|   189|  82|    1990|Argentina - 16 - DF|\n",
            "+---------+------+-------+------------------+----------+-----------+--------------------+------+----+--------+-------------------+\n",
            "only showing top 20 rows\n",
            "\n"
          ]
        }
      ]
    },
    {
      "cell_type": "markdown",
      "source": [
        "# Alterar o tipo de coluna"
      ],
      "metadata": {
        "id": "1qHtYldqKWTS"
      }
    },
    {
      "cell_type": "code",
      "source": [
        "df.printSchema()"
      ],
      "metadata": {
        "colab": {
          "base_uri": "https://localhost:8080/"
        },
        "id": "3LPpFL2QKZ3H",
        "outputId": "bcd1306b-9371-4bbe-bb99-3784eb526b7c"
      },
      "execution_count": 34,
      "outputs": [
        {
          "output_type": "stream",
          "name": "stdout",
          "text": [
            "root\n",
            " |-- selecao: string (nullable = true)\n",
            " |-- numero: integer (nullable = true)\n",
            " |-- posicao: string (nullable = true)\n",
            " |-- nome_fifa: string (nullable = true)\n",
            " |-- data_nasc: string (nullable = true)\n",
            " |-- nome_camisa: string (nullable = true)\n",
            " |-- time: string (nullable = true)\n",
            " |-- altura: integer (nullable = true)\n",
            " |-- peso: integer (nullable = true)\n",
            " |-- ano_nasc: string (nullable = true)\n",
            "\n"
          ]
        }
      ]
    },
    {
      "cell_type": "code",
      "source": [
        "df = df.withColumn('ano_nasc', col('ano_nasc').cast(IntegerType()))"
      ],
      "metadata": {
        "id": "--2nWfS6Klm4"
      },
      "execution_count": 35,
      "outputs": []
    },
    {
      "cell_type": "code",
      "source": [
        "df.printSchema()"
      ],
      "metadata": {
        "colab": {
          "base_uri": "https://localhost:8080/"
        },
        "id": "Hc7yfTM1LAix",
        "outputId": "f1dd9e65-7a40-4e76-9504-a0d3c909af0e"
      },
      "execution_count": 36,
      "outputs": [
        {
          "output_type": "stream",
          "name": "stdout",
          "text": [
            "root\n",
            " |-- selecao: string (nullable = true)\n",
            " |-- numero: integer (nullable = true)\n",
            " |-- posicao: string (nullable = true)\n",
            " |-- nome_fifa: string (nullable = true)\n",
            " |-- data_nasc: string (nullable = true)\n",
            " |-- nome_camisa: string (nullable = true)\n",
            " |-- time: string (nullable = true)\n",
            " |-- altura: integer (nullable = true)\n",
            " |-- peso: integer (nullable = true)\n",
            " |-- ano_nasc: integer (nullable = true)\n",
            "\n"
          ]
        }
      ]
    },
    {
      "cell_type": "markdown",
      "source": [
        "# Desafio: Coluna Nascimento\n",
        "\n",
        "\n",
        "*   Colocar como DataType\n",
        "*   Dica: o formato percisa estar: YYYY-MM-DD\n",
        "\n"
      ],
      "metadata": {
        "id": "zr_rzFBQLN1x"
      }
    },
    {
      "cell_type": "code",
      "source": [
        "df.show(5)"
      ],
      "metadata": {
        "colab": {
          "base_uri": "https://localhost:8080/"
        },
        "id": "tq07wv9pLdl3",
        "outputId": "33696b6c-5145-4b17-be94-684695397bed"
      },
      "execution_count": 37,
      "outputs": [
        {
          "output_type": "stream",
          "name": "stdout",
          "text": [
            "+---------+------+-------+------------------+----------+-----------+--------------------+------+----+--------+\n",
            "|  selecao|numero|posicao|         nome_fifa| data_nasc|nome_camisa|                time|altura|peso|ano_nasc|\n",
            "+---------+------+-------+------------------+----------+-----------+--------------------+------+----+--------+\n",
            "|Argentina|     3|     DF|TAGLIAFICO Nicolas|31.08.1992| TAGLIAFICO|      AFC Ajax (NED)|   169|  65|    1992|\n",
            "|Argentina|    22|     MF|    PAVON Cristian|21.01.1996|      PAVÓN|CA Boca Juniors (...|   169|  65|    1996|\n",
            "|Argentina|    15|     MF|    LANZINI Manuel|15.02.1993|    LANZINI|West Ham United F...|   167|  66|    1993|\n",
            "|Argentina|    18|     DF|    SALVIO Eduardo|13.07.1990|     SALVIO|    SL Benfica (POR)|   167|  69|    1990|\n",
            "|Argentina|    10|     FW|      MESSI Lionel|24.06.1987|      MESSI|  FC Barcelona (ESP)|   170|  72|    1987|\n",
            "+---------+------+-------+------------------+----------+-----------+--------------------+------+----+--------+\n",
            "only showing top 5 rows\n",
            "\n"
          ]
        }
      ]
    },
    {
      "cell_type": "code",
      "source": [
        "# lamba para efetuar a separação pelo ponto, assim é possível pegar o valor pelo índice\n",
        "# dia = udf(lambda x: x.split('.')[0])\n",
        "\n",
        "dia = udf(lambda data: data.split('.')[0])\n",
        "# incluindo coluna de dia no dataframe\n",
        "df = df.withColumn('dia_nasc', dia('data_nasc'))"
      ],
      "metadata": {
        "id": "bMtRc6mTLiX6"
      },
      "execution_count": 42,
      "outputs": []
    },
    {
      "cell_type": "code",
      "source": [
        "# incluindo coluna de mes no dataframe\n",
        "mes = udf(lambda data: data.split('.')[1])\n",
        "df = df.withColumn('mes_nasc', mes('data_nasc'))"
      ],
      "metadata": {
        "id": "_fX4sxvuMrFC"
      },
      "execution_count": 43,
      "outputs": []
    },
    {
      "cell_type": "code",
      "source": [
        "df.show()"
      ],
      "metadata": {
        "colab": {
          "base_uri": "https://localhost:8080/"
        },
        "id": "UGuGB6j0NLZ1",
        "outputId": "480bd17d-5350-4500-e914-e72cb2ce6675"
      },
      "execution_count": 45,
      "outputs": [
        {
          "output_type": "stream",
          "name": "stdout",
          "text": [
            "+---------+------+-------+------------------+----------+-----------+--------------------+------+----+--------+--------+--------+\n",
            "|  selecao|numero|posicao|         nome_fifa| data_nasc|nome_camisa|                time|altura|peso|ano_nasc|dia_nasc|mes_nasc|\n",
            "+---------+------+-------+------------------+----------+-----------+--------------------+------+----+--------+--------+--------+\n",
            "|Argentina|     3|     DF|TAGLIAFICO Nicolas|31.08.1992| TAGLIAFICO|      AFC Ajax (NED)|   169|  65|    1992|      31|      08|\n",
            "|Argentina|    22|     MF|    PAVON Cristian|21.01.1996|      PAVÓN|CA Boca Juniors (...|   169|  65|    1996|      21|      01|\n",
            "|Argentina|    15|     MF|    LANZINI Manuel|15.02.1993|    LANZINI|West Ham United F...|   167|  66|    1993|      15|      02|\n",
            "|Argentina|    18|     DF|    SALVIO Eduardo|13.07.1990|     SALVIO|    SL Benfica (POR)|   167|  69|    1990|      13|      07|\n",
            "|Argentina|    10|     FW|      MESSI Lionel|24.06.1987|      MESSI|  FC Barcelona (ESP)|   170|  72|    1987|      24|      06|\n",
            "|Argentina|     4|     DF|  ANSALDI Cristian|20.09.1986|    ANSALDI|     Torino FC (ITA)|   181|  73|    1986|      20|      09|\n",
            "|Argentina|     5|     MF|      BIGLIA Lucas|30.01.1986|     BIGLIA|      AC Milan (ITA)|   175|  73|    1986|      30|      01|\n",
            "|Argentina|     7|     MF|       BANEGA Ever|29.06.1988|     BANEGA|    Sevilla FC (ESP)|   175|  73|    1988|      29|      06|\n",
            "|Argentina|    14|     DF| MASCHERANO Javier|08.06.1984| MASCHERANO|Hebei China Fortu...|   174|  73|    1984|      08|      06|\n",
            "|Argentina|    21|     FW|      DYBALA Paulo|15.11.1993|     DYBALA|   Juventus FC (ITA)|   177|  73|    1993|      15|      11|\n",
            "|Argentina|    19|     FW|     AGUERO Sergio|02.06.1988|     AGÜERO|Manchester City F...|   172|  74|    1988|      02|      06|\n",
            "|Argentina|     9|     FW|   HIGUAIN Gonzalo|10.12.1987|    HIGUAÍN|   Juventus FC (ITA)|   184|  75|    1987|      10|      12|\n",
            "|Argentina|    11|     MF|    DI MARIA Angel|14.02.1988|   DI MARÍA|Paris Saint-Germa...|   178|  75|    1988|      14|      02|\n",
            "|Argentina|    20|     MF|  LO CELSO Giovani|09.04.1996|   LO CELSO|Paris Saint-Germa...|   177|  75|    1996|      09|      04|\n",
            "|Argentina|    13|     MF|  MEZA Maximiliano|15.12.1992|       MEZA|CA Independiente ...|   180|  76|    1992|      15|      12|\n",
            "|Argentina|     8|     DF|      ACUNA Marcos|28.10.1991|      ACUÑA|   Sporting CP (POR)|   172|  77|    1991|      28|      10|\n",
            "|Argentina|    23|     GK|CABALLERO Wilfredo|28.09.1981|  CABALLERO|    Chelsea FC (ENG)|   186|  80|    1981|      28|      09|\n",
            "|Argentina|     2|     DF|   MERCADO Gabriel|18.03.1987|    MERCADO|    Sevilla FC (ESP)|   181|  81|    1987|      18|      03|\n",
            "|Argentina|    17|     DF|  OTAMENDI Nicolas|12.02.1988|   OTAMENDI|Manchester City F...|   181|  81|    1988|      12|      02|\n",
            "|Argentina|    16|     DF|       ROJO Marcos|20.03.1990|       ROJO|Manchester United...|   189|  82|    1990|      20|      03|\n",
            "+---------+------+-------+------------------+----------+-----------+--------------------+------+----+--------+--------+--------+\n",
            "only showing top 20 rows\n",
            "\n"
          ]
        }
      ]
    },
    {
      "cell_type": "code",
      "source": [
        "df = df.withColumn('nascimento', concat_ws('-', 'ano_nasc', \"mes_nasc\", \"dia_nasc\"))"
      ],
      "metadata": {
        "id": "-aNmEQn4NnfA"
      },
      "execution_count": 47,
      "outputs": []
    },
    {
      "cell_type": "code",
      "source": [
        "df.printSchema()"
      ],
      "metadata": {
        "colab": {
          "base_uri": "https://localhost:8080/"
        },
        "id": "1tgprheZOdjM",
        "outputId": "a5a8548b-3280-450f-e056-f91df85da3bf"
      },
      "execution_count": 49,
      "outputs": [
        {
          "output_type": "stream",
          "name": "stdout",
          "text": [
            "root\n",
            " |-- selecao: string (nullable = true)\n",
            " |-- numero: integer (nullable = true)\n",
            " |-- posicao: string (nullable = true)\n",
            " |-- nome_fifa: string (nullable = true)\n",
            " |-- data_nasc: string (nullable = true)\n",
            " |-- nome_camisa: string (nullable = true)\n",
            " |-- time: string (nullable = true)\n",
            " |-- altura: integer (nullable = true)\n",
            " |-- peso: integer (nullable = true)\n",
            " |-- ano_nasc: integer (nullable = true)\n",
            " |-- dia_nasc: string (nullable = true)\n",
            " |-- mes_nasc: string (nullable = true)\n",
            " |-- nascimento: date (nullable = true)\n",
            "\n"
          ]
        }
      ]
    },
    {
      "cell_type": "code",
      "source": [
        "df = df.withColumn('nascimento', col('nascimento').cast(DateType()))\n",
        "df.show()"
      ],
      "metadata": {
        "colab": {
          "base_uri": "https://localhost:8080/"
        },
        "id": "H1IdxZqzOSqD",
        "outputId": "f4a99852-1231-4a8e-f3a0-29ee4f8af4ff"
      },
      "execution_count": 48,
      "outputs": [
        {
          "output_type": "stream",
          "name": "stdout",
          "text": [
            "+---------+------+-------+------------------+----------+-----------+--------------------+------+----+--------+--------+--------+----------+\n",
            "|  selecao|numero|posicao|         nome_fifa| data_nasc|nome_camisa|                time|altura|peso|ano_nasc|dia_nasc|mes_nasc|nascimento|\n",
            "+---------+------+-------+------------------+----------+-----------+--------------------+------+----+--------+--------+--------+----------+\n",
            "|Argentina|     3|     DF|TAGLIAFICO Nicolas|31.08.1992| TAGLIAFICO|      AFC Ajax (NED)|   169|  65|    1992|      31|      08|1992-08-31|\n",
            "|Argentina|    22|     MF|    PAVON Cristian|21.01.1996|      PAVÓN|CA Boca Juniors (...|   169|  65|    1996|      21|      01|1996-01-21|\n",
            "|Argentina|    15|     MF|    LANZINI Manuel|15.02.1993|    LANZINI|West Ham United F...|   167|  66|    1993|      15|      02|1993-02-15|\n",
            "|Argentina|    18|     DF|    SALVIO Eduardo|13.07.1990|     SALVIO|    SL Benfica (POR)|   167|  69|    1990|      13|      07|1990-07-13|\n",
            "|Argentina|    10|     FW|      MESSI Lionel|24.06.1987|      MESSI|  FC Barcelona (ESP)|   170|  72|    1987|      24|      06|1987-06-24|\n",
            "|Argentina|     4|     DF|  ANSALDI Cristian|20.09.1986|    ANSALDI|     Torino FC (ITA)|   181|  73|    1986|      20|      09|1986-09-20|\n",
            "|Argentina|     5|     MF|      BIGLIA Lucas|30.01.1986|     BIGLIA|      AC Milan (ITA)|   175|  73|    1986|      30|      01|1986-01-30|\n",
            "|Argentina|     7|     MF|       BANEGA Ever|29.06.1988|     BANEGA|    Sevilla FC (ESP)|   175|  73|    1988|      29|      06|1988-06-29|\n",
            "|Argentina|    14|     DF| MASCHERANO Javier|08.06.1984| MASCHERANO|Hebei China Fortu...|   174|  73|    1984|      08|      06|1984-06-08|\n",
            "|Argentina|    21|     FW|      DYBALA Paulo|15.11.1993|     DYBALA|   Juventus FC (ITA)|   177|  73|    1993|      15|      11|1993-11-15|\n",
            "|Argentina|    19|     FW|     AGUERO Sergio|02.06.1988|     AGÜERO|Manchester City F...|   172|  74|    1988|      02|      06|1988-06-02|\n",
            "|Argentina|     9|     FW|   HIGUAIN Gonzalo|10.12.1987|    HIGUAÍN|   Juventus FC (ITA)|   184|  75|    1987|      10|      12|1987-12-10|\n",
            "|Argentina|    11|     MF|    DI MARIA Angel|14.02.1988|   DI MARÍA|Paris Saint-Germa...|   178|  75|    1988|      14|      02|1988-02-14|\n",
            "|Argentina|    20|     MF|  LO CELSO Giovani|09.04.1996|   LO CELSO|Paris Saint-Germa...|   177|  75|    1996|      09|      04|1996-04-09|\n",
            "|Argentina|    13|     MF|  MEZA Maximiliano|15.12.1992|       MEZA|CA Independiente ...|   180|  76|    1992|      15|      12|1992-12-15|\n",
            "|Argentina|     8|     DF|      ACUNA Marcos|28.10.1991|      ACUÑA|   Sporting CP (POR)|   172|  77|    1991|      28|      10|1991-10-28|\n",
            "|Argentina|    23|     GK|CABALLERO Wilfredo|28.09.1981|  CABALLERO|    Chelsea FC (ENG)|   186|  80|    1981|      28|      09|1981-09-28|\n",
            "|Argentina|     2|     DF|   MERCADO Gabriel|18.03.1987|    MERCADO|    Sevilla FC (ESP)|   181|  81|    1987|      18|      03|1987-03-18|\n",
            "|Argentina|    17|     DF|  OTAMENDI Nicolas|12.02.1988|   OTAMENDI|Manchester City F...|   181|  81|    1988|      12|      02|1988-02-12|\n",
            "|Argentina|    16|     DF|       ROJO Marcos|20.03.1990|       ROJO|Manchester United...|   189|  82|    1990|      20|      03|1990-03-20|\n",
            "+---------+------+-------+------------------+----------+-----------+--------------------+------+----+--------+--------+--------+----------+\n",
            "only showing top 20 rows\n",
            "\n"
          ]
        }
      ]
    },
    {
      "cell_type": "code",
      "source": [
        "df.printSchema()"
      ],
      "metadata": {
        "colab": {
          "base_uri": "https://localhost:8080/"
        },
        "id": "FG3F166ZO_Zq",
        "outputId": "bbc0ecab-4ce5-4be0-dbd8-5a138878866c"
      },
      "execution_count": 50,
      "outputs": [
        {
          "output_type": "stream",
          "name": "stdout",
          "text": [
            "root\n",
            " |-- selecao: string (nullable = true)\n",
            " |-- numero: integer (nullable = true)\n",
            " |-- posicao: string (nullable = true)\n",
            " |-- nome_fifa: string (nullable = true)\n",
            " |-- data_nasc: string (nullable = true)\n",
            " |-- nome_camisa: string (nullable = true)\n",
            " |-- time: string (nullable = true)\n",
            " |-- altura: integer (nullable = true)\n",
            " |-- peso: integer (nullable = true)\n",
            " |-- ano_nasc: integer (nullable = true)\n",
            " |-- dia_nasc: string (nullable = true)\n",
            " |-- mes_nasc: string (nullable = true)\n",
            " |-- nascimento: date (nullable = true)\n",
            "\n"
          ]
        }
      ]
    },
    {
      "cell_type": "markdown",
      "source": [],
      "metadata": {
        "id": "GZGRrAfyPVNj"
      }
    },
    {
      "cell_type": "markdown",
      "source": [
        "# Aula 2"
      ],
      "metadata": {
        "id": "NfA0YYCsPd7X"
      }
    },
    {
      "cell_type": "markdown",
      "source": [
        "# Importando função window"
      ],
      "metadata": {
        "id": "cpUdkfpaPoR4"
      }
    },
    {
      "cell_type": "code",
      "source": [
        "from pyspark.sql.window import Window"
      ],
      "metadata": {
        "id": "yQUVcuZNPfrK"
      },
      "execution_count": 51,
      "outputs": []
    },
    {
      "cell_type": "code",
      "source": [
        "df.show()"
      ],
      "metadata": {
        "colab": {
          "base_uri": "https://localhost:8080/"
        },
        "id": "XAbG6pp5dU-1",
        "outputId": "348e5682-82cd-4055-d8c8-d81d21ac1c8a"
      },
      "execution_count": 52,
      "outputs": [
        {
          "output_type": "stream",
          "name": "stdout",
          "text": [
            "+---------+------+-------+------------------+----------+-----------+--------------------+------+----+--------+--------+--------+----------+\n",
            "|  selecao|numero|posicao|         nome_fifa| data_nasc|nome_camisa|                time|altura|peso|ano_nasc|dia_nasc|mes_nasc|nascimento|\n",
            "+---------+------+-------+------------------+----------+-----------+--------------------+------+----+--------+--------+--------+----------+\n",
            "|Argentina|     3|     DF|TAGLIAFICO Nicolas|31.08.1992| TAGLIAFICO|      AFC Ajax (NED)|   169|  65|    1992|      31|      08|1992-08-31|\n",
            "|Argentina|    22|     MF|    PAVON Cristian|21.01.1996|      PAVÓN|CA Boca Juniors (...|   169|  65|    1996|      21|      01|1996-01-21|\n",
            "|Argentina|    15|     MF|    LANZINI Manuel|15.02.1993|    LANZINI|West Ham United F...|   167|  66|    1993|      15|      02|1993-02-15|\n",
            "|Argentina|    18|     DF|    SALVIO Eduardo|13.07.1990|     SALVIO|    SL Benfica (POR)|   167|  69|    1990|      13|      07|1990-07-13|\n",
            "|Argentina|    10|     FW|      MESSI Lionel|24.06.1987|      MESSI|  FC Barcelona (ESP)|   170|  72|    1987|      24|      06|1987-06-24|\n",
            "|Argentina|     4|     DF|  ANSALDI Cristian|20.09.1986|    ANSALDI|     Torino FC (ITA)|   181|  73|    1986|      20|      09|1986-09-20|\n",
            "|Argentina|     5|     MF|      BIGLIA Lucas|30.01.1986|     BIGLIA|      AC Milan (ITA)|   175|  73|    1986|      30|      01|1986-01-30|\n",
            "|Argentina|     7|     MF|       BANEGA Ever|29.06.1988|     BANEGA|    Sevilla FC (ESP)|   175|  73|    1988|      29|      06|1988-06-29|\n",
            "|Argentina|    14|     DF| MASCHERANO Javier|08.06.1984| MASCHERANO|Hebei China Fortu...|   174|  73|    1984|      08|      06|1984-06-08|\n",
            "|Argentina|    21|     FW|      DYBALA Paulo|15.11.1993|     DYBALA|   Juventus FC (ITA)|   177|  73|    1993|      15|      11|1993-11-15|\n",
            "|Argentina|    19|     FW|     AGUERO Sergio|02.06.1988|     AGÜERO|Manchester City F...|   172|  74|    1988|      02|      06|1988-06-02|\n",
            "|Argentina|     9|     FW|   HIGUAIN Gonzalo|10.12.1987|    HIGUAÍN|   Juventus FC (ITA)|   184|  75|    1987|      10|      12|1987-12-10|\n",
            "|Argentina|    11|     MF|    DI MARIA Angel|14.02.1988|   DI MARÍA|Paris Saint-Germa...|   178|  75|    1988|      14|      02|1988-02-14|\n",
            "|Argentina|    20|     MF|  LO CELSO Giovani|09.04.1996|   LO CELSO|Paris Saint-Germa...|   177|  75|    1996|      09|      04|1996-04-09|\n",
            "|Argentina|    13|     MF|  MEZA Maximiliano|15.12.1992|       MEZA|CA Independiente ...|   180|  76|    1992|      15|      12|1992-12-15|\n",
            "|Argentina|     8|     DF|      ACUNA Marcos|28.10.1991|      ACUÑA|   Sporting CP (POR)|   172|  77|    1991|      28|      10|1991-10-28|\n",
            "|Argentina|    23|     GK|CABALLERO Wilfredo|28.09.1981|  CABALLERO|    Chelsea FC (ENG)|   186|  80|    1981|      28|      09|1981-09-28|\n",
            "|Argentina|     2|     DF|   MERCADO Gabriel|18.03.1987|    MERCADO|    Sevilla FC (ESP)|   181|  81|    1987|      18|      03|1987-03-18|\n",
            "|Argentina|    17|     DF|  OTAMENDI Nicolas|12.02.1988|   OTAMENDI|Manchester City F...|   181|  81|    1988|      12|      02|1988-02-12|\n",
            "|Argentina|    16|     DF|       ROJO Marcos|20.03.1990|       ROJO|Manchester United...|   189|  82|    1990|      20|      03|1990-03-20|\n",
            "+---------+------+-------+------------------+----------+-----------+--------------------+------+----+--------+--------+--------+----------+\n",
            "only showing top 20 rows\n",
            "\n"
          ]
        }
      ]
    },
    {
      "cell_type": "markdown",
      "source": [
        "# Drop de colunas"
      ],
      "metadata": {
        "id": "mLgz896OdL17"
      }
    },
    {
      "cell_type": "code",
      "source": [
        "df = df.drop('data_nasc')\n",
        "df.show()"
      ],
      "metadata": {
        "colab": {
          "base_uri": "https://localhost:8080/"
        },
        "id": "e3cntWAKdOGE",
        "outputId": "b0b866f8-462d-4574-d4c8-36a19abcd507"
      },
      "execution_count": 57,
      "outputs": [
        {
          "output_type": "stream",
          "name": "stdout",
          "text": [
            "+---------+------+-------+------------------+-----------+--------------------+------+----+--------+--------+--------+----------+\n",
            "|  selecao|numero|posicao|         nome_fifa|nome_camisa|                time|altura|peso|ano_nasc|dia_nasc|mes_nasc|nascimento|\n",
            "+---------+------+-------+------------------+-----------+--------------------+------+----+--------+--------+--------+----------+\n",
            "|Argentina|     3|     DF|TAGLIAFICO Nicolas| TAGLIAFICO|      AFC Ajax (NED)|   169|  65|    1992|      31|      08|1992-08-31|\n",
            "|Argentina|    22|     MF|    PAVON Cristian|      PAVÓN|CA Boca Juniors (...|   169|  65|    1996|      21|      01|1996-01-21|\n",
            "|Argentina|    15|     MF|    LANZINI Manuel|    LANZINI|West Ham United F...|   167|  66|    1993|      15|      02|1993-02-15|\n",
            "|Argentina|    18|     DF|    SALVIO Eduardo|     SALVIO|    SL Benfica (POR)|   167|  69|    1990|      13|      07|1990-07-13|\n",
            "|Argentina|    10|     FW|      MESSI Lionel|      MESSI|  FC Barcelona (ESP)|   170|  72|    1987|      24|      06|1987-06-24|\n",
            "|Argentina|     4|     DF|  ANSALDI Cristian|    ANSALDI|     Torino FC (ITA)|   181|  73|    1986|      20|      09|1986-09-20|\n",
            "|Argentina|     5|     MF|      BIGLIA Lucas|     BIGLIA|      AC Milan (ITA)|   175|  73|    1986|      30|      01|1986-01-30|\n",
            "|Argentina|     7|     MF|       BANEGA Ever|     BANEGA|    Sevilla FC (ESP)|   175|  73|    1988|      29|      06|1988-06-29|\n",
            "|Argentina|    14|     DF| MASCHERANO Javier| MASCHERANO|Hebei China Fortu...|   174|  73|    1984|      08|      06|1984-06-08|\n",
            "|Argentina|    21|     FW|      DYBALA Paulo|     DYBALA|   Juventus FC (ITA)|   177|  73|    1993|      15|      11|1993-11-15|\n",
            "|Argentina|    19|     FW|     AGUERO Sergio|     AGÜERO|Manchester City F...|   172|  74|    1988|      02|      06|1988-06-02|\n",
            "|Argentina|     9|     FW|   HIGUAIN Gonzalo|    HIGUAÍN|   Juventus FC (ITA)|   184|  75|    1987|      10|      12|1987-12-10|\n",
            "|Argentina|    11|     MF|    DI MARIA Angel|   DI MARÍA|Paris Saint-Germa...|   178|  75|    1988|      14|      02|1988-02-14|\n",
            "|Argentina|    20|     MF|  LO CELSO Giovani|   LO CELSO|Paris Saint-Germa...|   177|  75|    1996|      09|      04|1996-04-09|\n",
            "|Argentina|    13|     MF|  MEZA Maximiliano|       MEZA|CA Independiente ...|   180|  76|    1992|      15|      12|1992-12-15|\n",
            "|Argentina|     8|     DF|      ACUNA Marcos|      ACUÑA|   Sporting CP (POR)|   172|  77|    1991|      28|      10|1991-10-28|\n",
            "|Argentina|    23|     GK|CABALLERO Wilfredo|  CABALLERO|    Chelsea FC (ENG)|   186|  80|    1981|      28|      09|1981-09-28|\n",
            "|Argentina|     2|     DF|   MERCADO Gabriel|    MERCADO|    Sevilla FC (ESP)|   181|  81|    1987|      18|      03|1987-03-18|\n",
            "|Argentina|    17|     DF|  OTAMENDI Nicolas|   OTAMENDI|Manchester City F...|   181|  81|    1988|      12|      02|1988-02-12|\n",
            "|Argentina|    16|     DF|       ROJO Marcos|       ROJO|Manchester United...|   189|  82|    1990|      20|      03|1990-03-20|\n",
            "+---------+------+-------+------------------+-----------+--------------------+------+----+--------+--------+--------+----------+\n",
            "only showing top 20 rows\n",
            "\n"
          ]
        }
      ]
    },
    {
      "cell_type": "markdown",
      "source": [
        "# Dataframe Backup"
      ],
      "metadata": {
        "id": "68VHo0yidsIe"
      }
    },
    {
      "cell_type": "code",
      "source": [
        "# é simples, só atribuir o primeiro dataframe para outra variável\n",
        "df2 = df"
      ],
      "metadata": {
        "id": "RyFFEvQSducq"
      },
      "execution_count": 58,
      "outputs": []
    },
    {
      "cell_type": "markdown",
      "source": [
        "# Window Ranking Functions<br>\n",
        "\n",
        "* Window function 1: número de linhas - row_numbers()\n",
        "* Window function 2: ranking 1 - rank()\n",
        "* Window function 3: ranking 2 - dense_rank()\n",
        "* Window function 4: porcentagem ranking - percent_rank()\n",
        "* Window function 5: divisão em 'N' - ntile()"
      ],
      "metadata": {
        "id": "CCntwKPxd43w"
      }
    },
    {
      "cell_type": "markdown",
      "source": [
        "# Window function 1: número de linhas - row_numbers()"
      ],
      "metadata": {
        "id": "iRRtTcX0ek-q"
      }
    },
    {
      "cell_type": "code",
      "source": [
        "numero_linhas = Window.partitionBy('selecao').orderBy(desc('altura'))\n",
        "\n",
        "df.withColumn('numero_linha', row_number().over(numero_linhas)).show(50)"
      ],
      "metadata": {
        "colab": {
          "base_uri": "https://localhost:8080/"
        },
        "id": "utVa493Zezhj",
        "outputId": "14e028ec-c399-4382-8d4e-6eefa53385b5"
      },
      "execution_count": 59,
      "outputs": [
        {
          "output_type": "stream",
          "name": "stdout",
          "text": [
            "+---------+------+-------+------------------+-----------+--------------------+------+----+--------+--------+--------+----------+------------+\n",
            "|  selecao|numero|posicao|         nome_fifa|nome_camisa|                time|altura|peso|ano_nasc|dia_nasc|mes_nasc|nascimento|numero_linha|\n",
            "+---------+------+-------+------------------+-----------+--------------------+------+----+--------+--------+--------+----------+------------+\n",
            "|Argentina|     6|     DF|    FAZIO Federico|      FAZIO|       AS Roma (ITA)|   199|  85|    1987|      17|      03|1987-03-17|           1|\n",
            "|Argentina|     1|     GK|     GUZMAN Nahuel|     GUZMÁN|   Tigres UANL (MEX)|   192|  90|    1986|      10|      02|1986-02-10|           2|\n",
            "|Argentina|    16|     DF|       ROJO Marcos|       ROJO|Manchester United...|   189|  82|    1990|      20|      03|1990-03-20|           3|\n",
            "|Argentina|    12|     GK|     ARMANI Franco|     ARMANI|CA River Plate (ARG)|   189|  85|    1986|      16|      10|1986-10-16|           4|\n",
            "|Argentina|    23|     GK|CABALLERO Wilfredo|  CABALLERO|    Chelsea FC (ENG)|   186|  80|    1981|      28|      09|1981-09-28|           5|\n",
            "|Argentina|     9|     FW|   HIGUAIN Gonzalo|    HIGUAÍN|   Juventus FC (ITA)|   184|  75|    1987|      10|      12|1987-12-10|           6|\n",
            "|Argentina|     4|     DF|  ANSALDI Cristian|    ANSALDI|     Torino FC (ITA)|   181|  73|    1986|      20|      09|1986-09-20|           7|\n",
            "|Argentina|     2|     DF|   MERCADO Gabriel|    MERCADO|    Sevilla FC (ESP)|   181|  81|    1987|      18|      03|1987-03-18|           8|\n",
            "|Argentina|    17|     DF|  OTAMENDI Nicolas|   OTAMENDI|Manchester City F...|   181|  81|    1988|      12|      02|1988-02-12|           9|\n",
            "|Argentina|    13|     MF|  MEZA Maximiliano|       MEZA|CA Independiente ...|   180|  76|    1992|      15|      12|1992-12-15|          10|\n",
            "|Argentina|    11|     MF|    DI MARIA Angel|   DI MARÍA|Paris Saint-Germa...|   178|  75|    1988|      14|      02|1988-02-14|          11|\n",
            "|Argentina|    21|     FW|      DYBALA Paulo|     DYBALA|   Juventus FC (ITA)|   177|  73|    1993|      15|      11|1993-11-15|          12|\n",
            "|Argentina|    20|     MF|  LO CELSO Giovani|   LO CELSO|Paris Saint-Germa...|   177|  75|    1996|      09|      04|1996-04-09|          13|\n",
            "|Argentina|     5|     MF|      BIGLIA Lucas|     BIGLIA|      AC Milan (ITA)|   175|  73|    1986|      30|      01|1986-01-30|          14|\n",
            "|Argentina|     7|     MF|       BANEGA Ever|     BANEGA|    Sevilla FC (ESP)|   175|  73|    1988|      29|      06|1988-06-29|          15|\n",
            "|Argentina|    14|     DF| MASCHERANO Javier| MASCHERANO|Hebei China Fortu...|   174|  73|    1984|      08|      06|1984-06-08|          16|\n",
            "|Argentina|    19|     FW|     AGUERO Sergio|     AGÜERO|Manchester City F...|   172|  74|    1988|      02|      06|1988-06-02|          17|\n",
            "|Argentina|     8|     DF|      ACUNA Marcos|      ACUÑA|   Sporting CP (POR)|   172|  77|    1991|      28|      10|1991-10-28|          18|\n",
            "|Argentina|    10|     FW|      MESSI Lionel|      MESSI|  FC Barcelona (ESP)|   170|  72|    1987|      24|      06|1987-06-24|          19|\n",
            "|Argentina|     3|     DF|TAGLIAFICO Nicolas| TAGLIAFICO|      AFC Ajax (NED)|   169|  65|    1992|      31|      08|1992-08-31|          20|\n",
            "|Argentina|    22|     MF|    PAVON Cristian|      PAVÓN|CA Boca Juniors (...|   169|  65|    1996|      21|      01|1996-01-21|          21|\n",
            "|Argentina|    15|     MF|    LANZINI Manuel|    LANZINI|West Ham United F...|   167|  66|    1993|      15|      02|1993-02-15|          22|\n",
            "|Argentina|    18|     DF|    SALVIO Eduardo|     SALVIO|    SL Benfica (POR)|   167|  69|    1990|      13|      07|1990-07-13|          23|\n",
            "|Australia|    12|     GK|        JONES Brad|      JONES|Feyenoord Rotterd...|   193|  87|    1982|      19|      03|1982-03-19|           1|\n",
            "|Australia|     9|     FW|        JURIC Tomi|      JURIC|     FC Luzern (SUI)|   190|  80|    1991|      22|      07|1991-07-22|           2|\n",
            "|Australia|     6|     DF|    JURMAN Matthew|     JURMAN|Suwon Samsung Blu...|   190|  83|    1989|      08|      12|1989-12-08|           3|\n",
            "|Australia|    23|     MF|         ROGIC Tom|      ROGIC|     Celtic FC (SCO)|   189|  88|    1992|      16|      12|1992-12-16|           4|\n",
            "|Australia|    15|     MF|      JEDINAK Mile|    JEDINAK|Aston Villa FC (ENG)|   188|  78|    1984|      03|      08|1984-08-03|           5|\n",
            "|Australia|     2|     DF|     DEGENEK Milos|    DEGENEK|Yokohama F-Marino...|   187|  85|    1994|      28|      04|1994-04-28|           6|\n",
            "|Australia|    18|     GK|     VUKOVIC Danny|    VUKOVIC|      KRC Genk (BEL)|   187|  94|    1985|      27|      03|1985-03-27|           7|\n",
            "|Australia|     1|     GK|       RYAN Mathew|       RYAN|Brighton & Hove A...|   184|  82|    1992|      08|      04|1992-04-08|           8|\n",
            "|Australia|    20|     DF|   SAINSBURY Trent|  SAINSBURY|Grasshopper Club ...|   183|  76|    1992|      05|      01|1992-01-05|           9|\n",
            "|Australia|     7|     FW|     LECKIE Mathew|     LECKIE|    Hertha BSC (GER)|   181|  84|    1991|      04|      02|1991-02-04|          10|\n",
            "|Australia|    10|     FW|      KRUSE Robbie|      KRUSE|    VfL Bochum (GER)|   180|  66|    1988|      05|      10|1988-10-05|          11|\n",
            "|Australia|     4|     FW|        CAHILL Tim|     CAHILL|   Millwall FC (ENG)|   180|  76|    1979|      06|      12|1979-12-06|          12|\n",
            "|Australia|    22|     MF|    IRVINE Jackson|     IRVINE|  Hull City FC (ENG)|   180|  77|    1993|      07|      03|1993-03-07|          13|\n",
            "|Australia|     3|     DF|    MEREDITH James|   MEREDITH|   Millwall FC (ENG)|   179|  71|    1988|      05|      04|1988-04-05|          14|\n",
            "|Australia|    14|     FW|    MacLAREN Jamie|   MACLAREN|  Hibernian FC (SCO)|   178|  72|    1993|      29|      07|1993-07-29|          15|\n",
            "|Australia|     5|     DF|     MILLIGAN Mark|   MILLIGAN|    Al Ahli SC (KSA)|   178|  78|    1985|      04|      08|1985-08-04|          16|\n",
            "|Australia|    11|     FW|    NABBOUT Andrew|    NABBOUT|    Urawa Reds (JPN)|   178|  85|    1992|      17|      12|1992-12-17|          17|\n",
            "|Australia|    21|     FW|PETRATOS Dimitrios|   PETRATOS|Newcastle United ...|   176|  72|    1992|      10|      11|1992-11-10|          18|\n",
            "|Australia|     8|     MF|    LUONGO Massimo|     LUONGO|Queens Park Range...|   176|  76|    1992|      25|      09|1992-09-25|          19|\n",
            "|Australia|    13|     MF|        MOOY Aaron|       MOOY|Huddersfield Town...|   173|  72|    1990|      15|      09|1990-09-15|          20|\n",
            "|Australia|    17|     FW|     ARZANI Daniel|     ARZANI|Melbourne City FC...|   171|  73|    1999|      04|      01|1999-01-04|          21|\n",
            "|Australia|    16|     DF|       BEHICH Aziz|     BEHICH|     Bursaspor (TUR)|   170|  63|    1990|      16|      12|1990-12-16|          22|\n",
            "|Australia|    19|     DF|     RISDON Joshua|     RISDON|WS Wanderers FC (...|   169|  70|    1992|      27|      07|1992-07-27|          23|\n",
            "|  Belgium|     1|     GK|  COURTOIS Thibaut|   COURTOIS|    Chelsea FC (ENG)|   199|  91|    1992|      11|      05|1992-05-11|           1|\n",
            "|  Belgium|    13|     GK|     CASTEELS Koen|   CASTEELS| VfL Wolfsburg (GER)|   197|  86|    1992|      25|      06|1992-06-25|           2|\n",
            "|  Belgium|     8|     MF| FELLAINI Marouane|   FELLAINI|Manchester United...|   194|  85|    1987|      22|      11|1987-11-22|           3|\n",
            "|  Belgium|    12|     GK|    MIGNOLET Simon|   MIGNOLET|  Liverpool FC (ENG)|   193|  87|    1988|      06|      03|1988-03-06|           4|\n",
            "+---------+------+-------+------------------+-----------+--------------------+------+----+--------+--------+--------+----------+------------+\n",
            "only showing top 50 rows\n",
            "\n"
          ]
        }
      ]
    },
    {
      "cell_type": "markdown",
      "source": [
        "# Window function 2: ranking 1 - rank()"
      ],
      "metadata": {
        "id": "G23MkCfXemDE"
      }
    },
    {
      "cell_type": "code",
      "source": [
        "rank1 = Window.partitionBy('selecao').orderBy(desc('altura'))\n",
        "\n",
        "df.withColumn('rank', rank().over(rank1)).show(50)"
      ],
      "metadata": {
        "colab": {
          "base_uri": "https://localhost:8080/"
        },
        "id": "0GVW02B9ezyV",
        "outputId": "8b901133-7ffb-4397-a7ea-9aa9bdee7584"
      },
      "execution_count": 60,
      "outputs": [
        {
          "output_type": "stream",
          "name": "stdout",
          "text": [
            "+---------+------+-------+------------------+-----------+--------------------+------+----+--------+--------+--------+----------+----+\n",
            "|  selecao|numero|posicao|         nome_fifa|nome_camisa|                time|altura|peso|ano_nasc|dia_nasc|mes_nasc|nascimento|rank|\n",
            "+---------+------+-------+------------------+-----------+--------------------+------+----+--------+--------+--------+----------+----+\n",
            "|Argentina|     6|     DF|    FAZIO Federico|      FAZIO|       AS Roma (ITA)|   199|  85|    1987|      17|      03|1987-03-17|   1|\n",
            "|Argentina|     1|     GK|     GUZMAN Nahuel|     GUZMÁN|   Tigres UANL (MEX)|   192|  90|    1986|      10|      02|1986-02-10|   2|\n",
            "|Argentina|    16|     DF|       ROJO Marcos|       ROJO|Manchester United...|   189|  82|    1990|      20|      03|1990-03-20|   3|\n",
            "|Argentina|    12|     GK|     ARMANI Franco|     ARMANI|CA River Plate (ARG)|   189|  85|    1986|      16|      10|1986-10-16|   3|\n",
            "|Argentina|    23|     GK|CABALLERO Wilfredo|  CABALLERO|    Chelsea FC (ENG)|   186|  80|    1981|      28|      09|1981-09-28|   5|\n",
            "|Argentina|     9|     FW|   HIGUAIN Gonzalo|    HIGUAÍN|   Juventus FC (ITA)|   184|  75|    1987|      10|      12|1987-12-10|   6|\n",
            "|Argentina|     4|     DF|  ANSALDI Cristian|    ANSALDI|     Torino FC (ITA)|   181|  73|    1986|      20|      09|1986-09-20|   7|\n",
            "|Argentina|     2|     DF|   MERCADO Gabriel|    MERCADO|    Sevilla FC (ESP)|   181|  81|    1987|      18|      03|1987-03-18|   7|\n",
            "|Argentina|    17|     DF|  OTAMENDI Nicolas|   OTAMENDI|Manchester City F...|   181|  81|    1988|      12|      02|1988-02-12|   7|\n",
            "|Argentina|    13|     MF|  MEZA Maximiliano|       MEZA|CA Independiente ...|   180|  76|    1992|      15|      12|1992-12-15|  10|\n",
            "|Argentina|    11|     MF|    DI MARIA Angel|   DI MARÍA|Paris Saint-Germa...|   178|  75|    1988|      14|      02|1988-02-14|  11|\n",
            "|Argentina|    21|     FW|      DYBALA Paulo|     DYBALA|   Juventus FC (ITA)|   177|  73|    1993|      15|      11|1993-11-15|  12|\n",
            "|Argentina|    20|     MF|  LO CELSO Giovani|   LO CELSO|Paris Saint-Germa...|   177|  75|    1996|      09|      04|1996-04-09|  12|\n",
            "|Argentina|     5|     MF|      BIGLIA Lucas|     BIGLIA|      AC Milan (ITA)|   175|  73|    1986|      30|      01|1986-01-30|  14|\n",
            "|Argentina|     7|     MF|       BANEGA Ever|     BANEGA|    Sevilla FC (ESP)|   175|  73|    1988|      29|      06|1988-06-29|  14|\n",
            "|Argentina|    14|     DF| MASCHERANO Javier| MASCHERANO|Hebei China Fortu...|   174|  73|    1984|      08|      06|1984-06-08|  16|\n",
            "|Argentina|    19|     FW|     AGUERO Sergio|     AGÜERO|Manchester City F...|   172|  74|    1988|      02|      06|1988-06-02|  17|\n",
            "|Argentina|     8|     DF|      ACUNA Marcos|      ACUÑA|   Sporting CP (POR)|   172|  77|    1991|      28|      10|1991-10-28|  17|\n",
            "|Argentina|    10|     FW|      MESSI Lionel|      MESSI|  FC Barcelona (ESP)|   170|  72|    1987|      24|      06|1987-06-24|  19|\n",
            "|Argentina|     3|     DF|TAGLIAFICO Nicolas| TAGLIAFICO|      AFC Ajax (NED)|   169|  65|    1992|      31|      08|1992-08-31|  20|\n",
            "|Argentina|    22|     MF|    PAVON Cristian|      PAVÓN|CA Boca Juniors (...|   169|  65|    1996|      21|      01|1996-01-21|  20|\n",
            "|Argentina|    15|     MF|    LANZINI Manuel|    LANZINI|West Ham United F...|   167|  66|    1993|      15|      02|1993-02-15|  22|\n",
            "|Argentina|    18|     DF|    SALVIO Eduardo|     SALVIO|    SL Benfica (POR)|   167|  69|    1990|      13|      07|1990-07-13|  22|\n",
            "|Australia|    12|     GK|        JONES Brad|      JONES|Feyenoord Rotterd...|   193|  87|    1982|      19|      03|1982-03-19|   1|\n",
            "|Australia|     9|     FW|        JURIC Tomi|      JURIC|     FC Luzern (SUI)|   190|  80|    1991|      22|      07|1991-07-22|   2|\n",
            "|Australia|     6|     DF|    JURMAN Matthew|     JURMAN|Suwon Samsung Blu...|   190|  83|    1989|      08|      12|1989-12-08|   2|\n",
            "|Australia|    23|     MF|         ROGIC Tom|      ROGIC|     Celtic FC (SCO)|   189|  88|    1992|      16|      12|1992-12-16|   4|\n",
            "|Australia|    15|     MF|      JEDINAK Mile|    JEDINAK|Aston Villa FC (ENG)|   188|  78|    1984|      03|      08|1984-08-03|   5|\n",
            "|Australia|     2|     DF|     DEGENEK Milos|    DEGENEK|Yokohama F-Marino...|   187|  85|    1994|      28|      04|1994-04-28|   6|\n",
            "|Australia|    18|     GK|     VUKOVIC Danny|    VUKOVIC|      KRC Genk (BEL)|   187|  94|    1985|      27|      03|1985-03-27|   6|\n",
            "|Australia|     1|     GK|       RYAN Mathew|       RYAN|Brighton & Hove A...|   184|  82|    1992|      08|      04|1992-04-08|   8|\n",
            "|Australia|    20|     DF|   SAINSBURY Trent|  SAINSBURY|Grasshopper Club ...|   183|  76|    1992|      05|      01|1992-01-05|   9|\n",
            "|Australia|     7|     FW|     LECKIE Mathew|     LECKIE|    Hertha BSC (GER)|   181|  84|    1991|      04|      02|1991-02-04|  10|\n",
            "|Australia|    10|     FW|      KRUSE Robbie|      KRUSE|    VfL Bochum (GER)|   180|  66|    1988|      05|      10|1988-10-05|  11|\n",
            "|Australia|     4|     FW|        CAHILL Tim|     CAHILL|   Millwall FC (ENG)|   180|  76|    1979|      06|      12|1979-12-06|  11|\n",
            "|Australia|    22|     MF|    IRVINE Jackson|     IRVINE|  Hull City FC (ENG)|   180|  77|    1993|      07|      03|1993-03-07|  11|\n",
            "|Australia|     3|     DF|    MEREDITH James|   MEREDITH|   Millwall FC (ENG)|   179|  71|    1988|      05|      04|1988-04-05|  14|\n",
            "|Australia|    14|     FW|    MacLAREN Jamie|   MACLAREN|  Hibernian FC (SCO)|   178|  72|    1993|      29|      07|1993-07-29|  15|\n",
            "|Australia|     5|     DF|     MILLIGAN Mark|   MILLIGAN|    Al Ahli SC (KSA)|   178|  78|    1985|      04|      08|1985-08-04|  15|\n",
            "|Australia|    11|     FW|    NABBOUT Andrew|    NABBOUT|    Urawa Reds (JPN)|   178|  85|    1992|      17|      12|1992-12-17|  15|\n",
            "|Australia|    21|     FW|PETRATOS Dimitrios|   PETRATOS|Newcastle United ...|   176|  72|    1992|      10|      11|1992-11-10|  18|\n",
            "|Australia|     8|     MF|    LUONGO Massimo|     LUONGO|Queens Park Range...|   176|  76|    1992|      25|      09|1992-09-25|  18|\n",
            "|Australia|    13|     MF|        MOOY Aaron|       MOOY|Huddersfield Town...|   173|  72|    1990|      15|      09|1990-09-15|  20|\n",
            "|Australia|    17|     FW|     ARZANI Daniel|     ARZANI|Melbourne City FC...|   171|  73|    1999|      04|      01|1999-01-04|  21|\n",
            "|Australia|    16|     DF|       BEHICH Aziz|     BEHICH|     Bursaspor (TUR)|   170|  63|    1990|      16|      12|1990-12-16|  22|\n",
            "|Australia|    19|     DF|     RISDON Joshua|     RISDON|WS Wanderers FC (...|   169|  70|    1992|      27|      07|1992-07-27|  23|\n",
            "|  Belgium|     1|     GK|  COURTOIS Thibaut|   COURTOIS|    Chelsea FC (ENG)|   199|  91|    1992|      11|      05|1992-05-11|   1|\n",
            "|  Belgium|    13|     GK|     CASTEELS Koen|   CASTEELS| VfL Wolfsburg (GER)|   197|  86|    1992|      25|      06|1992-06-25|   2|\n",
            "|  Belgium|     8|     MF| FELLAINI Marouane|   FELLAINI|Manchester United...|   194|  85|    1987|      22|      11|1987-11-22|   3|\n",
            "|  Belgium|    12|     GK|    MIGNOLET Simon|   MIGNOLET|  Liverpool FC (ENG)|   193|  87|    1988|      06|      03|1988-03-06|   4|\n",
            "+---------+------+-------+------------------+-----------+--------------------+------+----+--------+--------+--------+----------+----+\n",
            "only showing top 50 rows\n",
            "\n"
          ]
        }
      ]
    },
    {
      "cell_type": "markdown",
      "source": [
        "# Window function 3: ranking 2 - dense_rank()"
      ],
      "metadata": {
        "id": "FKlWLf9tem_d"
      }
    },
    {
      "cell_type": "code",
      "source": [
        "rank2 = Window.partitionBy('selecao').orderBy(desc('altura'))\n",
        "df.withColumn('rank2', dense_rank().over(rank2)).show(50)"
      ],
      "metadata": {
        "colab": {
          "base_uri": "https://localhost:8080/"
        },
        "id": "xWiXWJbSe0F7",
        "outputId": "4bee7088-845b-4ab4-aa09-c8639a846d9d"
      },
      "execution_count": 61,
      "outputs": [
        {
          "output_type": "stream",
          "name": "stdout",
          "text": [
            "+---------+------+-------+------------------+-----------+--------------------+------+----+--------+--------+--------+----------+-----+\n",
            "|  selecao|numero|posicao|         nome_fifa|nome_camisa|                time|altura|peso|ano_nasc|dia_nasc|mes_nasc|nascimento|rank2|\n",
            "+---------+------+-------+------------------+-----------+--------------------+------+----+--------+--------+--------+----------+-----+\n",
            "|Argentina|     6|     DF|    FAZIO Federico|      FAZIO|       AS Roma (ITA)|   199|  85|    1987|      17|      03|1987-03-17|    1|\n",
            "|Argentina|     1|     GK|     GUZMAN Nahuel|     GUZMÁN|   Tigres UANL (MEX)|   192|  90|    1986|      10|      02|1986-02-10|    2|\n",
            "|Argentina|    16|     DF|       ROJO Marcos|       ROJO|Manchester United...|   189|  82|    1990|      20|      03|1990-03-20|    3|\n",
            "|Argentina|    12|     GK|     ARMANI Franco|     ARMANI|CA River Plate (ARG)|   189|  85|    1986|      16|      10|1986-10-16|    3|\n",
            "|Argentina|    23|     GK|CABALLERO Wilfredo|  CABALLERO|    Chelsea FC (ENG)|   186|  80|    1981|      28|      09|1981-09-28|    4|\n",
            "|Argentina|     9|     FW|   HIGUAIN Gonzalo|    HIGUAÍN|   Juventus FC (ITA)|   184|  75|    1987|      10|      12|1987-12-10|    5|\n",
            "|Argentina|     4|     DF|  ANSALDI Cristian|    ANSALDI|     Torino FC (ITA)|   181|  73|    1986|      20|      09|1986-09-20|    6|\n",
            "|Argentina|     2|     DF|   MERCADO Gabriel|    MERCADO|    Sevilla FC (ESP)|   181|  81|    1987|      18|      03|1987-03-18|    6|\n",
            "|Argentina|    17|     DF|  OTAMENDI Nicolas|   OTAMENDI|Manchester City F...|   181|  81|    1988|      12|      02|1988-02-12|    6|\n",
            "|Argentina|    13|     MF|  MEZA Maximiliano|       MEZA|CA Independiente ...|   180|  76|    1992|      15|      12|1992-12-15|    7|\n",
            "|Argentina|    11|     MF|    DI MARIA Angel|   DI MARÍA|Paris Saint-Germa...|   178|  75|    1988|      14|      02|1988-02-14|    8|\n",
            "|Argentina|    21|     FW|      DYBALA Paulo|     DYBALA|   Juventus FC (ITA)|   177|  73|    1993|      15|      11|1993-11-15|    9|\n",
            "|Argentina|    20|     MF|  LO CELSO Giovani|   LO CELSO|Paris Saint-Germa...|   177|  75|    1996|      09|      04|1996-04-09|    9|\n",
            "|Argentina|     5|     MF|      BIGLIA Lucas|     BIGLIA|      AC Milan (ITA)|   175|  73|    1986|      30|      01|1986-01-30|   10|\n",
            "|Argentina|     7|     MF|       BANEGA Ever|     BANEGA|    Sevilla FC (ESP)|   175|  73|    1988|      29|      06|1988-06-29|   10|\n",
            "|Argentina|    14|     DF| MASCHERANO Javier| MASCHERANO|Hebei China Fortu...|   174|  73|    1984|      08|      06|1984-06-08|   11|\n",
            "|Argentina|    19|     FW|     AGUERO Sergio|     AGÜERO|Manchester City F...|   172|  74|    1988|      02|      06|1988-06-02|   12|\n",
            "|Argentina|     8|     DF|      ACUNA Marcos|      ACUÑA|   Sporting CP (POR)|   172|  77|    1991|      28|      10|1991-10-28|   12|\n",
            "|Argentina|    10|     FW|      MESSI Lionel|      MESSI|  FC Barcelona (ESP)|   170|  72|    1987|      24|      06|1987-06-24|   13|\n",
            "|Argentina|     3|     DF|TAGLIAFICO Nicolas| TAGLIAFICO|      AFC Ajax (NED)|   169|  65|    1992|      31|      08|1992-08-31|   14|\n",
            "|Argentina|    22|     MF|    PAVON Cristian|      PAVÓN|CA Boca Juniors (...|   169|  65|    1996|      21|      01|1996-01-21|   14|\n",
            "|Argentina|    15|     MF|    LANZINI Manuel|    LANZINI|West Ham United F...|   167|  66|    1993|      15|      02|1993-02-15|   15|\n",
            "|Argentina|    18|     DF|    SALVIO Eduardo|     SALVIO|    SL Benfica (POR)|   167|  69|    1990|      13|      07|1990-07-13|   15|\n",
            "|Australia|    12|     GK|        JONES Brad|      JONES|Feyenoord Rotterd...|   193|  87|    1982|      19|      03|1982-03-19|    1|\n",
            "|Australia|     9|     FW|        JURIC Tomi|      JURIC|     FC Luzern (SUI)|   190|  80|    1991|      22|      07|1991-07-22|    2|\n",
            "|Australia|     6|     DF|    JURMAN Matthew|     JURMAN|Suwon Samsung Blu...|   190|  83|    1989|      08|      12|1989-12-08|    2|\n",
            "|Australia|    23|     MF|         ROGIC Tom|      ROGIC|     Celtic FC (SCO)|   189|  88|    1992|      16|      12|1992-12-16|    3|\n",
            "|Australia|    15|     MF|      JEDINAK Mile|    JEDINAK|Aston Villa FC (ENG)|   188|  78|    1984|      03|      08|1984-08-03|    4|\n",
            "|Australia|     2|     DF|     DEGENEK Milos|    DEGENEK|Yokohama F-Marino...|   187|  85|    1994|      28|      04|1994-04-28|    5|\n",
            "|Australia|    18|     GK|     VUKOVIC Danny|    VUKOVIC|      KRC Genk (BEL)|   187|  94|    1985|      27|      03|1985-03-27|    5|\n",
            "|Australia|     1|     GK|       RYAN Mathew|       RYAN|Brighton & Hove A...|   184|  82|    1992|      08|      04|1992-04-08|    6|\n",
            "|Australia|    20|     DF|   SAINSBURY Trent|  SAINSBURY|Grasshopper Club ...|   183|  76|    1992|      05|      01|1992-01-05|    7|\n",
            "|Australia|     7|     FW|     LECKIE Mathew|     LECKIE|    Hertha BSC (GER)|   181|  84|    1991|      04|      02|1991-02-04|    8|\n",
            "|Australia|    10|     FW|      KRUSE Robbie|      KRUSE|    VfL Bochum (GER)|   180|  66|    1988|      05|      10|1988-10-05|    9|\n",
            "|Australia|     4|     FW|        CAHILL Tim|     CAHILL|   Millwall FC (ENG)|   180|  76|    1979|      06|      12|1979-12-06|    9|\n",
            "|Australia|    22|     MF|    IRVINE Jackson|     IRVINE|  Hull City FC (ENG)|   180|  77|    1993|      07|      03|1993-03-07|    9|\n",
            "|Australia|     3|     DF|    MEREDITH James|   MEREDITH|   Millwall FC (ENG)|   179|  71|    1988|      05|      04|1988-04-05|   10|\n",
            "|Australia|    14|     FW|    MacLAREN Jamie|   MACLAREN|  Hibernian FC (SCO)|   178|  72|    1993|      29|      07|1993-07-29|   11|\n",
            "|Australia|     5|     DF|     MILLIGAN Mark|   MILLIGAN|    Al Ahli SC (KSA)|   178|  78|    1985|      04|      08|1985-08-04|   11|\n",
            "|Australia|    11|     FW|    NABBOUT Andrew|    NABBOUT|    Urawa Reds (JPN)|   178|  85|    1992|      17|      12|1992-12-17|   11|\n",
            "|Australia|    21|     FW|PETRATOS Dimitrios|   PETRATOS|Newcastle United ...|   176|  72|    1992|      10|      11|1992-11-10|   12|\n",
            "|Australia|     8|     MF|    LUONGO Massimo|     LUONGO|Queens Park Range...|   176|  76|    1992|      25|      09|1992-09-25|   12|\n",
            "|Australia|    13|     MF|        MOOY Aaron|       MOOY|Huddersfield Town...|   173|  72|    1990|      15|      09|1990-09-15|   13|\n",
            "|Australia|    17|     FW|     ARZANI Daniel|     ARZANI|Melbourne City FC...|   171|  73|    1999|      04|      01|1999-01-04|   14|\n",
            "|Australia|    16|     DF|       BEHICH Aziz|     BEHICH|     Bursaspor (TUR)|   170|  63|    1990|      16|      12|1990-12-16|   15|\n",
            "|Australia|    19|     DF|     RISDON Joshua|     RISDON|WS Wanderers FC (...|   169|  70|    1992|      27|      07|1992-07-27|   16|\n",
            "|  Belgium|     1|     GK|  COURTOIS Thibaut|   COURTOIS|    Chelsea FC (ENG)|   199|  91|    1992|      11|      05|1992-05-11|    1|\n",
            "|  Belgium|    13|     GK|     CASTEELS Koen|   CASTEELS| VfL Wolfsburg (GER)|   197|  86|    1992|      25|      06|1992-06-25|    2|\n",
            "|  Belgium|     8|     MF| FELLAINI Marouane|   FELLAINI|Manchester United...|   194|  85|    1987|      22|      11|1987-11-22|    3|\n",
            "|  Belgium|    12|     GK|    MIGNOLET Simon|   MIGNOLET|  Liverpool FC (ENG)|   193|  87|    1988|      06|      03|1988-03-06|    4|\n",
            "+---------+------+-------+------------------+-----------+--------------------+------+----+--------+--------+--------+----------+-----+\n",
            "only showing top 50 rows\n",
            "\n"
          ]
        }
      ]
    },
    {
      "cell_type": "markdown",
      "source": [
        "# Window function 4: porcentagem ranking - percent_rank()"
      ],
      "metadata": {
        "id": "Ym4qj0p7evK8"
      }
    },
    {
      "cell_type": "code",
      "source": [
        "porcentagem = Window.partitionBy('selecao').orderBy(desc('altura'))\n",
        "df.withColumn('%', percent_rank().over(porcentagem)).show(50)"
      ],
      "metadata": {
        "colab": {
          "base_uri": "https://localhost:8080/"
        },
        "id": "1Nv96Inie0sU",
        "outputId": "2898e34a-e9ae-436a-da43-84f34f34bad7"
      },
      "execution_count": 64,
      "outputs": [
        {
          "output_type": "stream",
          "name": "stdout",
          "text": [
            "+---------+------+-------+------------------+-----------+--------------------+------+----+--------+--------+--------+----------+--------------------+\n",
            "|  selecao|numero|posicao|         nome_fifa|nome_camisa|                time|altura|peso|ano_nasc|dia_nasc|mes_nasc|nascimento|                   %|\n",
            "+---------+------+-------+------------------+-----------+--------------------+------+----+--------+--------+--------+----------+--------------------+\n",
            "|Argentina|     6|     DF|    FAZIO Federico|      FAZIO|       AS Roma (ITA)|   199|  85|    1987|      17|      03|1987-03-17|                 0.0|\n",
            "|Argentina|     1|     GK|     GUZMAN Nahuel|     GUZMÁN|   Tigres UANL (MEX)|   192|  90|    1986|      10|      02|1986-02-10|0.045454545454545456|\n",
            "|Argentina|    16|     DF|       ROJO Marcos|       ROJO|Manchester United...|   189|  82|    1990|      20|      03|1990-03-20| 0.09090909090909091|\n",
            "|Argentina|    12|     GK|     ARMANI Franco|     ARMANI|CA River Plate (ARG)|   189|  85|    1986|      16|      10|1986-10-16| 0.09090909090909091|\n",
            "|Argentina|    23|     GK|CABALLERO Wilfredo|  CABALLERO|    Chelsea FC (ENG)|   186|  80|    1981|      28|      09|1981-09-28| 0.18181818181818182|\n",
            "|Argentina|     9|     FW|   HIGUAIN Gonzalo|    HIGUAÍN|   Juventus FC (ITA)|   184|  75|    1987|      10|      12|1987-12-10| 0.22727272727272727|\n",
            "|Argentina|     4|     DF|  ANSALDI Cristian|    ANSALDI|     Torino FC (ITA)|   181|  73|    1986|      20|      09|1986-09-20|  0.2727272727272727|\n",
            "|Argentina|     2|     DF|   MERCADO Gabriel|    MERCADO|    Sevilla FC (ESP)|   181|  81|    1987|      18|      03|1987-03-18|  0.2727272727272727|\n",
            "|Argentina|    17|     DF|  OTAMENDI Nicolas|   OTAMENDI|Manchester City F...|   181|  81|    1988|      12|      02|1988-02-12|  0.2727272727272727|\n",
            "|Argentina|    13|     MF|  MEZA Maximiliano|       MEZA|CA Independiente ...|   180|  76|    1992|      15|      12|1992-12-15|  0.4090909090909091|\n",
            "|Argentina|    11|     MF|    DI MARIA Angel|   DI MARÍA|Paris Saint-Germa...|   178|  75|    1988|      14|      02|1988-02-14| 0.45454545454545453|\n",
            "|Argentina|    21|     FW|      DYBALA Paulo|     DYBALA|   Juventus FC (ITA)|   177|  73|    1993|      15|      11|1993-11-15|                 0.5|\n",
            "|Argentina|    20|     MF|  LO CELSO Giovani|   LO CELSO|Paris Saint-Germa...|   177|  75|    1996|      09|      04|1996-04-09|                 0.5|\n",
            "|Argentina|     5|     MF|      BIGLIA Lucas|     BIGLIA|      AC Milan (ITA)|   175|  73|    1986|      30|      01|1986-01-30|  0.5909090909090909|\n",
            "|Argentina|     7|     MF|       BANEGA Ever|     BANEGA|    Sevilla FC (ESP)|   175|  73|    1988|      29|      06|1988-06-29|  0.5909090909090909|\n",
            "|Argentina|    14|     DF| MASCHERANO Javier| MASCHERANO|Hebei China Fortu...|   174|  73|    1984|      08|      06|1984-06-08|  0.6818181818181818|\n",
            "|Argentina|    19|     FW|     AGUERO Sergio|     AGÜERO|Manchester City F...|   172|  74|    1988|      02|      06|1988-06-02|  0.7272727272727273|\n",
            "|Argentina|     8|     DF|      ACUNA Marcos|      ACUÑA|   Sporting CP (POR)|   172|  77|    1991|      28|      10|1991-10-28|  0.7272727272727273|\n",
            "|Argentina|    10|     FW|      MESSI Lionel|      MESSI|  FC Barcelona (ESP)|   170|  72|    1987|      24|      06|1987-06-24|  0.8181818181818182|\n",
            "|Argentina|     3|     DF|TAGLIAFICO Nicolas| TAGLIAFICO|      AFC Ajax (NED)|   169|  65|    1992|      31|      08|1992-08-31|  0.8636363636363636|\n",
            "|Argentina|    22|     MF|    PAVON Cristian|      PAVÓN|CA Boca Juniors (...|   169|  65|    1996|      21|      01|1996-01-21|  0.8636363636363636|\n",
            "|Argentina|    15|     MF|    LANZINI Manuel|    LANZINI|West Ham United F...|   167|  66|    1993|      15|      02|1993-02-15|  0.9545454545454546|\n",
            "|Argentina|    18|     DF|    SALVIO Eduardo|     SALVIO|    SL Benfica (POR)|   167|  69|    1990|      13|      07|1990-07-13|  0.9545454545454546|\n",
            "|Australia|    12|     GK|        JONES Brad|      JONES|Feyenoord Rotterd...|   193|  87|    1982|      19|      03|1982-03-19|                 0.0|\n",
            "|Australia|     9|     FW|        JURIC Tomi|      JURIC|     FC Luzern (SUI)|   190|  80|    1991|      22|      07|1991-07-22|0.045454545454545456|\n",
            "|Australia|     6|     DF|    JURMAN Matthew|     JURMAN|Suwon Samsung Blu...|   190|  83|    1989|      08|      12|1989-12-08|0.045454545454545456|\n",
            "|Australia|    23|     MF|         ROGIC Tom|      ROGIC|     Celtic FC (SCO)|   189|  88|    1992|      16|      12|1992-12-16| 0.13636363636363635|\n",
            "|Australia|    15|     MF|      JEDINAK Mile|    JEDINAK|Aston Villa FC (ENG)|   188|  78|    1984|      03|      08|1984-08-03| 0.18181818181818182|\n",
            "|Australia|     2|     DF|     DEGENEK Milos|    DEGENEK|Yokohama F-Marino...|   187|  85|    1994|      28|      04|1994-04-28| 0.22727272727272727|\n",
            "|Australia|    18|     GK|     VUKOVIC Danny|    VUKOVIC|      KRC Genk (BEL)|   187|  94|    1985|      27|      03|1985-03-27| 0.22727272727272727|\n",
            "|Australia|     1|     GK|       RYAN Mathew|       RYAN|Brighton & Hove A...|   184|  82|    1992|      08|      04|1992-04-08|  0.3181818181818182|\n",
            "|Australia|    20|     DF|   SAINSBURY Trent|  SAINSBURY|Grasshopper Club ...|   183|  76|    1992|      05|      01|1992-01-05| 0.36363636363636365|\n",
            "|Australia|     7|     FW|     LECKIE Mathew|     LECKIE|    Hertha BSC (GER)|   181|  84|    1991|      04|      02|1991-02-04|  0.4090909090909091|\n",
            "|Australia|    10|     FW|      KRUSE Robbie|      KRUSE|    VfL Bochum (GER)|   180|  66|    1988|      05|      10|1988-10-05| 0.45454545454545453|\n",
            "|Australia|     4|     FW|        CAHILL Tim|     CAHILL|   Millwall FC (ENG)|   180|  76|    1979|      06|      12|1979-12-06| 0.45454545454545453|\n",
            "|Australia|    22|     MF|    IRVINE Jackson|     IRVINE|  Hull City FC (ENG)|   180|  77|    1993|      07|      03|1993-03-07| 0.45454545454545453|\n",
            "|Australia|     3|     DF|    MEREDITH James|   MEREDITH|   Millwall FC (ENG)|   179|  71|    1988|      05|      04|1988-04-05|  0.5909090909090909|\n",
            "|Australia|    14|     FW|    MacLAREN Jamie|   MACLAREN|  Hibernian FC (SCO)|   178|  72|    1993|      29|      07|1993-07-29|  0.6363636363636364|\n",
            "|Australia|     5|     DF|     MILLIGAN Mark|   MILLIGAN|    Al Ahli SC (KSA)|   178|  78|    1985|      04|      08|1985-08-04|  0.6363636363636364|\n",
            "|Australia|    11|     FW|    NABBOUT Andrew|    NABBOUT|    Urawa Reds (JPN)|   178|  85|    1992|      17|      12|1992-12-17|  0.6363636363636364|\n",
            "|Australia|    21|     FW|PETRATOS Dimitrios|   PETRATOS|Newcastle United ...|   176|  72|    1992|      10|      11|1992-11-10|  0.7727272727272727|\n",
            "|Australia|     8|     MF|    LUONGO Massimo|     LUONGO|Queens Park Range...|   176|  76|    1992|      25|      09|1992-09-25|  0.7727272727272727|\n",
            "|Australia|    13|     MF|        MOOY Aaron|       MOOY|Huddersfield Town...|   173|  72|    1990|      15|      09|1990-09-15|  0.8636363636363636|\n",
            "|Australia|    17|     FW|     ARZANI Daniel|     ARZANI|Melbourne City FC...|   171|  73|    1999|      04|      01|1999-01-04|  0.9090909090909091|\n",
            "|Australia|    16|     DF|       BEHICH Aziz|     BEHICH|     Bursaspor (TUR)|   170|  63|    1990|      16|      12|1990-12-16|  0.9545454545454546|\n",
            "|Australia|    19|     DF|     RISDON Joshua|     RISDON|WS Wanderers FC (...|   169|  70|    1992|      27|      07|1992-07-27|                 1.0|\n",
            "|  Belgium|     1|     GK|  COURTOIS Thibaut|   COURTOIS|    Chelsea FC (ENG)|   199|  91|    1992|      11|      05|1992-05-11|                 0.0|\n",
            "|  Belgium|    13|     GK|     CASTEELS Koen|   CASTEELS| VfL Wolfsburg (GER)|   197|  86|    1992|      25|      06|1992-06-25|0.045454545454545456|\n",
            "|  Belgium|     8|     MF| FELLAINI Marouane|   FELLAINI|Manchester United...|   194|  85|    1987|      22|      11|1987-11-22| 0.09090909090909091|\n",
            "|  Belgium|    12|     GK|    MIGNOLET Simon|   MIGNOLET|  Liverpool FC (ENG)|   193|  87|    1988|      06|      03|1988-03-06| 0.13636363636363635|\n",
            "+---------+------+-------+------------------+-----------+--------------------+------+----+--------+--------+--------+----------+--------------------+\n",
            "only showing top 50 rows\n",
            "\n"
          ]
        }
      ]
    },
    {
      "cell_type": "markdown",
      "source": [
        "# Window function 5: divisão em 'N' - ntile()"
      ],
      "metadata": {
        "id": "TDFGlHWKew2o"
      }
    },
    {
      "cell_type": "code",
      "source": [
        "# efetua a divisão das linhas de dados de acordo com o partitionby\n",
        "\n",
        "parte = Window.partitionBy('selecao').orderBy(desc('altura'))\n",
        "df.withColumn('parte', ntile(5).over(parte)).show(50)"
      ],
      "metadata": {
        "colab": {
          "base_uri": "https://localhost:8080/"
        },
        "id": "XWxEZm2Be1E2",
        "outputId": "e84d8f8e-20da-4795-cdf5-de5ab6eb703a"
      },
      "execution_count": 69,
      "outputs": [
        {
          "output_type": "stream",
          "name": "stdout",
          "text": [
            "+---------+------+-------+------------------+-----------+--------------------+------+----+--------+--------+--------+----------+-----+\n",
            "|  selecao|numero|posicao|         nome_fifa|nome_camisa|                time|altura|peso|ano_nasc|dia_nasc|mes_nasc|nascimento|parte|\n",
            "+---------+------+-------+------------------+-----------+--------------------+------+----+--------+--------+--------+----------+-----+\n",
            "|Argentina|     6|     DF|    FAZIO Federico|      FAZIO|       AS Roma (ITA)|   199|  85|    1987|      17|      03|1987-03-17|    1|\n",
            "|Argentina|     1|     GK|     GUZMAN Nahuel|     GUZMÁN|   Tigres UANL (MEX)|   192|  90|    1986|      10|      02|1986-02-10|    1|\n",
            "|Argentina|    16|     DF|       ROJO Marcos|       ROJO|Manchester United...|   189|  82|    1990|      20|      03|1990-03-20|    1|\n",
            "|Argentina|    12|     GK|     ARMANI Franco|     ARMANI|CA River Plate (ARG)|   189|  85|    1986|      16|      10|1986-10-16|    1|\n",
            "|Argentina|    23|     GK|CABALLERO Wilfredo|  CABALLERO|    Chelsea FC (ENG)|   186|  80|    1981|      28|      09|1981-09-28|    1|\n",
            "|Argentina|     9|     FW|   HIGUAIN Gonzalo|    HIGUAÍN|   Juventus FC (ITA)|   184|  75|    1987|      10|      12|1987-12-10|    2|\n",
            "|Argentina|     4|     DF|  ANSALDI Cristian|    ANSALDI|     Torino FC (ITA)|   181|  73|    1986|      20|      09|1986-09-20|    2|\n",
            "|Argentina|     2|     DF|   MERCADO Gabriel|    MERCADO|    Sevilla FC (ESP)|   181|  81|    1987|      18|      03|1987-03-18|    2|\n",
            "|Argentina|    17|     DF|  OTAMENDI Nicolas|   OTAMENDI|Manchester City F...|   181|  81|    1988|      12|      02|1988-02-12|    2|\n",
            "|Argentina|    13|     MF|  MEZA Maximiliano|       MEZA|CA Independiente ...|   180|  76|    1992|      15|      12|1992-12-15|    2|\n",
            "|Argentina|    11|     MF|    DI MARIA Angel|   DI MARÍA|Paris Saint-Germa...|   178|  75|    1988|      14|      02|1988-02-14|    3|\n",
            "|Argentina|    21|     FW|      DYBALA Paulo|     DYBALA|   Juventus FC (ITA)|   177|  73|    1993|      15|      11|1993-11-15|    3|\n",
            "|Argentina|    20|     MF|  LO CELSO Giovani|   LO CELSO|Paris Saint-Germa...|   177|  75|    1996|      09|      04|1996-04-09|    3|\n",
            "|Argentina|     5|     MF|      BIGLIA Lucas|     BIGLIA|      AC Milan (ITA)|   175|  73|    1986|      30|      01|1986-01-30|    3|\n",
            "|Argentina|     7|     MF|       BANEGA Ever|     BANEGA|    Sevilla FC (ESP)|   175|  73|    1988|      29|      06|1988-06-29|    3|\n",
            "|Argentina|    14|     DF| MASCHERANO Javier| MASCHERANO|Hebei China Fortu...|   174|  73|    1984|      08|      06|1984-06-08|    4|\n",
            "|Argentina|    19|     FW|     AGUERO Sergio|     AGÜERO|Manchester City F...|   172|  74|    1988|      02|      06|1988-06-02|    4|\n",
            "|Argentina|     8|     DF|      ACUNA Marcos|      ACUÑA|   Sporting CP (POR)|   172|  77|    1991|      28|      10|1991-10-28|    4|\n",
            "|Argentina|    10|     FW|      MESSI Lionel|      MESSI|  FC Barcelona (ESP)|   170|  72|    1987|      24|      06|1987-06-24|    4|\n",
            "|Argentina|     3|     DF|TAGLIAFICO Nicolas| TAGLIAFICO|      AFC Ajax (NED)|   169|  65|    1992|      31|      08|1992-08-31|    5|\n",
            "|Argentina|    22|     MF|    PAVON Cristian|      PAVÓN|CA Boca Juniors (...|   169|  65|    1996|      21|      01|1996-01-21|    5|\n",
            "|Argentina|    15|     MF|    LANZINI Manuel|    LANZINI|West Ham United F...|   167|  66|    1993|      15|      02|1993-02-15|    5|\n",
            "|Argentina|    18|     DF|    SALVIO Eduardo|     SALVIO|    SL Benfica (POR)|   167|  69|    1990|      13|      07|1990-07-13|    5|\n",
            "|Australia|    12|     GK|        JONES Brad|      JONES|Feyenoord Rotterd...|   193|  87|    1982|      19|      03|1982-03-19|    1|\n",
            "|Australia|     9|     FW|        JURIC Tomi|      JURIC|     FC Luzern (SUI)|   190|  80|    1991|      22|      07|1991-07-22|    1|\n",
            "|Australia|     6|     DF|    JURMAN Matthew|     JURMAN|Suwon Samsung Blu...|   190|  83|    1989|      08|      12|1989-12-08|    1|\n",
            "|Australia|    23|     MF|         ROGIC Tom|      ROGIC|     Celtic FC (SCO)|   189|  88|    1992|      16|      12|1992-12-16|    1|\n",
            "|Australia|    15|     MF|      JEDINAK Mile|    JEDINAK|Aston Villa FC (ENG)|   188|  78|    1984|      03|      08|1984-08-03|    1|\n",
            "|Australia|     2|     DF|     DEGENEK Milos|    DEGENEK|Yokohama F-Marino...|   187|  85|    1994|      28|      04|1994-04-28|    2|\n",
            "|Australia|    18|     GK|     VUKOVIC Danny|    VUKOVIC|      KRC Genk (BEL)|   187|  94|    1985|      27|      03|1985-03-27|    2|\n",
            "|Australia|     1|     GK|       RYAN Mathew|       RYAN|Brighton & Hove A...|   184|  82|    1992|      08|      04|1992-04-08|    2|\n",
            "|Australia|    20|     DF|   SAINSBURY Trent|  SAINSBURY|Grasshopper Club ...|   183|  76|    1992|      05|      01|1992-01-05|    2|\n",
            "|Australia|     7|     FW|     LECKIE Mathew|     LECKIE|    Hertha BSC (GER)|   181|  84|    1991|      04|      02|1991-02-04|    2|\n",
            "|Australia|    10|     FW|      KRUSE Robbie|      KRUSE|    VfL Bochum (GER)|   180|  66|    1988|      05|      10|1988-10-05|    3|\n",
            "|Australia|     4|     FW|        CAHILL Tim|     CAHILL|   Millwall FC (ENG)|   180|  76|    1979|      06|      12|1979-12-06|    3|\n",
            "|Australia|    22|     MF|    IRVINE Jackson|     IRVINE|  Hull City FC (ENG)|   180|  77|    1993|      07|      03|1993-03-07|    3|\n",
            "|Australia|     3|     DF|    MEREDITH James|   MEREDITH|   Millwall FC (ENG)|   179|  71|    1988|      05|      04|1988-04-05|    3|\n",
            "|Australia|    14|     FW|    MacLAREN Jamie|   MACLAREN|  Hibernian FC (SCO)|   178|  72|    1993|      29|      07|1993-07-29|    3|\n",
            "|Australia|     5|     DF|     MILLIGAN Mark|   MILLIGAN|    Al Ahli SC (KSA)|   178|  78|    1985|      04|      08|1985-08-04|    4|\n",
            "|Australia|    11|     FW|    NABBOUT Andrew|    NABBOUT|    Urawa Reds (JPN)|   178|  85|    1992|      17|      12|1992-12-17|    4|\n",
            "|Australia|    21|     FW|PETRATOS Dimitrios|   PETRATOS|Newcastle United ...|   176|  72|    1992|      10|      11|1992-11-10|    4|\n",
            "|Australia|     8|     MF|    LUONGO Massimo|     LUONGO|Queens Park Range...|   176|  76|    1992|      25|      09|1992-09-25|    4|\n",
            "|Australia|    13|     MF|        MOOY Aaron|       MOOY|Huddersfield Town...|   173|  72|    1990|      15|      09|1990-09-15|    5|\n",
            "|Australia|    17|     FW|     ARZANI Daniel|     ARZANI|Melbourne City FC...|   171|  73|    1999|      04|      01|1999-01-04|    5|\n",
            "|Australia|    16|     DF|       BEHICH Aziz|     BEHICH|     Bursaspor (TUR)|   170|  63|    1990|      16|      12|1990-12-16|    5|\n",
            "|Australia|    19|     DF|     RISDON Joshua|     RISDON|WS Wanderers FC (...|   169|  70|    1992|      27|      07|1992-07-27|    5|\n",
            "|  Belgium|     1|     GK|  COURTOIS Thibaut|   COURTOIS|    Chelsea FC (ENG)|   199|  91|    1992|      11|      05|1992-05-11|    1|\n",
            "|  Belgium|    13|     GK|     CASTEELS Koen|   CASTEELS| VfL Wolfsburg (GER)|   197|  86|    1992|      25|      06|1992-06-25|    1|\n",
            "|  Belgium|     8|     MF| FELLAINI Marouane|   FELLAINI|Manchester United...|   194|  85|    1987|      22|      11|1987-11-22|    1|\n",
            "|  Belgium|    12|     GK|    MIGNOLET Simon|   MIGNOLET|  Liverpool FC (ENG)|   193|  87|    1988|      06|      03|1988-03-06|    1|\n",
            "+---------+------+-------+------------------+-----------+--------------------+------+----+--------+--------+--------+----------+-----+\n",
            "only showing top 50 rows\n",
            "\n"
          ]
        }
      ]
    },
    {
      "cell_type": "markdown",
      "source": [
        "# Window Analytic Functions"
      ],
      "metadata": {
        "id": "Y0nOdaFBkbqp"
      }
    },
    {
      "cell_type": "markdown",
      "source": [
        "# Window function  LAG / Degrau - lag()"
      ],
      "metadata": {
        "id": "NMVBE9sjlA7Q"
      }
    },
    {
      "cell_type": "code",
      "source": [
        "degrau = Window.partitionBy('selecao').orderBy(desc('altura'))\n",
        "df.withColumn('degrau', lag(col('altura')).over(degrau)).show(50)"
      ],
      "metadata": {
        "colab": {
          "base_uri": "https://localhost:8080/"
        },
        "id": "UOtqYKcGlIoa",
        "outputId": "0d0a54ab-c937-40d6-9b7b-ad3a5dd14d64"
      },
      "execution_count": 72,
      "outputs": [
        {
          "output_type": "stream",
          "name": "stdout",
          "text": [
            "+---------+------+-------+------------------+-----------+--------------------+------+----+--------+--------+--------+----------+------+\n",
            "|  selecao|numero|posicao|         nome_fifa|nome_camisa|                time|altura|peso|ano_nasc|dia_nasc|mes_nasc|nascimento|degrau|\n",
            "+---------+------+-------+------------------+-----------+--------------------+------+----+--------+--------+--------+----------+------+\n",
            "|Argentina|     6|     DF|    FAZIO Federico|      FAZIO|       AS Roma (ITA)|   199|  85|    1987|      17|      03|1987-03-17|  NULL|\n",
            "|Argentina|     1|     GK|     GUZMAN Nahuel|     GUZMÁN|   Tigres UANL (MEX)|   192|  90|    1986|      10|      02|1986-02-10|   199|\n",
            "|Argentina|    16|     DF|       ROJO Marcos|       ROJO|Manchester United...|   189|  82|    1990|      20|      03|1990-03-20|   192|\n",
            "|Argentina|    12|     GK|     ARMANI Franco|     ARMANI|CA River Plate (ARG)|   189|  85|    1986|      16|      10|1986-10-16|   189|\n",
            "|Argentina|    23|     GK|CABALLERO Wilfredo|  CABALLERO|    Chelsea FC (ENG)|   186|  80|    1981|      28|      09|1981-09-28|   189|\n",
            "|Argentina|     9|     FW|   HIGUAIN Gonzalo|    HIGUAÍN|   Juventus FC (ITA)|   184|  75|    1987|      10|      12|1987-12-10|   186|\n",
            "|Argentina|     4|     DF|  ANSALDI Cristian|    ANSALDI|     Torino FC (ITA)|   181|  73|    1986|      20|      09|1986-09-20|   184|\n",
            "|Argentina|     2|     DF|   MERCADO Gabriel|    MERCADO|    Sevilla FC (ESP)|   181|  81|    1987|      18|      03|1987-03-18|   181|\n",
            "|Argentina|    17|     DF|  OTAMENDI Nicolas|   OTAMENDI|Manchester City F...|   181|  81|    1988|      12|      02|1988-02-12|   181|\n",
            "|Argentina|    13|     MF|  MEZA Maximiliano|       MEZA|CA Independiente ...|   180|  76|    1992|      15|      12|1992-12-15|   181|\n",
            "|Argentina|    11|     MF|    DI MARIA Angel|   DI MARÍA|Paris Saint-Germa...|   178|  75|    1988|      14|      02|1988-02-14|   180|\n",
            "|Argentina|    21|     FW|      DYBALA Paulo|     DYBALA|   Juventus FC (ITA)|   177|  73|    1993|      15|      11|1993-11-15|   178|\n",
            "|Argentina|    20|     MF|  LO CELSO Giovani|   LO CELSO|Paris Saint-Germa...|   177|  75|    1996|      09|      04|1996-04-09|   177|\n",
            "|Argentina|     5|     MF|      BIGLIA Lucas|     BIGLIA|      AC Milan (ITA)|   175|  73|    1986|      30|      01|1986-01-30|   177|\n",
            "|Argentina|     7|     MF|       BANEGA Ever|     BANEGA|    Sevilla FC (ESP)|   175|  73|    1988|      29|      06|1988-06-29|   175|\n",
            "|Argentina|    14|     DF| MASCHERANO Javier| MASCHERANO|Hebei China Fortu...|   174|  73|    1984|      08|      06|1984-06-08|   175|\n",
            "|Argentina|    19|     FW|     AGUERO Sergio|     AGÜERO|Manchester City F...|   172|  74|    1988|      02|      06|1988-06-02|   174|\n",
            "|Argentina|     8|     DF|      ACUNA Marcos|      ACUÑA|   Sporting CP (POR)|   172|  77|    1991|      28|      10|1991-10-28|   172|\n",
            "|Argentina|    10|     FW|      MESSI Lionel|      MESSI|  FC Barcelona (ESP)|   170|  72|    1987|      24|      06|1987-06-24|   172|\n",
            "|Argentina|     3|     DF|TAGLIAFICO Nicolas| TAGLIAFICO|      AFC Ajax (NED)|   169|  65|    1992|      31|      08|1992-08-31|   170|\n",
            "|Argentina|    22|     MF|    PAVON Cristian|      PAVÓN|CA Boca Juniors (...|   169|  65|    1996|      21|      01|1996-01-21|   169|\n",
            "|Argentina|    15|     MF|    LANZINI Manuel|    LANZINI|West Ham United F...|   167|  66|    1993|      15|      02|1993-02-15|   169|\n",
            "|Argentina|    18|     DF|    SALVIO Eduardo|     SALVIO|    SL Benfica (POR)|   167|  69|    1990|      13|      07|1990-07-13|   167|\n",
            "|Australia|    12|     GK|        JONES Brad|      JONES|Feyenoord Rotterd...|   193|  87|    1982|      19|      03|1982-03-19|  NULL|\n",
            "|Australia|     9|     FW|        JURIC Tomi|      JURIC|     FC Luzern (SUI)|   190|  80|    1991|      22|      07|1991-07-22|   193|\n",
            "|Australia|     6|     DF|    JURMAN Matthew|     JURMAN|Suwon Samsung Blu...|   190|  83|    1989|      08|      12|1989-12-08|   190|\n",
            "|Australia|    23|     MF|         ROGIC Tom|      ROGIC|     Celtic FC (SCO)|   189|  88|    1992|      16|      12|1992-12-16|   190|\n",
            "|Australia|    15|     MF|      JEDINAK Mile|    JEDINAK|Aston Villa FC (ENG)|   188|  78|    1984|      03|      08|1984-08-03|   189|\n",
            "|Australia|     2|     DF|     DEGENEK Milos|    DEGENEK|Yokohama F-Marino...|   187|  85|    1994|      28|      04|1994-04-28|   188|\n",
            "|Australia|    18|     GK|     VUKOVIC Danny|    VUKOVIC|      KRC Genk (BEL)|   187|  94|    1985|      27|      03|1985-03-27|   187|\n",
            "|Australia|     1|     GK|       RYAN Mathew|       RYAN|Brighton & Hove A...|   184|  82|    1992|      08|      04|1992-04-08|   187|\n",
            "|Australia|    20|     DF|   SAINSBURY Trent|  SAINSBURY|Grasshopper Club ...|   183|  76|    1992|      05|      01|1992-01-05|   184|\n",
            "|Australia|     7|     FW|     LECKIE Mathew|     LECKIE|    Hertha BSC (GER)|   181|  84|    1991|      04|      02|1991-02-04|   183|\n",
            "|Australia|    10|     FW|      KRUSE Robbie|      KRUSE|    VfL Bochum (GER)|   180|  66|    1988|      05|      10|1988-10-05|   181|\n",
            "|Australia|     4|     FW|        CAHILL Tim|     CAHILL|   Millwall FC (ENG)|   180|  76|    1979|      06|      12|1979-12-06|   180|\n",
            "|Australia|    22|     MF|    IRVINE Jackson|     IRVINE|  Hull City FC (ENG)|   180|  77|    1993|      07|      03|1993-03-07|   180|\n",
            "|Australia|     3|     DF|    MEREDITH James|   MEREDITH|   Millwall FC (ENG)|   179|  71|    1988|      05|      04|1988-04-05|   180|\n",
            "|Australia|    14|     FW|    MacLAREN Jamie|   MACLAREN|  Hibernian FC (SCO)|   178|  72|    1993|      29|      07|1993-07-29|   179|\n",
            "|Australia|     5|     DF|     MILLIGAN Mark|   MILLIGAN|    Al Ahli SC (KSA)|   178|  78|    1985|      04|      08|1985-08-04|   178|\n",
            "|Australia|    11|     FW|    NABBOUT Andrew|    NABBOUT|    Urawa Reds (JPN)|   178|  85|    1992|      17|      12|1992-12-17|   178|\n",
            "|Australia|    21|     FW|PETRATOS Dimitrios|   PETRATOS|Newcastle United ...|   176|  72|    1992|      10|      11|1992-11-10|   178|\n",
            "|Australia|     8|     MF|    LUONGO Massimo|     LUONGO|Queens Park Range...|   176|  76|    1992|      25|      09|1992-09-25|   176|\n",
            "|Australia|    13|     MF|        MOOY Aaron|       MOOY|Huddersfield Town...|   173|  72|    1990|      15|      09|1990-09-15|   176|\n",
            "|Australia|    17|     FW|     ARZANI Daniel|     ARZANI|Melbourne City FC...|   171|  73|    1999|      04|      01|1999-01-04|   173|\n",
            "|Australia|    16|     DF|       BEHICH Aziz|     BEHICH|     Bursaspor (TUR)|   170|  63|    1990|      16|      12|1990-12-16|   171|\n",
            "|Australia|    19|     DF|     RISDON Joshua|     RISDON|WS Wanderers FC (...|   169|  70|    1992|      27|      07|1992-07-27|   170|\n",
            "|  Belgium|     1|     GK|  COURTOIS Thibaut|   COURTOIS|    Chelsea FC (ENG)|   199|  91|    1992|      11|      05|1992-05-11|  NULL|\n",
            "|  Belgium|    13|     GK|     CASTEELS Koen|   CASTEELS| VfL Wolfsburg (GER)|   197|  86|    1992|      25|      06|1992-06-25|   199|\n",
            "|  Belgium|     8|     MF| FELLAINI Marouane|   FELLAINI|Manchester United...|   194|  85|    1987|      22|      11|1987-11-22|   197|\n",
            "|  Belgium|    12|     GK|    MIGNOLET Simon|   MIGNOLET|  Liverpool FC (ENG)|   193|  87|    1988|      06|      03|1988-03-06|   194|\n",
            "+---------+------+-------+------------------+-----------+--------------------+------+----+--------+--------+--------+----------+------+\n",
            "only showing top 50 rows\n",
            "\n"
          ]
        }
      ]
    },
    {
      "cell_type": "markdown",
      "source": [
        "# Lead / Degrau - lead()"
      ],
      "metadata": {
        "id": "xI5fktiQlJcj"
      }
    },
    {
      "cell_type": "code",
      "source": [
        "degrau2 = Window.partitionBy('selecao').orderBy(desc('altura'))\n",
        "df.withColumn('degrau2', lead(col('altura')).over(degrau2)).show(50)"
      ],
      "metadata": {
        "colab": {
          "base_uri": "https://localhost:8080/"
        },
        "id": "AKfbH7xEl83A",
        "outputId": "165d2339-dc9e-44af-93bb-1c2d3c092bb6"
      },
      "execution_count": 74,
      "outputs": [
        {
          "output_type": "stream",
          "name": "stdout",
          "text": [
            "+---------+------+-------+------------------+-----------+--------------------+------+----+--------+--------+--------+----------+-------+\n",
            "|  selecao|numero|posicao|         nome_fifa|nome_camisa|                time|altura|peso|ano_nasc|dia_nasc|mes_nasc|nascimento|degrau2|\n",
            "+---------+------+-------+------------------+-----------+--------------------+------+----+--------+--------+--------+----------+-------+\n",
            "|Argentina|     6|     DF|    FAZIO Federico|      FAZIO|       AS Roma (ITA)|   199|  85|    1987|      17|      03|1987-03-17|    192|\n",
            "|Argentina|     1|     GK|     GUZMAN Nahuel|     GUZMÁN|   Tigres UANL (MEX)|   192|  90|    1986|      10|      02|1986-02-10|    189|\n",
            "|Argentina|    16|     DF|       ROJO Marcos|       ROJO|Manchester United...|   189|  82|    1990|      20|      03|1990-03-20|    189|\n",
            "|Argentina|    12|     GK|     ARMANI Franco|     ARMANI|CA River Plate (ARG)|   189|  85|    1986|      16|      10|1986-10-16|    186|\n",
            "|Argentina|    23|     GK|CABALLERO Wilfredo|  CABALLERO|    Chelsea FC (ENG)|   186|  80|    1981|      28|      09|1981-09-28|    184|\n",
            "|Argentina|     9|     FW|   HIGUAIN Gonzalo|    HIGUAÍN|   Juventus FC (ITA)|   184|  75|    1987|      10|      12|1987-12-10|    181|\n",
            "|Argentina|     4|     DF|  ANSALDI Cristian|    ANSALDI|     Torino FC (ITA)|   181|  73|    1986|      20|      09|1986-09-20|    181|\n",
            "|Argentina|     2|     DF|   MERCADO Gabriel|    MERCADO|    Sevilla FC (ESP)|   181|  81|    1987|      18|      03|1987-03-18|    181|\n",
            "|Argentina|    17|     DF|  OTAMENDI Nicolas|   OTAMENDI|Manchester City F...|   181|  81|    1988|      12|      02|1988-02-12|    180|\n",
            "|Argentina|    13|     MF|  MEZA Maximiliano|       MEZA|CA Independiente ...|   180|  76|    1992|      15|      12|1992-12-15|    178|\n",
            "|Argentina|    11|     MF|    DI MARIA Angel|   DI MARÍA|Paris Saint-Germa...|   178|  75|    1988|      14|      02|1988-02-14|    177|\n",
            "|Argentina|    21|     FW|      DYBALA Paulo|     DYBALA|   Juventus FC (ITA)|   177|  73|    1993|      15|      11|1993-11-15|    177|\n",
            "|Argentina|    20|     MF|  LO CELSO Giovani|   LO CELSO|Paris Saint-Germa...|   177|  75|    1996|      09|      04|1996-04-09|    175|\n",
            "|Argentina|     5|     MF|      BIGLIA Lucas|     BIGLIA|      AC Milan (ITA)|   175|  73|    1986|      30|      01|1986-01-30|    175|\n",
            "|Argentina|     7|     MF|       BANEGA Ever|     BANEGA|    Sevilla FC (ESP)|   175|  73|    1988|      29|      06|1988-06-29|    174|\n",
            "|Argentina|    14|     DF| MASCHERANO Javier| MASCHERANO|Hebei China Fortu...|   174|  73|    1984|      08|      06|1984-06-08|    172|\n",
            "|Argentina|    19|     FW|     AGUERO Sergio|     AGÜERO|Manchester City F...|   172|  74|    1988|      02|      06|1988-06-02|    172|\n",
            "|Argentina|     8|     DF|      ACUNA Marcos|      ACUÑA|   Sporting CP (POR)|   172|  77|    1991|      28|      10|1991-10-28|    170|\n",
            "|Argentina|    10|     FW|      MESSI Lionel|      MESSI|  FC Barcelona (ESP)|   170|  72|    1987|      24|      06|1987-06-24|    169|\n",
            "|Argentina|     3|     DF|TAGLIAFICO Nicolas| TAGLIAFICO|      AFC Ajax (NED)|   169|  65|    1992|      31|      08|1992-08-31|    169|\n",
            "|Argentina|    22|     MF|    PAVON Cristian|      PAVÓN|CA Boca Juniors (...|   169|  65|    1996|      21|      01|1996-01-21|    167|\n",
            "|Argentina|    15|     MF|    LANZINI Manuel|    LANZINI|West Ham United F...|   167|  66|    1993|      15|      02|1993-02-15|    167|\n",
            "|Argentina|    18|     DF|    SALVIO Eduardo|     SALVIO|    SL Benfica (POR)|   167|  69|    1990|      13|      07|1990-07-13|   NULL|\n",
            "|Australia|    12|     GK|        JONES Brad|      JONES|Feyenoord Rotterd...|   193|  87|    1982|      19|      03|1982-03-19|    190|\n",
            "|Australia|     9|     FW|        JURIC Tomi|      JURIC|     FC Luzern (SUI)|   190|  80|    1991|      22|      07|1991-07-22|    190|\n",
            "|Australia|     6|     DF|    JURMAN Matthew|     JURMAN|Suwon Samsung Blu...|   190|  83|    1989|      08|      12|1989-12-08|    189|\n",
            "|Australia|    23|     MF|         ROGIC Tom|      ROGIC|     Celtic FC (SCO)|   189|  88|    1992|      16|      12|1992-12-16|    188|\n",
            "|Australia|    15|     MF|      JEDINAK Mile|    JEDINAK|Aston Villa FC (ENG)|   188|  78|    1984|      03|      08|1984-08-03|    187|\n",
            "|Australia|     2|     DF|     DEGENEK Milos|    DEGENEK|Yokohama F-Marino...|   187|  85|    1994|      28|      04|1994-04-28|    187|\n",
            "|Australia|    18|     GK|     VUKOVIC Danny|    VUKOVIC|      KRC Genk (BEL)|   187|  94|    1985|      27|      03|1985-03-27|    184|\n",
            "|Australia|     1|     GK|       RYAN Mathew|       RYAN|Brighton & Hove A...|   184|  82|    1992|      08|      04|1992-04-08|    183|\n",
            "|Australia|    20|     DF|   SAINSBURY Trent|  SAINSBURY|Grasshopper Club ...|   183|  76|    1992|      05|      01|1992-01-05|    181|\n",
            "|Australia|     7|     FW|     LECKIE Mathew|     LECKIE|    Hertha BSC (GER)|   181|  84|    1991|      04|      02|1991-02-04|    180|\n",
            "|Australia|    10|     FW|      KRUSE Robbie|      KRUSE|    VfL Bochum (GER)|   180|  66|    1988|      05|      10|1988-10-05|    180|\n",
            "|Australia|     4|     FW|        CAHILL Tim|     CAHILL|   Millwall FC (ENG)|   180|  76|    1979|      06|      12|1979-12-06|    180|\n",
            "|Australia|    22|     MF|    IRVINE Jackson|     IRVINE|  Hull City FC (ENG)|   180|  77|    1993|      07|      03|1993-03-07|    179|\n",
            "|Australia|     3|     DF|    MEREDITH James|   MEREDITH|   Millwall FC (ENG)|   179|  71|    1988|      05|      04|1988-04-05|    178|\n",
            "|Australia|    14|     FW|    MacLAREN Jamie|   MACLAREN|  Hibernian FC (SCO)|   178|  72|    1993|      29|      07|1993-07-29|    178|\n",
            "|Australia|     5|     DF|     MILLIGAN Mark|   MILLIGAN|    Al Ahli SC (KSA)|   178|  78|    1985|      04|      08|1985-08-04|    178|\n",
            "|Australia|    11|     FW|    NABBOUT Andrew|    NABBOUT|    Urawa Reds (JPN)|   178|  85|    1992|      17|      12|1992-12-17|    176|\n",
            "|Australia|    21|     FW|PETRATOS Dimitrios|   PETRATOS|Newcastle United ...|   176|  72|    1992|      10|      11|1992-11-10|    176|\n",
            "|Australia|     8|     MF|    LUONGO Massimo|     LUONGO|Queens Park Range...|   176|  76|    1992|      25|      09|1992-09-25|    173|\n",
            "|Australia|    13|     MF|        MOOY Aaron|       MOOY|Huddersfield Town...|   173|  72|    1990|      15|      09|1990-09-15|    171|\n",
            "|Australia|    17|     FW|     ARZANI Daniel|     ARZANI|Melbourne City FC...|   171|  73|    1999|      04|      01|1999-01-04|    170|\n",
            "|Australia|    16|     DF|       BEHICH Aziz|     BEHICH|     Bursaspor (TUR)|   170|  63|    1990|      16|      12|1990-12-16|    169|\n",
            "|Australia|    19|     DF|     RISDON Joshua|     RISDON|WS Wanderers FC (...|   169|  70|    1992|      27|      07|1992-07-27|   NULL|\n",
            "|  Belgium|     1|     GK|  COURTOIS Thibaut|   COURTOIS|    Chelsea FC (ENG)|   199|  91|    1992|      11|      05|1992-05-11|    197|\n",
            "|  Belgium|    13|     GK|     CASTEELS Koen|   CASTEELS| VfL Wolfsburg (GER)|   197|  86|    1992|      25|      06|1992-06-25|    194|\n",
            "|  Belgium|     8|     MF| FELLAINI Marouane|   FELLAINI|Manchester United...|   194|  85|    1987|      22|      11|1987-11-22|    193|\n",
            "|  Belgium|    12|     GK|    MIGNOLET Simon|   MIGNOLET|  Liverpool FC (ENG)|   193|  87|    1988|      06|      03|1988-03-06|    190|\n",
            "+---------+------+-------+------------------+-----------+--------------------+------+----+--------+--------+--------+----------+-------+\n",
            "only showing top 50 rows\n",
            "\n"
          ]
        }
      ]
    },
    {
      "cell_type": "markdown",
      "source": [
        "# Agregações"
      ],
      "metadata": {
        "id": "xHlBGoiamdPx"
      }
    },
    {
      "cell_type": "markdown",
      "source": [
        "# GroupBy + AGG 1"
      ],
      "metadata": {
        "id": "J652BH9pmtX-"
      }
    },
    {
      "cell_type": "code",
      "source": [
        "df.groupBy('selecao').agg({'altura': 'avg'}).orderBy('avg(altura)', ascending = False).show(50)"
      ],
      "metadata": {
        "colab": {
          "base_uri": "https://localhost:8080/"
        },
        "id": "8jFdPb6fm0JA",
        "outputId": "e4e1d144-9758-45c7-86d6-8802db00d5d1"
      },
      "execution_count": 79,
      "outputs": [
        {
          "output_type": "stream",
          "name": "stdout",
          "text": [
            "+--------------+------------------+\n",
            "|       selecao|       avg(altura)|\n",
            "+--------------+------------------+\n",
            "|        Serbia|186.69565217391303|\n",
            "|       Denmark| 186.6086956521739|\n",
            "|       Germany| 185.7826086956522|\n",
            "|        Sweden| 185.7391304347826|\n",
            "|       Iceland|185.52173913043478|\n",
            "|       Belgium|185.34782608695653|\n",
            "|       Croatia| 185.2608695652174|\n",
            "|       Nigeria|184.52173913043478|\n",
            "|       IR Iran|184.47826086956522|\n",
            "|        Russia| 184.3913043478261|\n",
            "|       Senegal|183.65217391304347|\n",
            "|        France|183.30434782608697|\n",
            "|        Poland|183.17391304347825|\n",
            "|       Tunisia|183.08695652173913|\n",
            "|   Switzerland|182.91304347826087|\n",
            "|       England| 182.7391304347826|\n",
            "|       Morocco|182.69565217391303|\n",
            "|        Panama|182.17391304347825|\n",
            "|Korea Republic| 181.8695652173913|\n",
            "|       Uruguay|181.04347826086956|\n",
            "|         Egypt|             181.0|\n",
            "|     Australia| 180.8695652173913|\n",
            "|        Brazil| 180.7826086956522|\n",
            "|      Colombia| 180.7826086956522|\n",
            "|    Costa Rica|180.69565217391303|\n",
            "|         Spain|179.91304347826087|\n",
            "|        Mexico| 179.7826086956522|\n",
            "|      Portugal| 179.7391304347826|\n",
            "|         Japan| 178.7826086956522|\n",
            "|     Argentina|178.43478260869566|\n",
            "|  Saudi Arabia|177.65217391304347|\n",
            "|          Peru| 177.6086956521739|\n",
            "+--------------+------------------+\n",
            "\n"
          ]
        }
      ]
    },
    {
      "cell_type": "markdown",
      "source": [
        "# GroupBy + AGG 2"
      ],
      "metadata": {
        "id": "Xj3u89MhmgMS"
      }
    },
    {
      "cell_type": "code",
      "source": [
        "df.groupBy('selecao').agg(max('altura')).orderBy('max(altura)', ascending = False).show(50)"
      ],
      "metadata": {
        "colab": {
          "base_uri": "https://localhost:8080/"
        },
        "id": "fXKPdrvum0fm",
        "outputId": "111557f6-87cd-4cd6-e901-fb13a55cad63"
      },
      "execution_count": 80,
      "outputs": [
        {
          "output_type": "stream",
          "name": "stdout",
          "text": [
            "+--------------+-----------+\n",
            "|       selecao|max(altura)|\n",
            "+--------------+-----------+\n",
            "|       Croatia|        201|\n",
            "|       Denmark|        200|\n",
            "|     Argentina|        199|\n",
            "|       Belgium|        199|\n",
            "|        Sweden|        198|\n",
            "|       Iceland|        198|\n",
            "|        France|        197|\n",
            "|       Nigeria|        197|\n",
            "|Korea Republic|        197|\n",
            "|        Panama|        197|\n",
            "|        Russia|        196|\n",
            "|       Senegal|        196|\n",
            "|       Uruguay|        196|\n",
            "|       England|        196|\n",
            "|    Costa Rica|        196|\n",
            "|       Germany|        195|\n",
            "|        Brazil|        195|\n",
            "|        Poland|        195|\n",
            "|        Serbia|        195|\n",
            "|       IR Iran|        194|\n",
            "|         Spain|        194|\n",
            "|         Egypt|        194|\n",
            "|      Colombia|        194|\n",
            "|     Australia|        193|\n",
            "|       Tunisia|        192|\n",
            "|  Saudi Arabia|        192|\n",
            "|   Switzerland|        192|\n",
            "|      Portugal|        191|\n",
            "|       Morocco|        190|\n",
            "|        Mexico|        190|\n",
            "|          Peru|        189|\n",
            "|         Japan|        189|\n",
            "+--------------+-----------+\n",
            "\n"
          ]
        }
      ]
    },
    {
      "cell_type": "markdown",
      "source": [
        "# Where"
      ],
      "metadata": {
        "id": "tDFUpTqVm25b"
      }
    },
    {
      "cell_type": "code",
      "source": [
        "# where é igual ao filter\n",
        "df.where('selecao = \"Brazil\"').where('posicao = \"DF\"').show()\n",
        "\n",
        "# where((condicao 1) & where(condicao 2))"
      ],
      "metadata": {
        "colab": {
          "base_uri": "https://localhost:8080/"
        },
        "id": "KassZpMHm5Fo",
        "outputId": "44f92218-510f-45b2-b33a-1fbad6c4cbe9"
      },
      "execution_count": 84,
      "outputs": [
        {
          "output_type": "stream",
          "name": "stdout",
          "text": [
            "+-------+------+-------+-------------+-----------+--------------------+------+----+--------+--------+--------+----------+\n",
            "|selecao|numero|posicao|    nome_fifa|nome_camisa|                time|altura|peso|ano_nasc|dia_nasc|mes_nasc|nascimento|\n",
            "+-------+------+-------+-------------+-----------+--------------------+------+----+--------+--------+--------+----------+\n",
            "| Brazil|    22|     DF|       FAGNER|     FAGNER|SC Corinthians (BRA)|   168|  67|    1989|      11|      06|1989-06-11|\n",
            "| Brazil|     6|     DF|  FILIPE LUIS|FILIPE LUIS|Atletico Madrid (...|   182|  73|    1985|      09|      08|1985-08-09|\n",
            "| Brazil|    13|     DF|   MARQUINHOS| MARQUINHOS|Paris Saint-Germa...|   183|  75|    1994|      14|      05|1994-05-14|\n",
            "| Brazil|     3|     DF|      MIRANDA|    MIRANDA|FC Internazionale...|   186|  78|    1984|      07|      09|1984-09-07|\n",
            "| Brazil|    14|     DF|       DANILO|     DANILO|Manchester City F...|   184|  78|    1991|      15|      07|1991-07-15|\n",
            "| Brazil|     2|     DF| THIAGO SILVA|   T. SILVA|Paris Saint-Germa...|   183|  79|    1984|      22|      09|1984-09-22|\n",
            "| Brazil|    12|     DF|      MARCELO|    MARCELO|Real Madrid CF (ESP)|   174|  80|    1988|      12|      05|1988-05-12|\n",
            "| Brazil|     4|     DF|PEDRO GEROMEL|    GEROMEL|   Grêmio FBPA (BRA)|   190|  84|    1985|      21|      09|1985-09-21|\n",
            "+-------+------+-------+-------------+-----------+--------------------+------+----+--------+--------+--------+----------+\n",
            "\n"
          ]
        }
      ]
    },
    {
      "cell_type": "code",
      "source": [
        "top_1 = Window.partitionBy('selecao').orderBy(desc('altura'))\n",
        "df.withColumn('top', row_number().over(top_1)).filter('top = \"1\"').show(50)"
      ],
      "metadata": {
        "colab": {
          "base_uri": "https://localhost:8080/"
        },
        "id": "aHd6iNlHolb6",
        "outputId": "f30ccba2-6481-4a14-fca9-6b37f2b4a7a7"
      },
      "execution_count": 97,
      "outputs": [
        {
          "output_type": "stream",
          "name": "stdout",
          "text": [
            "+--------------+------+-------+-------------------+-------------+--------------------+------+----+--------+--------+--------+----------+---+\n",
            "|       selecao|numero|posicao|          nome_fifa|  nome_camisa|                time|altura|peso|ano_nasc|dia_nasc|mes_nasc|nascimento|top|\n",
            "+--------------+------+-------+-------------------+-------------+--------------------+------+----+--------+--------+--------+----------+---+\n",
            "|     Argentina|     6|     DF|     FAZIO Federico|        FAZIO|       AS Roma (ITA)|   199|  85|    1987|      17|      03|1987-03-17|  1|\n",
            "|     Australia|    12|     GK|         JONES Brad|        JONES|Feyenoord Rotterd...|   193|  87|    1982|      19|      03|1982-03-19|  1|\n",
            "|       Belgium|     1|     GK|   COURTOIS Thibaut|     COURTOIS|    Chelsea FC (ENG)|   199|  91|    1992|      11|      05|1992-05-11|  1|\n",
            "|        Brazil|    16|     GK|             CASSIO|       CASSIO|SC Corinthians (BRA)|   195|  92|    1987|      06|      06|1987-06-06|  1|\n",
            "|      Colombia|    13|     DF|         MINA Yerry|      Y. MINA|  FC Barcelona (ESP)|   194|  95|    1994|      23|      09|1994-09-23|  1|\n",
            "|    Costa Rica|    19|     DF|     WASTON Kendall|    K. WASTON|Vancouver Whiteca...|   196|  87|    1988|      01|      01|1988-01-01|  1|\n",
            "|       Croatia|    12|     GK|      KALINIC Lovre|   L. KALINIĆ|      KAA Gent (BEL)|   201|  96|    1990|      03|      04|1990-04-03|  1|\n",
            "|       Denmark|     3|     DF| VESTERGAARD Jannik|  VESTERGAARD|VfL Borussia Mönc...|   200|  98|    1992|      03|      08|1992-08-03|  1|\n",
            "|         Egypt|     6|     DF|       AHMED HEGAZY|    A. HEGAZY|West Bromwich Alb...|   194|  95|    1991|      25|      01|1991-01-25|  1|\n",
            "|       England|    13|     GK|       BUTLAND Jack|      BUTLAND| Stoke City FC (ENG)|   196|  96|    1993|      10|      03|1993-03-10|  1|\n",
            "|        France|    15|     MF|      NZONZI Steven|       NZONZI|    Sevilla FC (ESP)|   197|  87|    1988|      15|      12|1988-12-15|  1|\n",
            "|       Germany|    15|     DF|       SUELE Niklas|         SÜLE|FC Bayern München...|   195|  89|    1995|      03|      09|1995-09-03|  1|\n",
            "|       IR Iran|     1|     GK|     BEIRANVAND Ali|A. BEIRANVAND| Persepolis FC (IRN)|   194|  85|    1992|      21|      09|1992-09-21|  1|\n",
            "|       Iceland|    12|     GK|    SCHRAM Frederik|       SCHRAM|   Roskilde BK (DEN)|   198|  92|    1995|      19|      01|1995-01-19|  1|\n",
            "|         Japan|    22|     DF|       YOSHIDA Maya|      YOSHIDA|Southampton FC (ENG)|   189|  78|    1988|      24|      08|1988-08-24|  1|\n",
            "|Korea Republic|     9|     FW|       KIM Shinwook|      S W KIM|Jeonbuk Hyundai (...|   197|  97|    1988|      14|      04|1988-04-14|  1|\n",
            "|        Mexico|     5|     DF|        REYES Diego|     D. REYES|      FC Porto (POR)|   190|  77|    1992|      19|      09|1992-09-19|  1|\n",
            "|       Morocco|     6|     DF|       SAISS Romain|        SAISS|Wolverhampton Wan...|   190|  76|    1990|      26|      03|1990-03-26|  1|\n",
            "|       Nigeria|    13|     FW|     NWANKWO Simeon|      NWANKWO|    FC Crotone (ITA)|   197|  89|    1992|      07|      05|1992-05-07|  1|\n",
            "|        Panama|    22|     GK|     RODRIGUEZ Alex|    RODRIGUEZ|San Francisco FC ...|   197|  83|    1990|      05|      08|1990-08-05|  1|\n",
            "|          Peru|     1|     GK|      GALLESE Pedro|      GALLESE|CD Tiburones Rojo...|   189|  79|    1990|      23|      02|1990-02-23|  1|\n",
            "|        Poland|     1|     GK|  SZCZESNY Wojciech|     SZCZESNY|   Juventus FC (ITA)|   195|  84|    1990|      18|      04|1990-04-18|  1|\n",
            "|      Portugal|     6|     DF|         JOSE FONTE|        FONTE|Dalian Yifang FC ...|   191|  84|    1983|      22|      12|1983-12-22|  1|\n",
            "|        Russia|    22|     FW|       DZYUBA Artem|       DZYUBA|FC Arsenal Tula (...|   196|  90|    1988|      22|      08|1988-08-22|  1|\n",
            "|  Saudi Arabia|    12|     MF|      MOHAMED KANNO|        KANNO|  Al Hilal SFC (KSA)|   192|  73|    1994|      22|      09|1994-09-22|  1|\n",
            "|       Senegal|    23|     GK|       GOMIS Alfred|        GOMIS|  SPAL Ferrara (ITA)|   196|  80|    1993|      05|      09|1993-09-05|  1|\n",
            "|        Serbia|    15|     DF|  MILENKOVIC Nikola|   MILENKOVIĆ|ACF Fiorentina (ITA)|   195|  90|    1997|      12|      10|1997-10-12|  1|\n",
            "|         Spain|     3|     DF|       PIQUE Gerard|        PIQUÉ|  FC Barcelona (ESP)|   194|  85|    1987|      02|      02|1987-02-02|  1|\n",
            "|        Sweden|     1|     GK|        OLSEN Robin|        OLSEN|  FC Kobenhavn (DEN)|   198|  89|    1990|      08|      01|1990-01-08|  1|\n",
            "|   Switzerland|    20|     DF|      DJOUROU Johan|      DJOUROU|Antalyaspor AS (TUR)|   192|  90|    1987|      18|      01|1987-01-18|  1|\n",
            "|       Tunisia|     1|     GK|BEN MUSTAPHA Farouk| BEN MUSTAPHA|  Al Shabab FC (KSA)|   192|  85|    1989|      01|      07|1989-07-01|  1|\n",
            "|       Uruguay|    19|     DF|   COATES Sebastian|       COATES|   Sporting CP (POR)|   196|  89|    1990|      07|      10|1990-10-07|  1|\n",
            "+--------------+------+-------+-------------------+-------------+--------------------+------+----+--------+--------+--------+----------+---+\n",
            "\n"
          ]
        }
      ]
    },
    {
      "cell_type": "markdown",
      "source": [
        "# Describe"
      ],
      "metadata": {
        "id": "1auaBdvIojZu"
      }
    },
    {
      "cell_type": "code",
      "source": [
        "df.describe().show()"
      ],
      "metadata": {
        "colab": {
          "base_uri": "https://localhost:8080/"
        },
        "id": "KTslR-cpolz1",
        "outputId": "48151402-5195-40b4-9ecd-46976678d41a"
      },
      "execution_count": 98,
      "outputs": [
        {
          "output_type": "stream",
          "name": "stdout",
          "text": [
            "+-------+---------+-----------------+-------+------------+-----------+--------------------+-----------------+-----------------+------------------+------------------+------------------+\n",
            "|summary|  selecao|           numero|posicao|   nome_fifa|nome_camisa|                time|           altura|             peso|          ano_nasc|          dia_nasc|          mes_nasc|\n",
            "+-------+---------+-----------------+-------+------------+-----------+--------------------+-----------------+-----------------+------------------+------------------+------------------+\n",
            "|  count|      736|              736|    736|         736|        736|                 736|              736|              736|               736|               736|               736|\n",
            "|   mean|     NULL|             12.0|   NULL|        NULL|       NULL|                NULL|182.4076086956522|77.18885869565217| 1990.110054347826|15.793478260869565|5.8790760869565215|\n",
            "| stddev|     NULL|6.637760461599851|   NULL|        NULL|       NULL|                NULL|6.930924233929302|7.233778346883639|3.9074472063626775| 8.761123828732469|3.3782493094684387|\n",
            "|    min|Argentina|                1|     DF|ABDALLA SAID|  A. ASHRAF|    1. FC Köln (GER)|              165|               59|              1973|                01|                01|\n",
            "|    max|  Uruguay|               23|     MF|ZUBER Steven|   ŽIVKOVIĆ|Étoile du Sahel (...|              201|               99|              1999|                31|                12|\n",
            "+-------+---------+-----------------+-------+------------+-----------+--------------------+-----------------+-----------------+------------------+------------------+------------------+\n",
            "\n"
          ]
        }
      ]
    },
    {
      "cell_type": "code",
      "source": [
        "df.where('selecao = \"Brazil\"').describe().show(50)"
      ],
      "metadata": {
        "colab": {
          "base_uri": "https://localhost:8080/"
        },
        "id": "NVYkWcUMqI7y",
        "outputId": "aaf1f52c-9041-4db8-9e18-9b2ad762badd"
      },
      "execution_count": 105,
      "outputs": [
        {
          "output_type": "stream",
          "name": "stdout",
          "text": [
            "+-------+-------+-----------------+-------+---------+-----------+--------------------+-----------------+-----------------+-----------------+-----------------+-----------------+\n",
            "|summary|selecao|           numero|posicao|nome_fifa|nome_camisa|                time|           altura|             peso|         ano_nasc|         dia_nasc|         mes_nasc|\n",
            "+-------+-------+-----------------+-------+---------+-----------+--------------------+-----------------+-----------------+-----------------+-----------------+-----------------+\n",
            "|  count|     23|               23|     23|       23|         23|                  23|               23|               23|               23|               23|               23|\n",
            "|   mean|   NULL|             12.0|   NULL|     NULL|       NULL|                NULL|180.7826086956522|76.56521739130434|1989.391304347826|11.26086956521739|6.130434782608695|\n",
            "| stddev|   NULL|6.782329983125267|   NULL|     NULL|       NULL|                NULL|7.354383490255254|8.239737898283606|3.499858833968506|6.876953549252538|2.784769418006175|\n",
            "|    min| Brazil|                1|     DF|  ALISSON|  A. BECKER|       AS Roma (ITA)|              168|               64|             1984|               02|               01|\n",
            "|    max| Brazil|               23|     MF|  WILLIAN|    WILLIAN|SC Corinthians (BRA)|              195|               92|             1997|               25|               10|\n",
            "+-------+-------+-----------------+-------+---------+-----------+--------------------+-----------------+-----------------+-----------------+-----------------+-----------------+\n",
            "\n"
          ]
        }
      ]
    },
    {
      "cell_type": "markdown",
      "source": [
        "# Função de agregação usando Window Function"
      ],
      "metadata": {
        "id": "a-5lO7ASqpgt"
      }
    },
    {
      "cell_type": "code",
      "source": [
        "parametro = Window.partitionBy('selecao').orderBy(desc('altura'))\n",
        "parametro2 = Window.partitionBy('selecao')\n",
        "\n",
        "df.withColumn('linhax', row_number().over(parametro))\\\n",
        ".withColumn('media', avg('altura').over(parametro2))\\\n",
        ".withColumn('maximo', max('altura').over(parametro2))\\\n",
        ".withColumn('minimo', min('altura').over(parametro2))\\\n",
        ".filter('linhax = \"1\"').select('selecao', 'media', 'maximo', 'minimo')\\\n",
        ".orderBy('media', ascending = False).show(50)"
      ],
      "metadata": {
        "colab": {
          "base_uri": "https://localhost:8080/"
        },
        "id": "lHlouw_IquJQ",
        "outputId": "bc52dfc4-b880-4a6f-e746-f9376d01a25b"
      },
      "execution_count": 109,
      "outputs": [
        {
          "output_type": "stream",
          "name": "stdout",
          "text": [
            "+--------------+------------------+------+------+\n",
            "|       selecao|             media|maximo|minimo|\n",
            "+--------------+------------------+------+------+\n",
            "|        Serbia|186.69565217391303|   195|   169|\n",
            "|       Denmark| 186.6086956521739|   200|   171|\n",
            "|       Germany| 185.7826086956522|   195|   176|\n",
            "|        Sweden| 185.7391304347826|   198|   177|\n",
            "|       Iceland|185.52173913043478|   198|   170|\n",
            "|       Belgium|185.34782608695653|   199|   169|\n",
            "|       Croatia| 185.2608695652174|   201|   172|\n",
            "|       Nigeria|184.52173913043478|   197|   172|\n",
            "|       IR Iran|184.47826086956522|   194|   177|\n",
            "|        Russia| 184.3913043478261|   196|   173|\n",
            "|       Senegal|183.65217391304347|   196|   173|\n",
            "|        France|183.30434782608697|   197|   168|\n",
            "|        Poland|183.17391304347825|   195|   172|\n",
            "|       Tunisia|183.08695652173913|   192|   170|\n",
            "|   Switzerland|182.91304347826087|   192|   165|\n",
            "|       England| 182.7391304347826|   196|   170|\n",
            "|       Morocco|182.69565217391303|   190|   167|\n",
            "|        Panama|182.17391304347825|   197|   165|\n",
            "|Korea Republic| 181.8695652173913|   197|   170|\n",
            "|       Uruguay|181.04347826086956|   196|   168|\n",
            "|         Egypt|             181.0|   194|   169|\n",
            "|     Australia| 180.8695652173913|   193|   169|\n",
            "|        Brazil| 180.7826086956522|   195|   168|\n",
            "|      Colombia| 180.7826086956522|   194|   169|\n",
            "|    Costa Rica|180.69565217391303|   196|   172|\n",
            "|         Spain|179.91304347826087|   194|   170|\n",
            "|        Mexico| 179.7826086956522|   190|   166|\n",
            "|      Portugal| 179.7391304347826|   191|   168|\n",
            "|         Japan| 178.7826086956522|   189|   168|\n",
            "|     Argentina|178.43478260869566|   199|   167|\n",
            "|  Saudi Arabia|177.65217391304347|   192|   165|\n",
            "|          Peru| 177.6086956521739|   189|   169|\n",
            "+--------------+------------------+------+------+\n",
            "\n"
          ]
        }
      ]
    }
  ],
  "metadata": {
    "kernelspec": {
      "display_name": ".venv",
      "language": "python",
      "name": "python3"
    },
    "language_info": {
      "codemirror_mode": {
        "name": "ipython",
        "version": 3
      },
      "file_extension": ".py",
      "mimetype": "text/x-python",
      "name": "python",
      "nbconvert_exporter": "python",
      "pygments_lexer": "ipython3",
      "version": "3.9.8"
    },
    "colab": {
      "provenance": [],
      "include_colab_link": true
    }
  },
  "nbformat": 4,
  "nbformat_minor": 0
}