{
  "cells": [
    {
      "cell_type": "markdown",
      "metadata": {
        "id": "view-in-github",
        "colab_type": "text"
      },
      "source": [
        "<a href=\"https://colab.research.google.com/github/narcisonascimento/pyspark-estudos/blob/main/pyspark_estudos_colab.ipynb\" target=\"_parent\"><img src=\"https://colab.research.google.com/assets/colab-badge.svg\" alt=\"Open In Colab\"/></a>"
      ]
    },
    {
      "cell_type": "markdown",
      "metadata": {
        "id": "1FcCuPtJf1C9"
      },
      "source": [
        "# Pyspark Estudos <br>\n",
        "Fundamentos do Pyspark <br>\n",
        "Professor: Renan Marques Rodrigues <br>\n",
        "Youtube: DataDev Academy | https://www.youtube.com/@datadevacademy"
      ]
    },
    {
      "cell_type": "markdown",
      "metadata": {
        "id": "lhDuHS6df1C-"
      },
      "source": [
        "# Instalando bibliotecas"
      ]
    },
    {
      "cell_type": "code",
      "execution_count": 2,
      "metadata": {
        "id": "Zduf_PuAf1C-",
        "outputId": "fa304b4d-f2d9-48a1-b111-c219a5a9394b",
        "colab": {
          "base_uri": "https://localhost:8080/"
        }
      },
      "outputs": [
        {
          "output_type": "stream",
          "name": "stdout",
          "text": [
            "Collecting pyspark\n",
            "  Downloading pyspark-3.5.1.tar.gz (317.0 MB)\n",
            "\u001b[2K     \u001b[90m━━━━━━━━━━━━━━━━━━━━━━━━━━━━━━━━━━━━━━━━\u001b[0m \u001b[32m317.0/317.0 MB\u001b[0m \u001b[31m2.7 MB/s\u001b[0m eta \u001b[36m0:00:00\u001b[0m\n",
            "\u001b[?25h  Preparing metadata (setup.py) ... \u001b[?25l\u001b[?25hdone\n",
            "Requirement already satisfied: py4j==0.10.9.7 in /usr/local/lib/python3.10/dist-packages (from pyspark) (0.10.9.7)\n",
            "Building wheels for collected packages: pyspark\n",
            "  Building wheel for pyspark (setup.py) ... \u001b[?25l\u001b[?25hdone\n",
            "  Created wheel for pyspark: filename=pyspark-3.5.1-py2.py3-none-any.whl size=317488491 sha256=b46d9a82d0d2a21b3809b4f49daed97dfa789527698d16e1de381c257dec929b\n",
            "  Stored in directory: /root/.cache/pip/wheels/80/1d/60/2c256ed38dddce2fdd93be545214a63e02fbd8d74fb0b7f3a6\n",
            "Successfully built pyspark\n",
            "Installing collected packages: pyspark\n",
            "Successfully installed pyspark-3.5.1\n"
          ]
        }
      ],
      "source": [
        "# instalando pyspark\n",
        "# !pip install pyspark"
      ]
    },
    {
      "cell_type": "code",
      "execution_count": null,
      "metadata": {
        "id": "64tctuS5f1C_"
      },
      "outputs": [],
      "source": [
        "# pip freeze"
      ]
    },
    {
      "cell_type": "markdown",
      "metadata": {
        "id": "Tgs_A8UKf1C_"
      },
      "source": [
        "# Importando Bibliotecas"
      ]
    },
    {
      "cell_type": "code",
      "execution_count": 3,
      "metadata": {
        "id": "H958kwzGf1C_"
      },
      "outputs": [],
      "source": [
        "import os\n",
        "import sys\n",
        "\n",
        "from pyspark.sql import SparkSession\n",
        "from pyspark.sql.functions import *\n",
        "from pyspark.sql.types import *\n",
        "\n",
        "# os.environ['PYSPARK_PYTHON'] = sys.executable\n",
        "# os.environ['PYSPARK_DRIVER_PYTHON'] = sys.executable"
      ]
    },
    {
      "cell_type": "markdown",
      "metadata": {
        "id": "nbdqOek6f1C_"
      },
      "source": [
        "Criar / iniciar Sessão PySpark"
      ]
    },
    {
      "cell_type": "code",
      "execution_count": 4,
      "metadata": {
        "id": "JVXv7TLjf1C_"
      },
      "outputs": [],
      "source": [
        "spark = (\n",
        "    SparkSession.builder\n",
        "    .master('local')\n",
        "    .appName('pyspark-estudos')\n",
        "    .getOrCreate()\n",
        ")"
      ]
    },
    {
      "cell_type": "markdown",
      "source": [
        "Criar DF / ler arquivo"
      ],
      "metadata": {
        "id": "5xElpRfKgSdb"
      }
    },
    {
      "cell_type": "markdown",
      "source": [
        "Verificar tipos de colunas"
      ],
      "metadata": {
        "id": "er87iVr2hRI9"
      }
    },
    {
      "cell_type": "code",
      "source": [
        "df = spark.read.csv('/content/wc2018-players.csv', header=True, inferSchema=True)\n",
        "df.show(5)"
      ],
      "metadata": {
        "id": "gr-YtsCkgb_6",
        "outputId": "111c36a2-d3c9-4f07-ecf5-0a4211f6d0a9",
        "colab": {
          "base_uri": "https://localhost:8080/"
        }
      },
      "execution_count": 6,
      "outputs": [
        {
          "output_type": "stream",
          "name": "stdout",
          "text": [
            "+---------+---+----+------------------+----------+----------+--------------------+------+------+\n",
            "|     Team|  #|Pos.| FIFA Popular Name|Birth Date|Shirt Name|                Club|Height|Weight|\n",
            "+---------+---+----+------------------+----------+----------+--------------------+------+------+\n",
            "|Argentina|  3|  DF|TAGLIAFICO Nicolas|31.08.1992|TAGLIAFICO|      AFC Ajax (NED)|   169|    65|\n",
            "|Argentina| 22|  MF|    PAVON Cristian|21.01.1996|     PAVÓN|CA Boca Juniors (...|   169|    65|\n",
            "|Argentina| 15|  MF|    LANZINI Manuel|15.02.1993|   LANZINI|West Ham United F...|   167|    66|\n",
            "|Argentina| 18|  DF|    SALVIO Eduardo|13.07.1990|    SALVIO|    SL Benfica (POR)|   167|    69|\n",
            "|Argentina| 10|  FW|      MESSI Lionel|24.06.1987|     MESSI|  FC Barcelona (ESP)|   170|    72|\n",
            "+---------+---+----+------------------+----------+----------+--------------------+------+------+\n",
            "only showing top 5 rows\n",
            "\n"
          ]
        }
      ]
    },
    {
      "cell_type": "code",
      "source": [
        "df.printSchema()"
      ],
      "metadata": {
        "id": "BTGKnkMAhTUq",
        "outputId": "92b53537-1681-43d8-f02a-e2f8c3f08a96",
        "colab": {
          "base_uri": "https://localhost:8080/"
        }
      },
      "execution_count": 7,
      "outputs": [
        {
          "output_type": "stream",
          "name": "stdout",
          "text": [
            "root\n",
            " |-- Team: string (nullable = true)\n",
            " |-- #: integer (nullable = true)\n",
            " |-- Pos.: string (nullable = true)\n",
            " |-- FIFA Popular Name: string (nullable = true)\n",
            " |-- Birth Date: string (nullable = true)\n",
            " |-- Shirt Name: string (nullable = true)\n",
            " |-- Club: string (nullable = true)\n",
            " |-- Height: integer (nullable = true)\n",
            " |-- Weight: integer (nullable = true)\n",
            "\n"
          ]
        }
      ]
    },
    {
      "cell_type": "markdown",
      "source": [
        "Verificar dados nulos"
      ],
      "metadata": {
        "id": "5UHGUpQOhdxL"
      }
    },
    {
      "cell_type": "code",
      "source": [
        "# transformando em Pandas e efetuando a soma. Aqui só funciona com poucas linhas no dataset\n",
        "df.toPandas().isna().sum()"
      ],
      "metadata": {
        "id": "Yf9av9EahfhT",
        "outputId": "5f8dceb7-3c1d-4e18-d6f7-e20e4d46046f",
        "colab": {
          "base_uri": "https://localhost:8080/"
        }
      },
      "execution_count": 8,
      "outputs": [
        {
          "output_type": "execute_result",
          "data": {
            "text/plain": [
              "Team                 0\n",
              "#                    0\n",
              "Pos.                 0\n",
              "FIFA Popular Name    0\n",
              "Birth Date           0\n",
              "Shirt Name           0\n",
              "Club                 0\n",
              "Height               0\n",
              "Weight               0\n",
              "dtype: int64"
            ]
          },
          "metadata": {},
          "execution_count": 8
        }
      ]
    },
    {
      "cell_type": "code",
      "source": [
        "# verificando as colunas existentes\n",
        "df.columns"
      ],
      "metadata": {
        "colab": {
          "base_uri": "https://localhost:8080/"
        },
        "id": "i4PzgYyYjAPk",
        "outputId": "dea6785c-1cb8-429f-9806-75b1d4826f7f"
      },
      "execution_count": 10,
      "outputs": [
        {
          "output_type": "execute_result",
          "data": {
            "text/plain": [
              "['Team',\n",
              " '#',\n",
              " 'Pos.',\n",
              " 'FIFA Popular Name',\n",
              " 'Birth Date',\n",
              " 'Shirt Name',\n",
              " 'Club',\n",
              " 'Height',\n",
              " 'Weight']"
            ]
          },
          "metadata": {},
          "execution_count": 10
        }
      ]
    },
    {
      "cell_type": "code",
      "source": [
        "# No PySpark deve ser feito um looping for, esse looping demora dependendo do tamanho do dataset\n",
        "\n",
        "for coluna in df.columns:\n",
        "    print(coluna, df.filter(df[coluna].isNull()).count())"
      ],
      "metadata": {
        "id": "8XlMn_7hhuKy",
        "colab": {
          "base_uri": "https://localhost:8080/",
          "height": 356
        },
        "outputId": "509896de-94b2-4f08-949c-c42b9170e3a5"
      },
      "execution_count": 13,
      "outputs": [
        {
          "output_type": "stream",
          "name": "stdout",
          "text": [
            "Team 0\n",
            "# 0\n"
          ]
        },
        {
          "output_type": "error",
          "ename": "AnalysisException",
          "evalue": "Syntax error in attribute name: Pos..",
          "traceback": [
            "\u001b[0;31m---------------------------------------------------------------------------\u001b[0m",
            "\u001b[0;31mAnalysisException\u001b[0m                         Traceback (most recent call last)",
            "\u001b[0;32m<ipython-input-13-13ae4987aaeb>\u001b[0m in \u001b[0;36m<cell line: 3>\u001b[0;34m()\u001b[0m\n\u001b[1;32m      2\u001b[0m \u001b[0;34m\u001b[0m\u001b[0m\n\u001b[1;32m      3\u001b[0m \u001b[0;32mfor\u001b[0m \u001b[0mcoluna\u001b[0m \u001b[0;32min\u001b[0m \u001b[0mdf\u001b[0m\u001b[0;34m.\u001b[0m\u001b[0mcolumns\u001b[0m\u001b[0;34m:\u001b[0m\u001b[0;34m\u001b[0m\u001b[0;34m\u001b[0m\u001b[0m\n\u001b[0;32m----> 4\u001b[0;31m     \u001b[0mprint\u001b[0m\u001b[0;34m(\u001b[0m\u001b[0mcoluna\u001b[0m\u001b[0;34m,\u001b[0m \u001b[0mdf\u001b[0m\u001b[0;34m.\u001b[0m\u001b[0mfilter\u001b[0m\u001b[0;34m(\u001b[0m\u001b[0mdf\u001b[0m\u001b[0;34m[\u001b[0m\u001b[0mcoluna\u001b[0m\u001b[0;34m]\u001b[0m\u001b[0;34m.\u001b[0m\u001b[0misNull\u001b[0m\u001b[0;34m(\u001b[0m\u001b[0;34m)\u001b[0m\u001b[0;34m)\u001b[0m\u001b[0;34m.\u001b[0m\u001b[0mcount\u001b[0m\u001b[0;34m(\u001b[0m\u001b[0;34m)\u001b[0m\u001b[0;34m)\u001b[0m\u001b[0;34m\u001b[0m\u001b[0;34m\u001b[0m\u001b[0m\n\u001b[0m",
            "\u001b[0;32m/usr/local/lib/python3.10/dist-packages/pyspark/sql/dataframe.py\u001b[0m in \u001b[0;36m__getitem__\u001b[0;34m(self, item)\u001b[0m\n\u001b[1;32m   3076\u001b[0m         \"\"\"\n\u001b[1;32m   3077\u001b[0m         \u001b[0;32mif\u001b[0m \u001b[0misinstance\u001b[0m\u001b[0;34m(\u001b[0m\u001b[0mitem\u001b[0m\u001b[0;34m,\u001b[0m \u001b[0mstr\u001b[0m\u001b[0;34m)\u001b[0m\u001b[0;34m:\u001b[0m\u001b[0;34m\u001b[0m\u001b[0;34m\u001b[0m\u001b[0m\n\u001b[0;32m-> 3078\u001b[0;31m             \u001b[0mjc\u001b[0m \u001b[0;34m=\u001b[0m \u001b[0mself\u001b[0m\u001b[0;34m.\u001b[0m\u001b[0m_jdf\u001b[0m\u001b[0;34m.\u001b[0m\u001b[0mapply\u001b[0m\u001b[0;34m(\u001b[0m\u001b[0mitem\u001b[0m\u001b[0;34m)\u001b[0m\u001b[0;34m\u001b[0m\u001b[0;34m\u001b[0m\u001b[0m\n\u001b[0m\u001b[1;32m   3079\u001b[0m             \u001b[0;32mreturn\u001b[0m \u001b[0mColumn\u001b[0m\u001b[0;34m(\u001b[0m\u001b[0mjc\u001b[0m\u001b[0;34m)\u001b[0m\u001b[0;34m\u001b[0m\u001b[0;34m\u001b[0m\u001b[0m\n\u001b[1;32m   3080\u001b[0m         \u001b[0;32melif\u001b[0m \u001b[0misinstance\u001b[0m\u001b[0;34m(\u001b[0m\u001b[0mitem\u001b[0m\u001b[0;34m,\u001b[0m \u001b[0mColumn\u001b[0m\u001b[0;34m)\u001b[0m\u001b[0;34m:\u001b[0m\u001b[0;34m\u001b[0m\u001b[0;34m\u001b[0m\u001b[0m\n",
            "\u001b[0;32m/usr/local/lib/python3.10/dist-packages/py4j/java_gateway.py\u001b[0m in \u001b[0;36m__call__\u001b[0;34m(self, *args)\u001b[0m\n\u001b[1;32m   1320\u001b[0m \u001b[0;34m\u001b[0m\u001b[0m\n\u001b[1;32m   1321\u001b[0m         \u001b[0manswer\u001b[0m \u001b[0;34m=\u001b[0m \u001b[0mself\u001b[0m\u001b[0;34m.\u001b[0m\u001b[0mgateway_client\u001b[0m\u001b[0;34m.\u001b[0m\u001b[0msend_command\u001b[0m\u001b[0;34m(\u001b[0m\u001b[0mcommand\u001b[0m\u001b[0;34m)\u001b[0m\u001b[0;34m\u001b[0m\u001b[0;34m\u001b[0m\u001b[0m\n\u001b[0;32m-> 1322\u001b[0;31m         return_value = get_return_value(\n\u001b[0m\u001b[1;32m   1323\u001b[0m             answer, self.gateway_client, self.target_id, self.name)\n\u001b[1;32m   1324\u001b[0m \u001b[0;34m\u001b[0m\u001b[0m\n",
            "\u001b[0;32m/usr/local/lib/python3.10/dist-packages/pyspark/errors/exceptions/captured.py\u001b[0m in \u001b[0;36mdeco\u001b[0;34m(*a, **kw)\u001b[0m\n\u001b[1;32m    183\u001b[0m                 \u001b[0;31m# Hide where the exception came from that shows a non-Pythonic\u001b[0m\u001b[0;34m\u001b[0m\u001b[0;34m\u001b[0m\u001b[0m\n\u001b[1;32m    184\u001b[0m                 \u001b[0;31m# JVM exception message.\u001b[0m\u001b[0;34m\u001b[0m\u001b[0;34m\u001b[0m\u001b[0m\n\u001b[0;32m--> 185\u001b[0;31m                 \u001b[0;32mraise\u001b[0m \u001b[0mconverted\u001b[0m \u001b[0;32mfrom\u001b[0m \u001b[0;32mNone\u001b[0m\u001b[0;34m\u001b[0m\u001b[0;34m\u001b[0m\u001b[0m\n\u001b[0m\u001b[1;32m    186\u001b[0m             \u001b[0;32melse\u001b[0m\u001b[0;34m:\u001b[0m\u001b[0;34m\u001b[0m\u001b[0;34m\u001b[0m\u001b[0m\n\u001b[1;32m    187\u001b[0m                 \u001b[0;32mraise\u001b[0m\u001b[0;34m\u001b[0m\u001b[0;34m\u001b[0m\u001b[0m\n",
            "\u001b[0;31mAnalysisException\u001b[0m: Syntax error in attribute name: Pos.."
          ]
        }
      ]
    },
    {
      "cell_type": "markdown",
      "source": [
        "Renomear colunas <br>\n",
        "PySpark não aceita pontos no nome e também deve ter atenção com espaço entre palavras."
      ],
      "metadata": {
        "id": "4849wzjHkOtL"
      }
    },
    {
      "cell_type": "code",
      "source": [
        "df = df.withColumnRenamed('Team', 'selecao')\\\n",
        ".withColumnRenamed('#', 'numero')\\\n",
        ".withColumnRenamed('Pos.', 'posicao')\\\n",
        ".withColumnRenamed('FIFA Popular Name', 'nome_fifa')\\\n",
        ".withColumnRenamed('Birth Date', 'data_nascimento')\\\n",
        ".withColumnRenamed('Shirt Name', 'nome_camisa')\\\n",
        ".withColumnRenamed('Club', 'time')\\\n",
        ".withColumnRenamed('Height', 'altura')\\\n",
        ".withColumnRenamed('Weight', 'peso')"
      ],
      "metadata": {
        "id": "-srAGRJskaD6"
      },
      "execution_count": 14,
      "outputs": []
    },
    {
      "cell_type": "code",
      "source": [
        "df.columns"
      ],
      "metadata": {
        "colab": {
          "base_uri": "https://localhost:8080/"
        },
        "id": "HwySg2rFlry6",
        "outputId": "2e338c31-4f4a-4ffe-c3b4-4711f0bfd74e"
      },
      "execution_count": 15,
      "outputs": [
        {
          "output_type": "execute_result",
          "data": {
            "text/plain": [
              "['selecao',\n",
              " 'numero',\n",
              " 'posicao',\n",
              " 'nome_fifa',\n",
              " 'data_nascimento',\n",
              " 'nome_camisa',\n",
              " 'time',\n",
              " 'altura',\n",
              " 'peso']"
            ]
          },
          "metadata": {},
          "execution_count": 15
        }
      ]
    },
    {
      "cell_type": "code",
      "source": [
        "# após as devidas correções é possível efetuar o looping no dataset\n",
        "\n",
        "for coluna in df.columns:\n",
        "    print(coluna, df.filter(df[coluna].isNull()).count())"
      ],
      "metadata": {
        "colab": {
          "base_uri": "https://localhost:8080/"
        },
        "id": "2pUJHi5Ilx5T",
        "outputId": "a5de822d-2804-4427-823a-e1c63f0ad940"
      },
      "execution_count": 16,
      "outputs": [
        {
          "output_type": "stream",
          "name": "stdout",
          "text": [
            "selecao 0\n",
            "numero 0\n",
            "posicao 0\n",
            "nome_fifa 0\n",
            "data_nascimento 0\n",
            "nome_camisa 0\n",
            "time 0\n",
            "altura 0\n",
            "peso 0\n"
          ]
        }
      ]
    },
    {
      "cell_type": "markdown",
      "source": [
        "Selecionar colunas"
      ],
      "metadata": {
        "id": "yR_wEppNl9us"
      }
    },
    {
      "cell_type": "code",
      "source": [
        "# diferente do Pandas o PySpark altera o nome da coluna original quando escrita de forma diferente (caps lock etc).\n",
        "df.select('selecao', 'nome_fifa').show(5)"
      ],
      "metadata": {
        "colab": {
          "base_uri": "https://localhost:8080/"
        },
        "id": "U7gM3e1Yl_ew",
        "outputId": "6b513894-9a5e-4675-d6f9-f2ad68e87839"
      },
      "execution_count": 17,
      "outputs": [
        {
          "output_type": "stream",
          "name": "stdout",
          "text": [
            "+---------+------------------+\n",
            "|  selecao|         nome_fifa|\n",
            "+---------+------------------+\n",
            "|Argentina|TAGLIAFICO Nicolas|\n",
            "|Argentina|    PAVON Cristian|\n",
            "|Argentina|    LANZINI Manuel|\n",
            "|Argentina|    SALVIO Eduardo|\n",
            "|Argentina|      MESSI Lionel|\n",
            "+---------+------------------+\n",
            "only showing top 5 rows\n",
            "\n"
          ]
        }
      ]
    },
    {
      "cell_type": "code",
      "source": [
        "df.select('SELECAO', 'NOME_FIFA').show(5)"
      ],
      "metadata": {
        "colab": {
          "base_uri": "https://localhost:8080/"
        },
        "id": "RooeqFKNmVfL",
        "outputId": "0b31b215-8871-4164-b655-5fc6eb18a26d"
      },
      "execution_count": 19,
      "outputs": [
        {
          "output_type": "stream",
          "name": "stdout",
          "text": [
            "+---------+------------------+\n",
            "|  SELECAO|         NOME_FIFA|\n",
            "+---------+------------------+\n",
            "|Argentina|TAGLIAFICO Nicolas|\n",
            "|Argentina|    PAVON Cristian|\n",
            "|Argentina|    LANZINI Manuel|\n",
            "|Argentina|    SALVIO Eduardo|\n",
            "|Argentina|      MESSI Lionel|\n",
            "+---------+------------------+\n",
            "only showing top 5 rows\n",
            "\n"
          ]
        }
      ]
    },
    {
      "cell_type": "markdown",
      "source": [
        "Pode selecionar colunas com o 'col'"
      ],
      "metadata": {
        "id": "0ph1Mdy2nI96"
      }
    },
    {
      "cell_type": "code",
      "source": [
        "df.select(col('selecao'), col('nome_camisa'), col('altura')).show(5)"
      ],
      "metadata": {
        "colab": {
          "base_uri": "https://localhost:8080/"
        },
        "id": "ObjxaQIMmaHQ",
        "outputId": "8b8ffdb7-c659-45c8-df6e-2781d8099005"
      },
      "execution_count": 24,
      "outputs": [
        {
          "output_type": "stream",
          "name": "stdout",
          "text": [
            "+---------+-----------+------+\n",
            "|  selecao|nome_camisa|altura|\n",
            "+---------+-----------+------+\n",
            "|Argentina| TAGLIAFICO|   169|\n",
            "|Argentina|      PAVÓN|   169|\n",
            "|Argentina|    LANZINI|   167|\n",
            "|Argentina|     SALVIO|   167|\n",
            "|Argentina|      MESSI|   170|\n",
            "+---------+-----------+------+\n",
            "only showing top 5 rows\n",
            "\n"
          ]
        }
      ]
    },
    {
      "cell_type": "markdown",
      "source": [
        "ou pode selecioar com o dataframe['nome_coluna']"
      ],
      "metadata": {
        "id": "kxO6VnArnRTD"
      }
    },
    {
      "cell_type": "code",
      "source": [
        "df.select(df['selecao'], df['nome_camisa'], df['altura']).show(5)"
      ],
      "metadata": {
        "colab": {
          "base_uri": "https://localhost:8080/"
        },
        "id": "nC59M8wAm8wk",
        "outputId": "69b5f465-e247-48f5-870e-3ff6cc509e08"
      },
      "execution_count": 25,
      "outputs": [
        {
          "output_type": "stream",
          "name": "stdout",
          "text": [
            "+---------+-----------+------+\n",
            "|  selecao|nome_camisa|altura|\n",
            "+---------+-----------+------+\n",
            "|Argentina| TAGLIAFICO|   169|\n",
            "|Argentina|      PAVÓN|   169|\n",
            "|Argentina|    LANZINI|   167|\n",
            "|Argentina|     SALVIO|   167|\n",
            "|Argentina|      MESSI|   170|\n",
            "+---------+-----------+------+\n",
            "only showing top 5 rows\n",
            "\n"
          ]
        }
      ]
    },
    {
      "cell_type": "markdown",
      "source": [
        "Selecionar Colunas com ALIAS"
      ],
      "metadata": {
        "id": "1ORxHbxRnbgi"
      }
    },
    {
      "cell_type": "code",
      "source": [
        "df.select(col('selecao').alias('time')).show(5)"
      ],
      "metadata": {
        "colab": {
          "base_uri": "https://localhost:8080/"
        },
        "id": "rCllqUN_ndyd",
        "outputId": "6d9443aa-7e7e-4d98-9bbf-84ea9f42717e"
      },
      "execution_count": 26,
      "outputs": [
        {
          "output_type": "stream",
          "name": "stdout",
          "text": [
            "+---------+\n",
            "|     time|\n",
            "+---------+\n",
            "|Argentina|\n",
            "|Argentina|\n",
            "|Argentina|\n",
            "|Argentina|\n",
            "|Argentina|\n",
            "+---------+\n",
            "only showing top 5 rows\n",
            "\n"
          ]
        }
      ]
    },
    {
      "cell_type": "code",
      "source": [
        "# utilizando o split para separar as colunas\n",
        "df.select('selecao nome_fifa altura'.split()).show(5)"
      ],
      "metadata": {
        "colab": {
          "base_uri": "https://localhost:8080/"
        },
        "id": "W_s-jIdnr0ob",
        "outputId": "b1a3033c-3b88-493f-bdd8-b64f0526f7ae"
      },
      "execution_count": 27,
      "outputs": [
        {
          "output_type": "stream",
          "name": "stdout",
          "text": [
            "+---------+------------------+------+\n",
            "|  selecao|         nome_fifa|altura|\n",
            "+---------+------------------+------+\n",
            "|Argentina|TAGLIAFICO Nicolas|   169|\n",
            "|Argentina|    PAVON Cristian|   169|\n",
            "|Argentina|    LANZINI Manuel|   167|\n",
            "|Argentina|    SALVIO Eduardo|   167|\n",
            "|Argentina|      MESSI Lionel|   170|\n",
            "+---------+------------------+------+\n",
            "only showing top 5 rows\n",
            "\n"
          ]
        }
      ]
    },
    {
      "cell_type": "markdown",
      "source": [
        "Organizar o Select"
      ],
      "metadata": {
        "id": "aSK_LIY3ryKC"
      }
    },
    {
      "cell_type": "code",
      "source": [
        "df.select('nome_camisa', 'altura', 'peso').show(5)"
      ],
      "metadata": {
        "colab": {
          "base_uri": "https://localhost:8080/"
        },
        "id": "t1MVcpmXsI7I",
        "outputId": "83a7fadd-f36d-4fbf-c3e4-1ad4fd34983d"
      },
      "execution_count": 28,
      "outputs": [
        {
          "output_type": "stream",
          "name": "stdout",
          "text": [
            "+-----------+------+----+\n",
            "|nome_camisa|altura|peso|\n",
            "+-----------+------+----+\n",
            "| TAGLIAFICO|   169|  65|\n",
            "|      PAVÓN|   169|  65|\n",
            "|    LANZINI|   167|  66|\n",
            "|     SALVIO|   167|  69|\n",
            "|      MESSI|   170|  72|\n",
            "+-----------+------+----+\n",
            "only showing top 5 rows\n",
            "\n"
          ]
        }
      ]
    },
    {
      "cell_type": "markdown",
      "source": [
        "Filtrar o dataframe"
      ],
      "metadata": {
        "id": "Vqcd15qQsSO-"
      }
    },
    {
      "cell_type": "code",
      "source": [
        "df.filter('selecao = \"Brazil\"').show(10)"
      ],
      "metadata": {
        "colab": {
          "base_uri": "https://localhost:8080/"
        },
        "id": "eT28giVTsUKw",
        "outputId": "b7005fdd-c4ef-4b43-911f-23750fa0324c"
      },
      "execution_count": 29,
      "outputs": [
        {
          "output_type": "stream",
          "name": "stdout",
          "text": [
            "+-------+------+-------+-----------------+---------------+-----------+--------------------+------+----+\n",
            "|selecao|numero|posicao|        nome_fifa|data_nascimento|nome_camisa|                time|altura|peso|\n",
            "+-------+------+-------+-----------------+---------------+-----------+--------------------+------+----+\n",
            "| Brazil|    18|     MF|             FRED|     05.03.1993|       FRED|FC Shakhtar Donet...|   169|  64|\n",
            "| Brazil|    21|     FW|           TAISON|     13.01.1988|     TAISON|FC Shakhtar Donet...|   172|  64|\n",
            "| Brazil|    17|     MF|      FERNANDINHO|     04.05.1985|FERNANDINHO|Manchester City F...|   179|  67|\n",
            "| Brazil|    22|     DF|           FAGNER|     11.06.1989|     FAGNER|SC Corinthians (BRA)|   168|  67|\n",
            "| Brazil|    10|     FW|           NEYMAR|     05.02.1992|  NEYMAR JR|Paris Saint-Germa...|   175|  68|\n",
            "| Brazil|    11|     MF|PHILIPPE COUTINHO|     12.06.1992|P. COUTINHO|  FC Barcelona (ESP)|   172|  68|\n",
            "| Brazil|     7|     FW|    DOUGLAS COSTA|     14.09.1990|   D. COSTA|   Juventus FC (ITA)|   182|  70|\n",
            "| Brazil|     6|     DF|      FILIPE LUIS|     09.08.1985|FILIPE LUIS|Atletico Madrid (...|   182|  73|\n",
            "| Brazil|     9|     FW|    GABRIEL JESUS|     03.04.1997|   G. JESUS|Manchester City F...|   175|  73|\n",
            "| Brazil|    13|     DF|       MARQUINHOS|     14.05.1994| MARQUINHOS|Paris Saint-Germa...|   183|  75|\n",
            "+-------+------+-------+-----------------+---------------+-----------+--------------------+------+----+\n",
            "only showing top 10 rows\n",
            "\n"
          ]
        }
      ]
    },
    {
      "cell_type": "code",
      "source": [
        "# caso o nome da coluna possua espaço, não pode fazer o filter direto como abaixo, deve chamar a função col\n",
        "df.filter('nome_camisa == \"FRED\"').show()"
      ],
      "metadata": {
        "colab": {
          "base_uri": "https://localhost:8080/"
        },
        "id": "0E47Uh6As4iu",
        "outputId": "6663ddb0-71e0-4bb3-9358-7275c19de121"
      },
      "execution_count": 35,
      "outputs": [
        {
          "output_type": "stream",
          "name": "stdout",
          "text": [
            "+-------+------+-------+---------+---------------+-----------+--------------------+------+----+\n",
            "|selecao|numero|posicao|nome_fifa|data_nascimento|nome_camisa|                time|altura|peso|\n",
            "+-------+------+-------+---------+---------------+-----------+--------------------+------+----+\n",
            "| Brazil|    18|     MF|     FRED|     05.03.1993|       FRED|FC Shakhtar Donet...|   169|  64|\n",
            "+-------+------+-------+---------+---------------+-----------+--------------------+------+----+\n",
            "\n"
          ]
        }
      ]
    },
    {
      "cell_type": "code",
      "source": [
        "df.filter(col('nome_camisa') == 'FRED').show()"
      ],
      "metadata": {
        "colab": {
          "base_uri": "https://localhost:8080/"
        },
        "id": "jG6zzjPmtdHM",
        "outputId": "48edbd31-cae7-4d06-e066-11f3dd2723ab"
      },
      "execution_count": 39,
      "outputs": [
        {
          "output_type": "stream",
          "name": "stdout",
          "text": [
            "+-------+------+-------+---------+---------------+-----------+--------------------+------+----+\n",
            "|selecao|numero|posicao|nome_fifa|data_nascimento|nome_camisa|                time|altura|peso|\n",
            "+-------+------+-------+---------+---------------+-----------+--------------------+------+----+\n",
            "| Brazil|    18|     MF|     FRED|     05.03.1993|       FRED|FC Shakhtar Donet...|   169|  64|\n",
            "+-------+------+-------+---------+---------------+-----------+--------------------+------+----+\n",
            "\n"
          ]
        }
      ]
    },
    {
      "cell_type": "markdown",
      "source": [
        "Filtrar DF com 2 condições (and/&)"
      ],
      "metadata": {
        "id": "g5WkMY1QshlB"
      }
    },
    {
      "cell_type": "code",
      "source": [],
      "metadata": {
        "id": "cc5S7TPhsnLW"
      },
      "execution_count": null,
      "outputs": []
    }
  ],
  "metadata": {
    "kernelspec": {
      "display_name": ".venv",
      "language": "python",
      "name": "python3"
    },
    "language_info": {
      "codemirror_mode": {
        "name": "ipython",
        "version": 3
      },
      "file_extension": ".py",
      "mimetype": "text/x-python",
      "name": "python",
      "nbconvert_exporter": "python",
      "pygments_lexer": "ipython3",
      "version": "3.9.8"
    },
    "colab": {
      "provenance": [],
      "include_colab_link": true
    }
  },
  "nbformat": 4,
  "nbformat_minor": 0
}